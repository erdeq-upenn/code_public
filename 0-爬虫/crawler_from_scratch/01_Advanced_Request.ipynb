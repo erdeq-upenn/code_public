{
 "cells": [
  {
   "cell_type": "code",
   "execution_count": null,
   "metadata": {},
   "outputs": [],
   "source": [
    "# default_exp utils"
   ]
  },
  {
   "cell_type": "markdown",
   "metadata": {},
   "source": [
    "# 进阶的爬虫\n",
    "> 1. 更复杂的请求\n",
    "    * 无headers\n",
    "    * 有headers\n",
    "    * 有cookies\n",
    "* JSON 存储数据\n",
    "* 自动识别列表\n",
    "* 自动识别下一页\n",
    "* 自动识别列表上的内容\n",
    "\n",
    "* [Requests文档](https://requests.readthedocs.io/en/master/)\n",
    "* [BeautifulSoup文档](https://beautiful-soup-4.readthedocs.io/en/latest/index.html)\n"
   ]
  },
  {
   "cell_type": "code",
   "execution_count": 2,
   "metadata": {},
   "outputs": [],
   "source": [
    "# export\n",
    "import requests,json,re\n",
    "from bs4 import BeautifulSoup,Tag,NavigableString\n",
    "from collections import Counter"
   ]
  },
  {
   "cell_type": "code",
   "execution_count": 3,
   "metadata": {},
   "outputs": [
    {
     "name": "stdout",
     "output_type": "stream",
     "text": [
      "start: https://www.zhihu.com/topic/19554834/hot\n",
      "Done:200\n",
      "start: https://book.douban.com/tag/%E5%A4%96%E5%9B%BD%E6%96%87%E5%AD%A6\n",
      "Done:200\n",
      "start: https://search.bilibili.com/all?keyword=%E5%A4%A7%E7%88%B7&from_source=banner_search\n",
      "Done:200\n",
      "start: https://github.com/trending\n",
      "Done:200\n",
      "start: https://search.jd.com/Search?keyword=%E7%94%B5%E8%84%91&enc=utf-8&wq=%E7%94%B5%E8%84%91&pvid=254ed16260384a18a34c1c452b6db180\n",
      "Done:200\n",
      "start: https://bj.lianjia.com/ershoufang/\n",
      "Done:200\n",
      "start: http://www.rrys2019.com/html/top/week_fav_list.html\n",
      "<Response [404]> <h1>404: Not Found</h1>\n",
      "\n",
      "start: https://weixin.sogou.com/weixin?type=2&ie=utf8&s_from=hotnews&query=%E9%9B%B7%E7%A5%9E%E5%B1%B1%E6%9C%BA%E5%99%A8%E4%BA%BA%E4%B8%8A%E5%B2%97\n",
      "Done:200\n"
     ]
    }
   ],
   "source": [
    "urls = '''\n",
    "https://www.zhihu.com/topic/19554834/hot\n",
    "https://book.douban.com/tag/%E5%A4%96%E5%9B%BD%E6%96%87%E5%AD%A6\n",
    "https://search.bilibili.com/all?keyword=%E5%A4%A7%E7%88%B7&from_source=banner_search\n",
    "https://github.com/trending\n",
    "https://search.jd.com/Search?keyword=%E7%94%B5%E8%84%91&enc=utf-8&wq=%E7%94%B5%E8%84%91&pvid=254ed16260384a18a34c1c452b6db180\n",
    "https://bj.lianjia.com/ershoufang/\n",
    "http://www.rrys2019.com/html/top/week_fav_list.html\n",
    "https://weixin.sogou.com/weixin?type=2&ie=utf8&s_from=hotnews&query=%E9%9B%B7%E7%A5%9E%E5%B1%B1%E6%9C%BA%E5%99%A8%E4%BA%BA%E4%B8%8A%E5%B2%97\n",
    "'''\n",
    "url_list = urls.strip().split('\\n')\n",
    "soup_list = []\n",
    "\n",
    "for url in url_list:\n",
    "    print('start:',url)\n",
    "    res = requests.get(url,headers={'user-agent':'Mozilla/5.0'})\n",
    "    if res.status_code == 200:\n",
    "        soup = BeautifulSoup(res.text,'lxml')\n",
    "        soup_list.append(soup)\n",
    "        print('Done:%s'%res.status_code)\n",
    "    else:\n",
    "        print(res,res.text)"
   ]
  },
  {
   "cell_type": "code",
   "execution_count": 4,
   "metadata": {},
   "outputs": [
    {
     "data": {
      "text/plain": [
       "False"
      ]
     },
     "execution_count": 4,
     "metadata": {},
     "output_type": "execute_result"
    }
   ],
   "source": [
    "len(soup_list) == len(url_list)"
   ]
  },
  {
   "cell_type": "markdown",
   "metadata": {},
   "source": [
    "## 更复杂的请求\n",
    "> 以豆瓣网为例"
   ]
  },
  {
   "cell_type": "markdown",
   "metadata": {},
   "source": [
    "一开始没有header的请求会被拒绝，因为服务器会把这次的请求当成是机器人，status_code是418"
   ]
  },
  {
   "cell_type": "code",
   "execution_count": 6,
   "metadata": {},
   "outputs": [
    {
     "data": {
      "text/plain": [
       "(<Response [418]>, '')"
      ]
     },
     "execution_count": 6,
     "metadata": {},
     "output_type": "execute_result"
    }
   ],
   "source": [
    "# hide\n",
    "search_query = '1234'\n",
    "url = f'https://www.douban.com/search?q={search_query}'\n",
    "res = requests.get(url)\n",
    "res,res.text"
   ]
  },
  {
   "cell_type": "markdown",
   "metadata": {},
   "source": [
    "加了header之后，服务器就把它当成了Mozilla浏览器，就有response的数据了"
   ]
  },
  {
   "cell_type": "code",
   "execution_count": 7,
   "metadata": {},
   "outputs": [
    {
     "data": {
      "text/plain": [
       "<Response [200]>"
      ]
     },
     "execution_count": 7,
     "metadata": {},
     "output_type": "execute_result"
    }
   ],
   "source": [
    "# hide\n",
    "headers = {'user-agent':'Mozilla/5.0'}\n",
    "res = requests.get(url,headers=headers)\n",
    "res"
   ]
  },
  {
   "cell_type": "markdown",
   "metadata": {},
   "source": [
    "想要发布一个动态就需要登录状态，而cookie就是登录状态的载体，cookie就是用帐号密码登录后获取的凭证"
   ]
  },
  {
   "cell_type": "code",
   "execution_count": 8,
   "metadata": {},
   "outputs": [],
   "source": [
    "# hide\n",
    "url = 'https://www.douban.com/'\n",
    "data = {'comment':'hello world','ck':'zV8Z','privacy_and_reply_limit':'P,'}"
   ]
  },
  {
   "cell_type": "code",
   "execution_count": 9,
   "metadata": {},
   "outputs": [],
   "source": [
    "# export\n",
    "def format_cookie_str(cookie_str):\n",
    "    '把chrome拷贝过来的cookie字符转化成dict'\n",
    "    cookies = {}\n",
    "    for item in cookie_str.split('; '):\n",
    "        k,v = item.split('=',1)\n",
    "        cookies[k] = v\n",
    "    return cookies"
   ]
  },
  {
   "cell_type": "code",
   "execution_count": 10,
   "metadata": {},
   "outputs": [
    {
     "data": {
      "text/plain": [
       "{'bid': '1i8YWHFPDwI',\n",
       " 'gr_user_id': '5b798ccf-0dc3-41f7-9358-ab221ae5c248',\n",
       " '__utmc': '30149280',\n",
       " '__utmz': '30149280.1582040380.5.5.utmcsr=google|utmccn=(organic)|utmcmd=organic|utmctr=(not%20provided)',\n",
       " 'll': '\"118124\"',\n",
       " '_pk_ref.100001.8cb4': '%5B%22%22%2C%22%22%2C1582185091%2C%22https%3A%2F%2Fwww.google.com%2F%22%5D',\n",
       " '_pk_ses.100001.8cb4': '*',\n",
       " '__utma': '30149280.682236232.1580713449.1582121697.1582185095.7',\n",
       " 'ap_v': '0,6.0',\n",
       " 'viewed': '\"19672873_30243169_4233221\"',\n",
       " 'gr_cs1_6bb1b2b8-0a3e-4e02-9e3c-4f359d514576': 'user_id%3A0',\n",
       " '__utmt_douban': '1',\n",
       " 'dbcl2': '\"140014301:Td6zJ+yn5sA\"',\n",
       " 'ck': 'zV8Z',\n",
       " 'gr_session_id_22c937bbd8ebd703f2d8e9445f7dfd03': '7a596b44-fe53-45f0-90fa-2c24b2faa365',\n",
       " 'gr_cs1_7a596b44-fe53-45f0-90fa-2c24b2faa365': 'user_id%3A1',\n",
       " 'gr_session_id_22c937bbd8ebd703f2d8e9445f7dfd03_7a596b44-fe53-45f0-90fa-2c24b2faa365': 'true',\n",
       " 'push_noty_num': '0',\n",
       " 'push_doumail_num': '0',\n",
       " '__utmv': '30149280.14001',\n",
       " '__utmt': '1',\n",
       " 'ps': 'y',\n",
       " '_pk_id.100001.8cb4': '7bc8021c269d7e50.1580713448.6.1582185748.1582121848.',\n",
       " '__utmb': '30149280.18.10.1582185095'}"
      ]
     },
     "execution_count": 10,
     "metadata": {},
     "output_type": "execute_result"
    }
   ],
   "source": [
    "cookie_str = 'bid=1i8YWHFPDwI; gr_user_id=5b798ccf-0dc3-41f7-9358-ab221ae5c248; __utmc=30149280; __utmz=30149280.1582040380.5.5.utmcsr=google|utmccn=(organic)|utmcmd=organic|utmctr=(not%20provided); ll=\"118124\"; _pk_ref.100001.8cb4=%5B%22%22%2C%22%22%2C1582185091%2C%22https%3A%2F%2Fwww.google.com%2F%22%5D; _pk_ses.100001.8cb4=*; __utma=30149280.682236232.1580713449.1582121697.1582185095.7; ap_v=0,6.0; viewed=\"19672873_30243169_4233221\"; gr_cs1_6bb1b2b8-0a3e-4e02-9e3c-4f359d514576=user_id%3A0; __utmt_douban=1; dbcl2=\"140014301:Td6zJ+yn5sA\"; ck=zV8Z; gr_session_id_22c937bbd8ebd703f2d8e9445f7dfd03=7a596b44-fe53-45f0-90fa-2c24b2faa365; gr_cs1_7a596b44-fe53-45f0-90fa-2c24b2faa365=user_id%3A1; gr_session_id_22c937bbd8ebd703f2d8e9445f7dfd03_7a596b44-fe53-45f0-90fa-2c24b2faa365=true; push_noty_num=0; push_doumail_num=0; __utmv=30149280.14001; __utmt=1; ps=y; _pk_id.100001.8cb4=7bc8021c269d7e50.1580713448.6.1582185748.1582121848.; __utmb=30149280.18.10.1582185095'\n",
    "cookies = format_cookie_str(cookie_str)\n",
    "cookies"
   ]
  },
  {
   "cell_type": "code",
   "execution_count": 11,
   "metadata": {},
   "outputs": [
    {
     "data": {
      "text/plain": [
       "'\\n\\n\\n<!DOCTYPE HTML>\\n<html lang=\"zh-cmn-Hans\" class=\"\">\\n<head>\\n<meta charset=\"UTF-8\">\\n<meta name=\"google-site-verification\" content=\"ok0wCgT20tBBgo9_zat2iAcimtN4Ftf5ccsh092Xeyw\" />\\n<meta name=\"description\" content=\"提供图书、电影、音乐唱片的推荐、评论和价格比较，以及城市独特的文化生活。\">\\n<meta name=\"keywords\" content=\"豆瓣,小组,电影,同城,豆品,广播,登录豆瓣\">\\n<meta property=\"qc:admins\" content=\"2554215131764752166375\" />\\n<meta property=\"wb:webmaster\" content=\"375d4a17a4fa24c2\" />\\n<meta name=\"mobile-agent\" content=\"format=html5; url=https://m.douban.com\">\\n<title>豆瓣</title>\\n<script>\\nfunction set_cookie(t,e,o,n){var i,a,r=new Date;r.setTime(r.getTime()+24*(e||30)*60*60*1e3),i=\"; expires=\"+r.toGMTString();for(a in t)document.cookie=a+\"=\"+t[a]+i+\"; domain=\"+(o||\"douban.com\")+\"; path=\"+(n||\"/\")}function get_cookie(t){var e,o,n=t+\"=\",i=document.cookie.split(\";\");for(e=0;e<i.length;e++){for(o=i[e];\" \"==o.charAt(0);)o=o.substring(1,o.length);if(0===o.indexOf(n))return o.substring(n.length,o.length).replace(/\\\\\"/g,\"\")}return null}window.Douban=window.Douban||{};var Do=function(){Do.actions.push([].slice.call(arguments))};Do.ready=function(){Do.actions.push([].slice.call(arguments))},Do.add=Do.define=function(t,e){Do.mods[t]=e},Do.global=function(){Do.global.mods=Array.prototype.concat(Do.global.mods,[].slice.call(arguments))},Do.global.mods=[],Do.mods={},Do.actions=[],Douban.init_show_login=function(t){Do(\"dialog\",function(){var t=\"/j/misc/login_form\";dui.Dialog({title:\"登录\",url:t,width:/device-mobile/i.test(document.documentElement.className)?.9*document.documentElement.offsetWidth:350,cache:!0,callback:function(t,e){e.node.addClass(\"dialog-login\"),e.node.find(\"h2\").css(\"display\",\"none\"),e.node.find(\".hd h3\").replaceWith(e.node.find(\".bd h3\")),e.node.find(\"form\").css({border:\"none\",width:\"auto\",padding:\"0\"}),e.update()}}).open()})},Do(function(){function t(t,e){var o=[\"ref=\"+encodeURIComponent(location.pathname)];for(var n in e)e.hasOwnProperty(n)&&o.push(n+\"=\"+e[n]);window._SPLITTEST&&o.push(\"splittest=\"+window._SPLITTEST),localStorage.setItem(\"report\",(localStorage.getItem(\"report\")||\"\")+\"_moreurl_separator_\"+o.join(\"&\"))}!function(){\"localStorage\"in window||(window.localStorage=function(){var t=document;if(!t.documentElement.addBehavior)throw\"don\\'t support localstorage or userdata.\";var e=\"_localstorage_ie\",o=t.createElement(\"input\");o.type=\"hidden\";var n=function(n){return function(){t.body.appendChild(o),o.addBehavior(\"#default#userData\");var i=new Date;i.setDate(i.getDate()+365),o.expires=i.toUTCString(),o.load(e);var a=n.apply(o,arguments);return t.body.removeChild(o),a}};return{getItem:n(function(t){return this.getAttribute(t)}),setItem:n(function(t,o){this.setAttribute(t,o),this.save(e)}),removeItem:n(function(t){this.removeAttribute(t),this.save(e)}),clear:n(function(){for(var t,o=this.XMLDocument.documentElement.attributes,n=0;t=o[n];n++)this.removeAttribute(t.name);this.save(e)})}}())}(),$(window).one(\"load\",function(){var t=localStorage.getItem(\"report\");if(t){t=t.split(\"_moreurl_separator_\");var e=function(o){return\"\"==o?void e(t.shift()):void $.get(\"undefined\"==typeof _MOREURL_REQ?\"/stat.html?\"+o:_MOREURL_REQ+\"?\"+o,function(){return t.length?(e(t.shift()),void localStorage.setItem(\"report\",t.join(\"_moreurl_separator_\"))):void localStorage.removeItem(\"report\")})};e(t.shift())}}),window.moreurl=t,$(document).click(function(e){var o=e.target,n=$(o).data(\"moreurl-dict\");n&&t(o,n)}),$.ajax_withck=function(t){return\"POST\"==t.type&&(t.data=$.extend(t.data||{},{ck:get_cookie(\"ck\")})),$.ajax(t)},$.postJSON_withck=function(t,e,o){return $.post_withck(t,e,o,\"json\")},$.post_withck=function(t,e,o,n){return $.isFunction(e)&&(n=o,o=e,e={}),$.ajax({type:\"POST\",url:t,data:$.extend(e,{ck:get_cookie(\"ck\")}),success:o,dataType:n||\"text\"})},$(\"html\").click(function(t){var e=$(t.target),o=e.attr(\"class\");o&&$(o.match(/a_(\\\\w+)/gi)).each($.proxy(function(e,o){var n=Douban[o.replace(/^a_/,\"init_\")];\"function\"==typeof n&&(t.preventDefault(),n.call(this,t))},e[0]))})});\\nDo.add(\\'dialog\\', {path: \\'https://img9.doubanio.com/f/shire/383a6e43f2108dc69e3ff2681bc4dc6c72a5ffb0/js/ui/dialog.js\\', type: \\'js\\', requires: [\\'https://img9.doubanio.com/f/shire/8377b9498330a2e6f056d863987cc7a37eb4d486/css/ui/dialog.css\\']});\\nDo.global(\\'https://img9.doubanio.com/f/sns/b5793c2d7c298173d57ecf7d96708b5615336def/js/sns/fp/base.js\\', \\'dialog\\');\\n</script>\\n<link rel=\"stylesheet\" href=\"https://img9.doubanio.com/f/shire/32336a6003aedfb3aed372bf3ae0b51c92d12316/css/core/_init_.css\">\\n<link rel=\"stylesheet\" href=\"https://img9.doubanio.com/f/sns/9d57748637cabc648a8ff1116bb0f2249560b6f8/css/sns/dist/anonymous_home/index.css\">\\n<style type=\"text/css\">\\n.rec_topics_name{\\n    display: inline-block;\\n    margin-bottom: 6px;\\n    font-size: 14px;\\n    line-height: 1.3;\\n    color: #3377aa;\\n}\\n.rec_topics_subtitle{\\n    display: block;\\n    margin-bottom: 15px;\\n    font-size: 13px;\\n    line-height: 1;\\n    color: #aaaaaa;\\n    white-space: nowrap;\\n    overflow: hidden;\\n    text-overflow: ellipsis;\\n}\\n.rec_topics_label{\\n    transform: translateY(-0.5px);\\n    display: inline-block;\\n    font-size: 13px;\\n    margin-left: 2px;\\n}\\n.rec_topics{\\n    line-height: 1;\\n    margin-bottom: 15px;\\n}\\n.rec_topics:last-child{\\n    margin-bottom: 0;\\n}\\n.rec_topics_label_ad{\\n    color: #c9c9c9;\\n    -moz-transform: scale(0.91);\\n    -webkit-transform: scale(0.91);\\n    transform: scale(0.91);\\n}\\n\\nhtml[class*=ua-ff] .rec_topics_subtitle{\\n    line-height: 14px;\\n}\\n\\n</style>\\n</head>\\n\\n<body class=\\'\\'>\\n\\n\\n<div>\\n  <div id=\"anony-nav-banner\"\\n    style=\"clear: both;overflow: hidden;background-color: #EDF4EC;margin-bottom: 30px;margin-top: -30px;\">\\n    <h1 id=\"douban-logo\"\\n      style=\"height: 20px;width: 102px;margin: 7px 13px;background-size: contain;\">\\n      <a href=\"https://www.douban.com\"\\n        style=\"height: 20px;\">豆瓣</a>\\n    </h1>\\n  </div>\\n  <div id=\"anony-nav\">\\n    <div class=\"anony-nav-links\">\\n      <ul>\\n        <li>\\n          <a target=\"_blank\" class=\"lnk-book\" href=\"https://book.douban.com\">豆瓣读书</a>\\n        </li>\\n        <li> \\n          <a target=\"_blank\" class=\"lnk-movie\" href=\"https://movie.douban.com\">豆瓣电影</a>\\n        </li>\\n        <li>\\n          <a target=\"_blank\" class=\"lnk-music\" href=\"https://music.douban.com\">豆瓣音乐</a>\\n        </li>\\n        <li>\\n          <a target=\"_blank\" class=\"lnk-events\" href=\"https://www.douban.com/location/\">豆瓣同城</a>\\n        </li>\\n        <li>\\n          <a target=\"_blank\" class=\"lnk-group\" href=\"https://www.douban.com/group/\">豆瓣小组</a>\\n        </li>\\n        <li>\\n          <a target=\"_blank\" class=\"lnk-read\" href=\"https://read.douban.com\">豆瓣阅读</a>\\n        </li>\\n        <li>\\n          <a target=\"_blank\" class=\"lnk-fm\" href=\"https://douban.fm\">豆瓣FM</a>\\n        </li>\\n        <li>\\n          <a target=\"_blank\" class=\"lnk-shijian\" href=\"https://time.douban.com/?dt_time_source=douban-web_anonymous_index_top_nav\">豆瓣时间</a>\\n        </li>\\n        <li>\\n          <a target=\"_blank\" class=\"lnk-market\" href=\"https://market.douban.com?utm_campaign=anonymous_top_nav&utm_source=douban&utm_medium=pc_web\">豆瓣豆品</a>\\n        </li>\\n      </ul>\\n    </div>\\n\\n    <div class=\"site-name\" title=\"豆瓣网\"\\n      style=\"display: inline-block; line-height: 24px; height: 24px; margin-top: 4px;margin-right: 24px;width: 73px;background-image: url(https://img9.doubanio.com/f/sns/714b8751a533ef592bea5cd4603dbb9e713ded61/pics/sns/sitename.png);background-size: contain; background-repeat: no-repeat;text-indent: -999em;\">\\n      豆瓣网\\n    </div>\\n\\n    <div class=\"anony-srh\">\\n    <form action=\"https://www.douban.com/search\" method=\"get\">\\n      <span class=\"inp\"><input type=\"text\" maxlength=\"60\" size=\"12\" placeholder=\"书籍、电影、音乐、小组、小站、成员\" name=\"q\" autocomplete=\"off\"></span>\\n    <span class=\"bn\"><input type=\"submit\" value=\"搜索\"></span>\\n    </form>\\n    </div>\\n  </div>\\n</div>\\n\\n\\n<div id=\"anony-reg-new\" style=\"background-image: url(https://img9.doubanio.com/view/puppy_image/raw/public/1771365ca98ig9er706.jpg)\">\\n  <div class=\"wrapper\">\\n    <div class=\"login\">\\n      <iframe style=\"height: 300px; width: 300px;\" frameborder=\\'0\\' src=\"//accounts.douban.com/passport/login_popup?login_source=anony\"></iframe>\\n    </div>\\n    <div class=\"app\">\\n      <p class=\"app-title\">豆瓣<span>7.0</span></p>\\n      <p class=\"app-slogan\"></p>\\n      <a href=\"https://www.douban.com/doubanapp/app?channel=nimingye\" class=\"lnk-app\">下载豆瓣 App</a>\\n      <div class=\"app-qr\">\\n        <a href=\"javascript: void 0;\" class=\"lnk-qr\" id=\"expand-qr\"><img src=\"https://img9.doubanio.com/f/sns/0c708de69ce692883c1310053c5748c538938cb0/pics/sns/anony_home/icon_qrcode_green.png\" width=\"28\" height=\"28\" /></a>\\n        <div class=\"app-qr-expand\">\\n          <img src=\"https://img9.doubanio.com/f/sns/1cad523e614ec4ecb6bf91b054436bb79098a958/pics/sns/anony_home/doubanapp_qrcode.png\" width=\"160\" height=\"160\" />\\n          <p>iOS / Android 扫码直接下载</p>\\n        </div>\\n      </div>\\n    </div>\\n  </div>\\n  <script>\\n  Do(function() {\\n    var app_qr = $(\\'.app-qr\\');\\n    app_qr.hover(function() {\\n      app_qr.addClass(\\'open\\');\\n    }, function() {\\n      app_qr.removeClass(\\'open\\');\\n    });\\n  });\\n  </script>\\n</div>\\n\\n\\n\\n\\n      \\n<div id=\"anony-sns\" class=\"section\">\\n  <div class=\"wrapper\">\\n  \\n<!-- douban ad begin -->\\n<div id=\"dale_anonymous_homepage_top_for_crazy_ad\"></div>\\n<!-- douban ad end -->\\n\\n  \\n  <div class=\"side\">\\n  <div style=\"margin:10px 0px;\">\\n    <div id=\"dale_anonymous_homepage_right_top\"></div>\\n  </div>\\n  <div class=\"online\">\\n    <ul>\\n      \\n\\n\\n\\n\\n\\n\\n<div class=\"mod\">\\n    \\n    <h2>\\n        热门话题\\n            &nbsp;&middot;&nbsp;&middot;&nbsp;&middot;&nbsp;&middot;&nbsp;&middot;&nbsp;&middot;\\n            <span class=\"pl\">&nbsp;(\\n                \\n                    <a href=\"/gallery/\" target=\"_self\">去话题广场</a>\\n                ) </span>\\n    </h2>\\n\\n\\n    <ul>\\n        \\n            <li class=\"rec_topics\">\\n                    <a href=\"https://www.douban.com/gallery/topic/323589/?from=hot_topic_anony_sns\" class=\"rec_topics_name\">我们的母语羞涩症结</a>\\n                    \\n                    <span class=\"rec_topics_subtitle\">23.4万次浏览</span>\\n            </li>\\n            <li class=\"rec_topics\">\\n                    <a href=\"https://www.douban.com/gallery/topic/160283/?from=hot_topic_anony_sns\" class=\"rec_topics_name\">藏在照片里的青春</a>\\n                    \\n                    <span class=\"rec_topics_subtitle\">495.0万次浏览</span>\\n            </li>\\n            <li class=\"rec_topics\">\\n                    <a href=\"https://www.douban.com/gallery/topic/324623/?from=hot_topic_anony_sns\" class=\"rec_topics_name\">我当年的高考作文</a>\\n                    \\n                    <span class=\"rec_topics_subtitle\">新话题 · 6.7万次浏览</span>\\n            </li>\\n            <li class=\"rec_topics\">\\n                    <a href=\"https://www.douban.com/gallery/topic/323588/?from=hot_topic_anony_sns\" class=\"rec_topics_name\">高考前的最后一课</a>\\n                    \\n                    <span class=\"rec_topics_subtitle\">112.7万次浏览</span>\\n            </li>\\n            <li class=\"rec_topics\">\\n                    <a href=\"https://www.douban.com/gallery/topic/323946/?from=hot_topic_anony_sns\" class=\"rec_topics_name\">影视剧中错误知识点盘点</a>\\n                    \\n                    <span class=\"rec_topics_subtitle\">13.6万次浏览</span>\\n            </li>\\n            <li class=\"rec_topics\">\\n                    <a href=\"https://www.douban.com/gallery/topic/321533/?from=hot_topic_anony_sns\" class=\"rec_topics_name\">你在掌握了哪些技巧之后而厨艺大增的？</a>\\n                    \\n                    <span class=\"rec_topics_subtitle\">新话题 · 2.3万次浏览</span>\\n            </li>\\n    </ul>\\n</div>\\n\\n      <!-- douban ad begin -->\\n      <li>\\n        <div id=\"dale_homepage_online_activity_promo_1\"></div>\\n      </li>\\n      <li>\\n        <div id=\"dale_anonymous_homepage_doublemint\"></div>\\n      </li>\\n      <!-- douban ad end -->\\n    </ul>\\n  </div>\\n</div>\\n  <div class=\"main\">\\n<div class=\"mod\">\\n\\n  \\n    <h2>\\n        热点内容\\n            &nbsp;&middot;&nbsp;&middot;&nbsp;&middot;&nbsp;&middot;&nbsp;&middot;&nbsp;&middot;\\n            <span class=\"pl\">&nbsp;(\\n                \\n                    <a href=\"https://www.douban.com/explore/\" target=\"_self\">更多</a>\\n                ) </span>\\n    </h2>\\n\\n  <div class=\"albums\">\\n    <ul>\\n      <li>\\n      <div class=\"pic\">\\n          <a href=\"https://www.douban.com/photos/album/1868614728/\"><img src=\"https://img9.doubanio.com/f/shire/a1fdee122b95748d81cee426d717c05b5174fe96/pics/blank.gif\" data-origin=\"https://img9.doubanio.com/view/photo/albumcover/public/p2645156498.jpg\" alt=\"\" /></a>\\n      </div>\\n      <a href=\"https://www.douban.com/photos/album/1868614728/\">剪纸绘本（3）</a>\\n      <span class=\"num\">17张照片</span>\\n      <li>\\n      <div class=\"pic\">\\n          <a href=\"https://www.douban.com/photos/album/132170831/\"><img src=\"https://img9.doubanio.com/f/shire/a1fdee122b95748d81cee426d717c05b5174fe96/pics/blank.gif\" data-origin=\"https://img9.doubanio.com/view/photo/albumcover/public/p2460567826.jpg\" alt=\"\" /></a>\\n      </div>\\n      <a href=\"https://www.douban.com/photos/album/132170831/\">路过的路</a>\\n      <span class=\"num\">157张照片</span>\\n      <li>\\n      <div class=\"pic\">\\n          <a href=\"https://www.douban.com/photos/album/1880895311/\"><img src=\"https://img9.doubanio.com/f/shire/a1fdee122b95748d81cee426d717c05b5174fe96/pics/blank.gif\" data-origin=\"https://img9.doubanio.com/view/photo/albumcover/public/p2628498670.jpg\" alt=\"\" /></a>\\n      </div>\\n      <a href=\"https://www.douban.com/photos/album/1880895311/\">女权相关插画</a>\\n      <span class=\"num\">25张照片</span>\\n      <li>\\n      <div class=\"pic\">\\n          <a href=\"https://www.douban.com/photos/album/125961240/\"><img src=\"https://img9.doubanio.com/f/shire/a1fdee122b95748d81cee426d717c05b5174fe96/pics/blank.gif\" data-origin=\"https://img9.doubanio.com/view/photo/albumcover/public/p2237402677.jpg\" alt=\"\" /></a>\\n      </div>\\n      <a href=\"https://www.douban.com/photos/album/125961240/\">2014-2015水彩</a>\\n      <span class=\"num\">73张照片</span>\\n    </ul>\\n  </div>\\n  <div class=\"notes\">\\n    <ul>\\n      <li class=\"first\">\\n      <div class=\"title\">\\n          <a href=\"https://www.douban.com/note/804249895/\">浣花溪跑步</a>\\n      </div>\\n      <div class=\"author\">\\n        章山的日记\\n      </div>\\n      <p>前段时间，不记得是哪一次跑步冒出的想法——可以带客人一起跑呀，分享沿途这么美丽的风景，会是一件很快乐的事。这是一条跑了一年半优化而成的路线。心有所想而不把它表达...</p>\\n      </li>\\n\\n      <li><a href=\"https://www.douban.com/note/803448991/\">我家的囤积史</a></li>\\n      <li><a href=\"https://www.douban.com/note/801374878/\">突聋日记（一）</a></li>\\n      <li><a href=\"https://www.douban.com/note/803767063/\">作者交的“最终版”，离真正定稿会有多远？（其一)</a></li>\\n      <li><a href=\"https://www.douban.com/note/802210259/\">突聋日记（二）听力下降是一种怎样的感受？</a></li>\\n      <li><a href=\"https://www.douban.com/note/803289412/\">让孩子在日常生活中爱上体能训练</a></li>\\n      <li><a href=\"https://www.douban.com/note/803300916/\">子宫肌瘤摘除记</a></li>\\n      <li><a href=\"https://www.douban.com/note/803979249/\">故宫 实习无关的实习感想</a></li>\\n      <li><a href=\"https://www.douban.com/note/803274306/\">抓贼记</a></li>\\n      <li><a href=\"https://www.douban.com/note/803341086/\">在豆瓣相遇，相恋一年，我们结婚了！</a></li>\\n    </ul>\\n  </div>\\n</div>\\n</div>\\n  </div>\\n  \\n\\n</div>\\n\\n\\n\\n\\n\\n\\n\\n\\n      \\n<div id=\"anony-time\" class=\"section\">\\n  <div class=\"wrapper\">\\n  \\n  \\n    <div class=\"sidenav\">\\n        <h2 class=\"section-title\"><a href=\"https://time.douban.com?dt_time_source=douban-web_anonymous\">豆瓣时间</a></h2>\\n    </div>\\n\\n  <div class=\"side\"></div>\\n  <div class=\"main\">\\n    \\n    <h2>\\n        热门专栏\\n            &nbsp;&middot;&nbsp;&middot;&nbsp;&middot;&nbsp;&middot;&nbsp;&middot;&nbsp;&middot;\\n            <span class=\"pl\">&nbsp;(\\n                \\n                    <a href=\"https://time.douban.com?dt_time_source=douban-web_anonymous\" target=\"_self\">更多</a>\\n                ) </span>\\n    </h2>\\n\\n\\n    \\n\\n\\n\\n<ul class=\"time-list\">\\n        <li>\\n            \\n            <a class=\"cover time-article  \" href=\"https://m.douban.com/time/column/45?dt_time_source=douban-web_anonymous\" target=\"_blank\">\\n                <img src=\"https://img9.doubanio.com/dae/niffler/niffler/images/2621f522-50ad-11e7-a3d6-0242ac110041.png\" alt=\"拍张好照片——跟七七学生活摄影\">\\n            </a>\\n            <a class=\"title\" href=\"https://m.douban.com/time/column/45?dt_time_source=douban-web_anonymous\" target=\"_blank\">拍张好照片——跟七七学生活摄影</a>\\n            <span class=\"type\">图文专栏</span>\\n        </li>\\n        <li>\\n            \\n            <a class=\"cover time-audio  new\" href=\"https://m.douban.com/time/column/218?dt_time_source=douban-web_anonymous\" target=\"_blank\">\\n                <img src=\"https://img9.doubanio.com/dae/niffler/niffler/images/928f3170-b238-11eb-b795-0e4e10d2ed80.jpg\" alt=\"看见更完整的世界——文学里的女性主义解读\">\\n            </a>\\n            <a class=\"title\" href=\"https://m.douban.com/time/column/218?dt_time_source=douban-web_anonymous\" target=\"_blank\">看见更完整的世界——文学里的女性主义解读</a>\\n            <span class=\"type\">音频专栏</span>\\n        </li>\\n        <li>\\n            \\n            <a class=\"cover time-audio  new\" href=\"https://m.douban.com/time/column/91?dt_time_source=douban-web_anonymous\" target=\"_blank\">\\n                <img src=\"https://img9.doubanio.com/dae/niffler/niffler/images/c4972ec0-e3bf-11e7-9d88-0242ac110021.jpg\" alt=\"一个故事的诞生——22堂创意思维写作课\">\\n            </a>\\n            <a class=\"title\" href=\"https://m.douban.com/time/column/91?dt_time_source=douban-web_anonymous\" target=\"_blank\">一个故事的诞生——22堂创意思维写作课</a>\\n            <span class=\"type\">音频专栏</span>\\n        </li>\\n        <li>\\n            \\n            <a class=\"cover time-audio  new\" href=\"https://m.douban.com/time/column/99?dt_time_source=douban-web_anonymous\" target=\"_blank\">\\n                <img src=\"https://img9.doubanio.com/dae/niffler/niffler/images/81c6658c-6341-11e8-b830-0242ac110019.jpg\" alt=\"古典音乐的奇幻之旅——从入门到上瘾的108堂课\">\\n            </a>\\n            <a class=\"title\" href=\"https://m.douban.com/time/column/99?dt_time_source=douban-web_anonymous\" target=\"_blank\">古典音乐的奇幻之旅——从入门到上瘾的108堂课</a>\\n            <span class=\"type\">音频专栏</span>\\n        </li>\\n        <li>\\n            \\n            <a class=\"cover time-audio  new\" href=\"https://m.douban.com/time/column/76?dt_time_source=douban-web_anonymous\" target=\"_blank\">\\n                <img src=\"https://img9.doubanio.com/dae/niffler/niffler/images/f90e218a-b8aa-11e7-9cc5-0242ac110021.jpg\" alt=\"52倍人生——戴锦华大师电影课\">\\n            </a>\\n            <a class=\"title\" href=\"https://m.douban.com/time/column/76?dt_time_source=douban-web_anonymous\" target=\"_blank\">52倍人生——戴锦华大师电影课</a>\\n            <span class=\"type\">音频专栏</span>\\n        </li>\\n        <li>\\n            \\n            <a class=\"cover time-audio  \" href=\"https://m.douban.com/time/column/101?dt_time_source=douban-web_anonymous\" target=\"_blank\">\\n                <img src=\"https://img9.doubanio.com/dae/niffler/niffler/images/a1e1fedc-73ac-11e8-b5f7-0242ac110013.png\" alt=\"花鸟鱼虫的生活意见——博物君的自然笔记\">\\n            </a>\\n            <a class=\"title\" href=\"https://m.douban.com/time/column/101?dt_time_source=douban-web_anonymous\" target=\"_blank\">花鸟鱼虫的生活意见——博物君的自然笔记</a>\\n            <span class=\"type\">音频专栏</span>\\n        </li>\\n        <li>\\n            \\n            <a class=\"cover time-audio  new\" href=\"https://m.douban.com/time/column/196?dt_time_source=douban-web_anonymous\" target=\"_blank\">\\n                <img src=\"https://img9.doubanio.com/dae/niffler/niffler/images/fbcd1ec2-b112-11ea-909d-d2d7f8baec3a.png\" alt=\"一切美好的事物都与你有关——21天走出低自尊\">\\n            </a>\\n            <a class=\"title\" href=\"https://m.douban.com/time/column/196?dt_time_source=douban-web_anonymous\" target=\"_blank\">一切美好的事物都与你有关——21天走出低自尊</a>\\n            <span class=\"type\">音频专栏</span>\\n        </li>\\n        <li>\\n            \\n            <a class=\"cover time-audio  new\" href=\"https://m.douban.com/time/column/210?dt_time_source=douban-web_anonymous\" target=\"_blank\">\\n                <img src=\"https://img9.doubanio.com/dae/niffler/niffler/images/60975f2a-297c-11eb-968e-3aeac0dbdf54.jpg\" alt=\"可复制的语言学习密码——一套方法搞定所有外语\">\\n            </a>\\n            <a class=\"title\" href=\"https://m.douban.com/time/column/210?dt_time_source=douban-web_anonymous\" target=\"_blank\">可复制的语言学习密码——一套方法搞定所有外语</a>\\n            <span class=\"type\">音频专栏</span>\\n        </li>\\n        <li>\\n            \\n            <a class=\"cover time-audio  new\" href=\"https://m.douban.com/time/column/213?dt_time_source=douban-web_anonymous\" target=\"_blank\">\\n                <img src=\"https://img9.doubanio.com/dae/niffler/niffler/images/f6189198-5ae8-11eb-865e-16d4e49064e7.png\" alt=\"我们的女性400年——文学里的女性主义简史\">\\n            </a>\\n            <a class=\"title\" href=\"https://m.douban.com/time/column/213?dt_time_source=douban-web_anonymous\" target=\"_blank\">我们的女性400年——文学里的女性主义简史</a>\\n            <span class=\"type\">音频专栏</span>\\n        </li>\\n        <li>\\n            \\n            <a class=\"cover time-audio new \" href=\"https://m.douban.com/time/column/217?dt_time_source=douban-web_anonymous\" target=\"_blank\">\\n                <img src=\"https://img9.doubanio.com/dae/niffler/niffler/images/d0372f64-a739-11eb-9c0d-96463a36e32f.jpg\" alt=\"未来世界生存法则——李松蔚认知思维16讲\">\\n            </a>\\n            <a class=\"title\" href=\"https://m.douban.com/time/column/217?dt_time_source=douban-web_anonymous\" target=\"_blank\">未来世界生存法则——李松蔚认知思维16讲</a>\\n            <span class=\"type\">音频专栏</span>\\n        </li>\\n</ul>\\n\\n</div>\\n  </div>\\n  \\n</div>\\n\\n\\n\\n\\n\\n\\n\\n\\n      \\n<div id=\"anony-movie\" class=\"section\">\\n  <div class=\"wrapper\">\\n  \\n  \\n<div class=\"sidenav\">\\n  <h2 class=\"section-title\"><a href=\"https://movie.douban.com\">电影</a></h2>\\n  \\n  \\n  <div class=\"side-links nav-anon\">\\n      <ul>\\n                          \\n                 <li><a href=\"https://movie.douban.com/nowplaying/\">影讯&amp;购票</a></li>\\n             \\n                 <li class=\"site-nav-bt\">\\n                     <a href=\"https://movie.douban.com/explore\">选电影</a>\\n                     <img style=\"top: -5px; position: relative;\" src=\"https://img9.doubanio.com/pics/new_menu.gif\"/>\\n                 </li>\\n             \\n                 <li><a href=\"https://movie.douban.com/tv/\">电视剧</a></li>\\n             \\n                 <li><a href=\"https://movie.douban.com/chart\">排行榜</a></li>\\n             \\n                 <li><a href=\"https://movie.douban.com/tag/\">分类</a></li>\\n             \\n                 <li><a href=\"https://movie.douban.com/review/best/\">影评</a></li>\\n             \\n                 <li class=\"site-nav-bt\"><a href=\"https://movie.douban.com/trailers\">预告片</a></li>\\n             \\n                 <li><a href=\"https://movie.douban.com/askmatrix/hot_questions/all\">问答</a></li>\\n      \\n      </ul>\\n  </div>\\n \\n  \\n\\n\\n    <div class=\"apps-list\">\\n    <ul>\\n    </ul>\\n    </div>\\n\\n</div>\\n\\n  <div class=\"side\">\\n<div class=\"mod\">\\n\\n\\n    <h2>\\n        影片分类\\n            &nbsp;&middot;&nbsp;&middot;&nbsp;&middot;&nbsp;&middot;&nbsp;&middot;&nbsp;&middot;\\n            <span class=\"pl\">&nbsp;(\\n                \\n                    <a href=\"https://movie.douban.com/tag/?view=type\" target=\"_self\">更多</a>\\n                ) </span>\\n    </h2>\\n\\n<div class=\"tags list\">\\n  <ul>\\n    <li><a href=\"https://movie.douban.com/tag/爱情\">爱情</a></li>\\n    <li><a href=\"https://movie.douban.com/tag/剧情\">剧情</a></li>\\n    <li><a href=\"https://movie.douban.com/tag/喜剧\">喜剧</a></li>\\n    <li><a href=\"https://movie.douban.com/tag/悬疑\">悬疑</a></li>\\n    <li><a href=\"https://movie.douban.com/tag/经典\">经典</a></li>\\n    <li><a href=\"https://movie.douban.com/tag/动画\">动画</a></li>\\n    <li><a href=\"https://movie.douban.com/tag/科幻\">科幻</a></li>\\n    <li><a href=\"https://movie.douban.com/tag/犯罪\">犯罪</a></li>\\n    <li><a href=\"https://movie.douban.com/tag/动作\">动作</a></li>\\n    <li><a href=\"https://movie.douban.com/tag/青春\">青春</a></li>\\n    <li><a href=\"https://movie.douban.com/tag/搞笑\">搞笑</a></li>\\n    <li><a href=\"https://movie.douban.com/tag/文艺\">文艺</a></li>\\n    <li><a href=\"https://movie.douban.com/tag/惊悚\">惊悚</a></li>\\n    <li><a href=\"https://movie.douban.com/tag/励志\">励志</a></li>\\n    <li><a href=\"https://movie.douban.com/tag/纪录片\">纪录片</a></li>\\n    <li><a href=\"https://movie.douban.com/tag/黑色幽默\">黑色幽默</a></li>\\n    <li><a href=\"https://movie.douban.com/tag/战争\">战争</a></li>\\n    <li><a href=\"https://movie.douban.com/tag/家庭\">家庭</a></li>\\n    <li><a href=\"https://movie.douban.com/tag/美国\">美国</a></li>\\n    <li><a href=\"https://movie.douban.com/tag/日本\">日本</a></li>\\n    <li><a href=\"https://movie.douban.com/tag/香港\">香港</a></li>\\n    <li><a href=\"https://movie.douban.com/tag/中国大陆\">中国大陆</a></li>\\n    <li><a href=\"https://movie.douban.com/tag/韩国\">韩国</a></li>\\n    <li><a href=\"https://movie.douban.com/tag/中国\">中国</a></li>\\n    <li><a href=\"https://movie.douban.com/tag/英国\">英国</a></li>\\n    <li><a href=\"https://movie.douban.com/tag/法国\">法国</a></li>\\n    <li><a href=\"https://movie.douban.com/tag/台湾\">台湾</a></li>\\n    <li><a href=\"https://movie.douban.com/tag/印度\">印度</a></li>\\n  </ul>\\n</div>\\n</div>\\n\\n<div class=\"mod\">\\n\\n\\n    <h2>\\n        近期热门\\n            &nbsp;&middot;&nbsp;&middot;&nbsp;&middot;&nbsp;&middot;&nbsp;&middot;&nbsp;&middot;\\n            <span class=\"pl\">&nbsp;(\\n                \\n                    <a href=\"https://movie.douban.com/chart\" target=\"_self\">更多</a>\\n                ) </span>\\n    </h2>\\n\\n<div class=\"list1 movie-charts\">\\n  <ol>\\n    <li>\\n    <a href=\"https://movie.douban.com/subject/3099221/\">活死人军团</a>\\n    </li>\\n    <li>\\n    <a href=\"https://movie.douban.com/subject/30279836/\">第十一回</a>\\n    </li>\\n    <li>\\n    <a href=\"https://movie.douban.com/subject/30409439/\">兹山鱼谱</a>\\n    </li>\\n    <li>\\n    <a href=\"https://movie.douban.com/subject/30180126/\">窗里的女人</a>\\n    </li>\\n    <li>\\n    <a href=\"https://movie.douban.com/subject/34845781/\">鬼灭之刃 剧场版 无限列车篇</a>\\n    </li>\\n    <li>\\n    <a href=\"https://movie.douban.com/subject/34865507/\">小人物</a>\\n    </li>\\n    <li>\\n    <a href=\"https://movie.douban.com/subject/35087486/\">黑道与家族</a>\\n    </li>\\n    <li>\\n    <a href=\"https://movie.douban.com/subject/35417202/\">地球改变之年</a>\\n    </li>\\n    <li>\\n    <a href=\"https://movie.douban.com/subject/35176575/\">非常保镖</a>\\n    </li>\\n    <li>\\n    <a href=\"https://movie.douban.com/subject/30323120/\">酒精计划</a>\\n    </li>\\n  </ol>\\n</div>\\n</div>\\n</div>\\n  <div class=\"main\">\\n\\n\\n    <h2>\\n        正在热映\\n            &nbsp;&middot;&nbsp;&middot;&nbsp;&middot;&nbsp;&middot;&nbsp;&middot;&nbsp;&middot;\\n            <span class=\"pl\">&nbsp;(\\n                \\n                    <a href=\"https://movie.douban.com/showtimes/\" target=\"_self\">更多</a>\\n                ) </span>\\n    </h2>\\n\\n<div class=\"movie-list list\">\\n  <ul>\\n    <li>\\n    <div class=\"pic\">\\n        <a href=\"https://movie.douban.com/subject/26703121/\"><img src=\"https://img9.doubanio.com/f/shire/a1fdee122b95748d81cee426d717c05b5174fe96/pics/blank.gif\" data-origin=\"https://img9.doubanio.com/view/photo/s_ratio_poster/public/p2653946775.jpg\" alt=\"黑白魔女库伊拉\" /></a>\\n    </div>\\n    <div class=\"title\">\\n      <a href=\"https://movie.douban.com/subject/26703121/\">黑白魔女库伊拉...</a>\\n    </div>\\n    <div class=\"rating\">\\n        <span class=\"allstar35\"></span><i>6.9</i>\\n    </div>\\n    <a href=\"https://movie.douban.com/subject/26703121/cinema/\" class=\"bn-link bn-ticket\">选座购票</a>\\n    <li>\\n    <div class=\"pic\">\\n        <a href=\"https://movie.douban.com/subject/27080656/\"><img src=\"https://img9.doubanio.com/f/shire/a1fdee122b95748d81cee426d717c05b5174fe96/pics/blank.gif\" data-origin=\"https://img9.doubanio.com/view/photo/s_ratio_poster/public/p2652044770.jpg\" alt=\"普罗米亚\" /></a>\\n    </div>\\n    <div class=\"title\">\\n      <a href=\"https://movie.douban.com/subject/27080656/\">普罗米亚</a>\\n    </div>\\n    <div class=\"rating\">\\n        <span class=\"allstar40\"></span><i>8.0</i>\\n    </div>\\n    <a href=\"https://movie.douban.com/subject/27080656/cinema/\" class=\"bn-link bn-ticket\">选座购票</a>\\n    <li>\\n    <div class=\"pic\">\\n        <a href=\"https://movie.douban.com/subject/35427471/\"><img src=\"https://img9.doubanio.com/f/shire/a1fdee122b95748d81cee426d717c05b5174fe96/pics/blank.gif\" data-origin=\"https://img9.doubanio.com/view/photo/s_ratio_poster/public/p2650122782.jpg\" alt=\"九零后\" /></a>\\n    </div>\\n    <div class=\"title\">\\n      <a href=\"https://movie.douban.com/subject/35427471/\">九零后</a>\\n    </div>\\n    <div class=\"rating\">\\n        <span class=\"allstar40\"></span><i>8.2</i>\\n    </div>\\n    <a href=\"https://movie.douban.com/subject/35427471/cinema/\" class=\"bn-link bn-ticket\">选座购票</a>\\n    <li>\\n    <div class=\"pic\">\\n        <a href=\"https://movie.douban.com/subject/30206311/\"><img src=\"https://img9.doubanio.com/f/shire/a1fdee122b95748d81cee426d717c05b5174fe96/pics/blank.gif\" data-origin=\"https://img9.doubanio.com/view/photo/s_ratio_poster/public/p2651298629.jpg\" alt=\"寂静之地2\" /></a>\\n    </div>\\n    <div class=\"title\">\\n      <a href=\"https://movie.douban.com/subject/30206311/\">寂静之地2</a>\\n    </div>\\n    <div class=\"rating\">\\n        <span class=\"allstar35\"></span><i>6.7</i>\\n    </div>\\n    <a href=\"https://movie.douban.com/subject/30206311/cinema/\" class=\"bn-link bn-ticket\">选座购票</a>\\n    <li>\\n    <div class=\"pic\">\\n        <a href=\"https://movie.douban.com/subject/34825976/\"><img src=\"https://img9.doubanio.com/f/shire/a1fdee122b95748d81cee426d717c05b5174fe96/pics/blank.gif\" data-origin=\"https://img9.doubanio.com/view/photo/s_ratio_poster/public/p2645106865.jpg\" alt=\"白蛇传·情\" /></a>\\n    </div>\\n    <div class=\"title\">\\n      <a href=\"https://movie.douban.com/subject/34825976/\">白蛇传·情</a>\\n    </div>\\n    <div class=\"rating\">\\n        <span class=\"allstar40\"></span><i>8.2</i>\\n    </div>\\n    <a href=\"https://movie.douban.com/subject/34825976/cinema/\" class=\"bn-link bn-ticket\">选座购票</a>\\n    <li>\\n    <div class=\"pic\">\\n        <a href=\"https://movie.douban.com/subject/34913671/\"><img src=\"https://img9.doubanio.com/f/shire/a1fdee122b95748d81cee426d717c05b5174fe96/pics/blank.gif\" data-origin=\"https://img9.doubanio.com/view/photo/s_ratio_poster/public/p2641407963.jpg\" alt=\"哆啦A梦：伴我同行2\" /></a>\\n    </div>\\n    <div class=\"title\">\\n      <a href=\"https://movie.douban.com/subject/34913671/\">哆啦A梦：伴我...</a>\\n    </div>\\n    <div class=\"rating\">\\n        <span class=\"allstar40\"></span><i>7.4</i>\\n    </div>\\n    <a href=\"https://movie.douban.com/subject/34913671/cinema/\" class=\"bn-link bn-ticket\">选座购票</a>\\n    <li>\\n    <div class=\"pic\">\\n        <a href=\"https://movie.douban.com/subject/5298987/\"><img src=\"https://img9.doubanio.com/f/shire/a1fdee122b95748d81cee426d717c05b5174fe96/pics/blank.gif\" data-origin=\"https://img9.doubanio.com/view/photo/s_ratio_poster/public/p2644913398.jpg\" alt=\"诗人\" /></a>\\n    </div>\\n    <div class=\"title\">\\n      <a href=\"https://movie.douban.com/subject/5298987/\">诗人</a>\\n    </div>\\n    <div class=\"rating\">\\n        <span class=\"allstar35\"></span><i>6.3</i>\\n    </div>\\n    <a href=\"https://movie.douban.com/subject/5298987/cinema/\" class=\"bn-link bn-ticket\">选座购票</a>\\n    <li>\\n    <div class=\"pic\">\\n        <a href=\"https://movie.douban.com/subject/27046740/\"><img src=\"https://img9.doubanio.com/f/shire/a1fdee122b95748d81cee426d717c05b5174fe96/pics/blank.gif\" data-origin=\"https://img9.doubanio.com/view/photo/s_ratio_poster/public/p2642842673.jpg\" alt=\"人之怒\" /></a>\\n    </div>\\n    <div class=\"title\">\\n      <a href=\"https://movie.douban.com/subject/27046740/\">人之怒</a>\\n    </div>\\n    <div class=\"rating\">\\n        <span class=\"allstar35\"></span><i>6.8</i>\\n    </div>\\n    <a href=\"https://movie.douban.com/subject/27046740/cinema/\" class=\"bn-link bn-ticket\">选座购票</a>\\n  </ul>\\n</div>\\n</div>\\n  </div>\\n  \\n    <div id=\"dale_anonymous_homepage_movie_bottom\" class=\"extra\"></div>\\n\\n</div>\\n\\n\\n\\n\\n\\n\\n\\n\\n      \\n<div id=\"anony-group\" class=\"section\">\\n  <div class=\"wrapper\">\\n  \\n  \\n<div class=\"sidenav\">\\n  <h2 class=\"section-title\"><a href=\"https://www.douban.com/group/\">小组</a></h2>\\n  \\n  \\n  <div class=\"side-links nav-anon\">\\n      <ul>\\n                          \\n                 <li><a href=\"/group/explore\">精选</a></li>\\n             \\n                 <li><a href=\"/group/explore/culture\">文化</a></li>\\n             \\n                 <li><a href=\"/group/explore/travel\">行摄</a></li>\\n             \\n                 <li><a href=\"/group/explore/ent\">娱乐</a></li>\\n             \\n                 <li><a href=\"/group/explore/fashion\">时尚</a></li>\\n             \\n                 <li><a href=\"/group/explore/life\">生活</a></li>\\n             \\n                 <li><a href=\"/group/explore/tech\">科技</a></li>\\n      \\n      </ul>\\n  </div>\\n \\n  \\n\\n\\n    <div class=\"apps-list\">\\n    <ul>\\n    </ul>\\n    </div>\\n\\n</div>\\n\\n  <div class=\"side\">\\n<div class=\"mod\">\\n\\n    <h2>\\n        小组分类\\n            &nbsp;&middot;&nbsp;&middot;&nbsp;&middot;&nbsp;&middot;&nbsp;&middot;&nbsp;&middot;\\n    </h2>\\n\\n   <div class=\"cate group-cate\">\\n       <ul>\\n       <li class=\"cate-label\"><a href=\"https://www.douban.com/group/explore?tag=兴趣\">兴趣&raquo; </a></li>\\n       <li><a href=\"https://www.douban.com/group/explore?tag=旅行\">旅行</a></li>\\n       <li><a href=\"https://www.douban.com/group/explore?tag=摄影\">摄影</a></li>\\n       <li><a href=\"https://www.douban.com/group/explore?tag=影视\">影视</a></li>\\n       <li><a href=\"https://www.douban.com/group/explore?tag=音乐\">音乐</a></li>\\n       <li><a href=\"https://www.douban.com/group/explore?tag=文学\">文学</a></li>\\n       <li><a href=\"https://www.douban.com/group/explore?tag=游戏\">游戏</a></li>\\n       <li><a href=\"https://www.douban.com/group/explore?tag=动漫\">动漫</a></li>\\n       <li><a href=\"https://www.douban.com/group/explore?tag=运动\">运动</a></li>\\n       <li><a href=\"https://www.douban.com/group/explore?tag=戏曲\">戏曲</a></li>\\n       <li><a href=\"https://www.douban.com/group/explore?tag=桌游\">桌游</a></li>\\n       <li><a href=\"https://www.douban.com/group/explore?tag=怪癖\">怪癖</a></li>\\n       </ul>\\n    </div>\\n   <div class=\"cate group-cate\">\\n       <ul>\\n       <li class=\"cate-label\"><a href=\"https://www.douban.com/group/explore?tag=生活\">生活&raquo; </a></li>\\n       <li><a href=\"https://www.douban.com/group/explore?tag=健康\">健康</a></li>\\n       <li><a href=\"https://www.douban.com/group/explore?tag=美食\">美食</a></li>\\n       <li><a href=\"https://www.douban.com/group/explore?tag=宠物\">宠物</a></li>\\n       <li><a href=\"https://www.douban.com/group/explore?tag=美容\">美容</a></li>\\n       <li><a href=\"https://www.douban.com/group/explore?tag=化妆\">化妆</a></li>\\n       <li><a href=\"https://www.douban.com/group/explore?tag=护肤\">护肤</a></li>\\n       <li><a href=\"https://www.douban.com/group/explore?tag=服饰\">服饰</a></li>\\n       <li><a href=\"https://www.douban.com/group/explore?tag=公益\">公益</a></li>\\n       <li><a href=\"https://www.douban.com/group/explore?tag=家庭\">家庭</a></li>\\n       <li><a href=\"https://www.douban.com/group/explore?tag=育儿\">育儿</a></li>\\n       <li><a href=\"https://www.douban.com/group/explore?tag=汽车\">汽车</a></li>\\n       </ul>\\n    </div>\\n   <div class=\"cate group-cate\">\\n       <ul>\\n       <li class=\"cate-label\"><a href=\"https://www.douban.com/group/explore?tag=购物\">购物&raquo; </a></li>\\n       <li><a href=\"https://www.douban.com/group/explore?tag=淘宝\">淘宝</a></li>\\n       <li><a href=\"https://www.douban.com/group/explore?tag=二手\">二手</a></li>\\n       <li><a href=\"https://www.douban.com/group/explore?tag=团购\">团购</a></li>\\n       <li><a href=\"https://www.douban.com/group/explore?tag=数码\">数码</a></li>\\n       <li><a href=\"https://www.douban.com/group/explore?tag=品牌\">品牌</a></li>\\n       <li><a href=\"https://www.douban.com/group/explore?tag=文具\">文具</a></li>\\n       </ul>\\n    </div>\\n   <div class=\"cate group-cate\">\\n       <ul>\\n       <li class=\"cate-label\"><a href=\"https://www.douban.com/group/explore?tag=社会\">社会&raquo; </a></li>\\n       <li><a href=\"https://www.douban.com/group/explore?tag=求职\">求职</a></li>\\n       <li><a href=\"https://www.douban.com/group/explore?tag=租房\">租房</a></li>\\n       <li><a href=\"https://www.douban.com/group/explore?tag=励志\">励志</a></li>\\n       <li><a href=\"https://www.douban.com/group/explore?tag=留学\">留学</a></li>\\n       <li><a href=\"https://www.douban.com/group/explore?tag=出国\">出国</a></li>\\n       <li><a href=\"https://www.douban.com/group/explore?tag=理财\">理财</a></li>\\n       <li><a href=\"https://www.douban.com/group/explore?tag=传媒\">传媒</a></li>\\n       <li><a href=\"https://www.douban.com/group/explore?tag=创业\">创业</a></li>\\n       <li><a href=\"https://www.douban.com/group/explore?tag=考试\">考试</a></li>\\n       </ul>\\n    </div>\\n   <div class=\"cate group-cate\">\\n       <ul>\\n       <li class=\"cate-label\"><a href=\"https://www.douban.com/group/explore?tag=艺术\">艺术&raquo; </a></li>\\n       <li><a href=\"https://www.douban.com/group/explore?tag=设计\">设计</a></li>\\n       <li><a href=\"https://www.douban.com/group/explore?tag=手工\">手工</a></li>\\n       <li><a href=\"https://www.douban.com/group/explore?tag=展览\">展览</a></li>\\n       <li><a href=\"https://www.douban.com/group/explore?tag=曲艺\">曲艺</a></li>\\n       <li><a href=\"https://www.douban.com/group/explore?tag=舞蹈\">舞蹈</a></li>\\n       <li><a href=\"https://www.douban.com/group/explore?tag=雕塑\">雕塑</a></li>\\n       <li><a href=\"https://www.douban.com/group/explore?tag=纹身\">纹身</a></li>\\n       </ul>\\n    </div>\\n   <div class=\"cate group-cate\">\\n       <ul>\\n       <li class=\"cate-label\"><a href=\"https://www.douban.com/group/explore?tag=学术\">学术&raquo; </a></li>\\n       <li><a href=\"https://www.douban.com/group/explore?tag=人文\">人文</a></li>\\n       <li><a href=\"https://www.douban.com/group/explore?tag=社科\">社科</a></li>\\n       <li><a href=\"https://www.douban.com/group/explore?tag=自然\">自然</a></li>\\n       <li><a href=\"https://www.douban.com/group/explore?tag=建筑\">建筑</a></li>\\n       <li><a href=\"https://www.douban.com/group/explore?tag=国学\">国学</a></li>\\n       <li><a href=\"https://www.douban.com/group/explore?tag=语言\">语言</a></li>\\n       <li><a href=\"https://www.douban.com/group/explore?tag=宗教\">宗教</a></li>\\n       <li><a href=\"https://www.douban.com/group/explore?tag=哲学\">哲学</a></li>\\n       <li><a href=\"https://www.douban.com/group/explore?tag=软件\">软件</a></li>\\n       <li><a href=\"https://www.douban.com/group/explore?tag=硬件\">硬件</a></li>\\n       <li><a href=\"https://www.douban.com/group/explore?tag=互联网\">互联网</a></li>\\n       </ul>\\n    </div>\\n   <div class=\"cate group-cate\">\\n       <ul>\\n       <li class=\"cate-label\"><a href=\"https://www.douban.com/group/explore?tag=情感\">情感&raquo; </a></li>\\n       <li><a href=\"https://www.douban.com/group/explore?tag=恋爱\">恋爱</a></li>\\n       <li><a href=\"https://www.douban.com/group/explore?tag=心情\">心情</a></li>\\n       <li><a href=\"https://www.douban.com/group/explore?tag=心理学\">心理学</a></li>\\n       <li><a href=\"https://www.douban.com/group/explore?tag=星座\">星座</a></li>\\n       <li><a href=\"https://www.douban.com/group/explore?tag=塔罗\">塔罗</a></li>\\n       <li><a href=\"https://www.douban.com/group/explore?tag=LES\">LES</a></li>\\n       <li><a href=\"https://www.douban.com/group/explore?tag=GAY\">GAY</a></li>\\n       </ul>\\n    </div>\\n   <div class=\"cate group-cate\">\\n       <ul>\\n       <li class=\"cate-label\"><a href=\"https://www.douban.com/group/explore?tag=闲聊\">闲聊&raquo; </a></li>\\n       <li><a href=\"https://www.douban.com/group/explore?tag=吐槽\">吐槽</a></li>\\n       <li><a href=\"https://www.douban.com/group/explore?tag=笑话\">笑话</a></li>\\n       <li><a href=\"https://www.douban.com/group/explore?tag=直播\">直播</a></li>\\n       <li><a href=\"https://www.douban.com/group/explore?tag=八卦\">八卦</a></li>\\n       <li><a href=\"https://www.douban.com/group/explore?tag=发泄\">发泄</a></li>\\n       </ul>\\n    </div>\\n</div>\\n</div>\\n  <div class=\"main\">\\n\\n\\n    <h2>\\n        热门小组\\n            &nbsp;&middot;&nbsp;&middot;&nbsp;&middot;&nbsp;&middot;&nbsp;&middot;&nbsp;&middot;\\n            <span class=\"pl\">&nbsp;(\\n                \\n                    <a href=\"https://www.douban.com/group/explore\" target=\"_self\">更多</a>\\n                ) </span>\\n    </h2>\\n\\n<div class=\"group-list list\">\\n  <ul>\\n    <li>\\n    <div class=\"pic\">\\n        <a href=\"https://www.douban.com/group/echofans/\"><img src=\"https://img9.doubanio.com/f/shire/a1fdee122b95748d81cee426d717c05b5174fe96/pics/blank.gif\" data-origin=\"https://img9.doubanio.com/view/group/sqxs/public/ef4bd6235a7c6c2.jpg\" alt=\"\" width=\"48\" /></a>\\n    </div>\\n    <div class=\"info\">\\n      <div class=\"title\">\\n        <a href=\"https://www.douban.com/group/echofans/\">我爱三毛</a>\\n      </div>\\n      48291 个成员\\n    </div>\\n    <li>\\n    <div class=\"pic\">\\n        <a href=\"https://www.douban.com/group/shafake/\"><img src=\"https://img9.doubanio.com/f/shire/a1fdee122b95748d81cee426d717c05b5174fe96/pics/blank.gif\" data-origin=\"https://img9.doubanio.com/view/group/sqxs/public/063bb07a807a340.jpg\" alt=\"\" width=\"48\" /></a>\\n    </div>\\n    <div class=\"info\">\\n      <div class=\"title\">\\n        <a href=\"https://www.douban.com/group/shafake/\">沙发客</a>\\n      </div>\\n      23036 个成员\\n    </div>\\n    <li>\\n    <div class=\"pic\">\\n        <a href=\"https://www.douban.com/group/liucixin/\"><img src=\"https://img9.doubanio.com/f/shire/a1fdee122b95748d81cee426d717c05b5174fe96/pics/blank.gif\" data-origin=\"https://img9.doubanio.com/view/group/sqxs/public/68b08f0f3595407.jpg\" alt=\"\" width=\"48\" /></a>\\n    </div>\\n    <div class=\"info\">\\n      <div class=\"title\">\\n        <a href=\"https://www.douban.com/group/liucixin/\">刘慈欣</a>\\n      </div>\\n      31732 个成员\\n    </div>\\n    <li>\\n    <div class=\"pic\">\\n        <a href=\"https://www.douban.com/group/20618/\"><img src=\"https://img9.doubanio.com/f/shire/a1fdee122b95748d81cee426d717c05b5174fe96/pics/blank.gif\" data-origin=\"https://img9.doubanio.com/view/group/sqxs/public/8f11b2285655782.jpg\" alt=\"\" width=\"48\" /></a>\\n    </div>\\n    <div class=\"info\">\\n      <div class=\"title\">\\n        <a href=\"https://www.douban.com/group/20618/\">西双版纳</a>\\n      </div>\\n      12594 个成员\\n    </div>\\n    <li>\\n    <div class=\"pic\">\\n        <a href=\"https://www.douban.com/group/402725/\"><img src=\"https://img9.doubanio.com/f/shire/a1fdee122b95748d81cee426d717c05b5174fe96/pics/blank.gif\" data-origin=\"https://img9.doubanio.com/view/group/sqxs/public/17fdb616ff143d8.jpg\" alt=\"\" width=\"48\" /></a>\\n    </div>\\n    <div class=\"info\">\\n      <div class=\"title\">\\n        <a href=\"https://www.douban.com/group/402725/\">记事本圆梦小组</a>\\n      </div>\\n      117396 个成员\\n    </div>\\n    <li>\\n    <div class=\"pic\">\\n        <a href=\"https://www.douban.com/group/170177/\"><img src=\"https://img9.doubanio.com/f/shire/a1fdee122b95748d81cee426d717c05b5174fe96/pics/blank.gif\" data-origin=\"https://img9.doubanio.com/view/group/sqxs/public/2e49d167d4322c2.jpg\" alt=\"\" width=\"48\" /></a>\\n    </div>\\n    <div class=\"info\">\\n      <div class=\"title\">\\n        <a href=\"https://www.douban.com/group/170177/\">这辈子一定要做几件疯狂的事</a>\\n      </div>\\n      91775 个成员\\n    </div>\\n    <li>\\n    <div class=\"pic\">\\n        <a href=\"https://www.douban.com/group/cuthair/\"><img src=\"https://img9.doubanio.com/f/shire/a1fdee122b95748d81cee426d717c05b5174fe96/pics/blank.gif\" data-origin=\"https://img9.doubanio.com/icon/g109498-1.jpg\" alt=\"\" width=\"48\" /></a>\\n    </div>\\n    <div class=\"info\">\\n      <div class=\"title\">\\n        <a href=\"https://www.douban.com/group/cuthair/\">自己给自己剪头发</a>\\n      </div>\\n      36089 个成员\\n    </div>\\n    <li>\\n    <div class=\"pic\">\\n        <a href=\"https://www.douban.com/group/83759/\"><img src=\"https://img9.doubanio.com/f/shire/a1fdee122b95748d81cee426d717c05b5174fe96/pics/blank.gif\" data-origin=\"https://img9.doubanio.com/icon/g83759-2.jpg\" alt=\"\" width=\"48\" /></a>\\n    </div>\\n    <div class=\"info\">\\n      <div class=\"title\">\\n        <a href=\"https://www.douban.com/group/83759/\">我们就是要做衣服给自己穿</a>\\n      </div>\\n      3665 个成员\\n    </div>\\n  </ul>\\n</div>\\n</div>\\n  </div>\\n  \\n</div>\\n\\n\\n\\n\\n\\n\\n\\n\\n      \\n<div id=\"anony-book\" class=\"section\">\\n  <div class=\"wrapper\">\\n  \\n  \\n<div class=\"sidenav\">\\n  <div class=\"mod\">\\n  <h2 class=\"section-title\"><a href=\"https://book.douban.com\">读书</a></h2>\\n  \\n  \\n  <div class=\"side-links nav-anon\">\\n      <ul>\\n                                                    \\n                 <li><a href=\"https://book.douban.com/tag/\">分类浏览</a></li>\\n             \\n                <li>\\n                    <a target=\"_blank\" href=\"https://read.douban.com?dcn=entry&amp;dcs=book-nav&amp;dcm=douban\">阅读</a>\\n                    <img style=\"top: 4px; position: absolute;\" src=\"https://img9.doubanio.com/pics/new_menu.gif\"/>\\n                </li>\\n             \\n                 <li><a href=\"https://book.douban.com/writers/\">作者</a></li>\\n             \\n                 <li><a href=\"https://book.douban.com/review/best/\">书评</a></li>\\n      \\n          <li class=\"site-nav-prom\">\\n              <a class=\"lnk-buy\" href=\"https://book.douban.com/cart\">\\n                  <em>购书单</em>\\n              </a>\\n          </li>\\n      </ul>\\n  </div>\\n \\n  </div>\\n\\n  \\n\\n\\n    <div class=\"apps-list\">\\n    <ul>\\n        <li>\\n            <a href=\"https://read.douban.com/app/\" class=\"lnk-icon\">\\n                <i class=\"app-icon app-icon-read\"></i>\\n            </a>\\n            <a href=\"https://read.douban.com/app/\">豆瓣阅读</a>\\n        </li>\\n    </ul>\\n    </div>\\n\\n</div>\\n\\n  <div class=\"side\">\\n\\n<div class=\"mod\">\\n\\n    <h2>\\n        热门标签\\n            &nbsp;&middot;&nbsp;&middot;&nbsp;&middot;&nbsp;&middot;&nbsp;&middot;&nbsp;&middot;\\n            <span class=\"pl\">&nbsp;(\\n                \\n                    <a href=\"https://book.douban.com/tag/?view=type\" target=\"_self\">更多</a>\\n                ) </span>\\n    </h2>\\n\\n<div class=\"book-cate-mod\">\\n<div class=\"cate book-cate\">\\n  <ul>\\n  <li class=\"cate-label\">[文学]</li>\\n  <li><a href=\"https://book.douban.com/tag/小说\">小说</a></li>\\n  <li><a href=\"https://book.douban.com/tag/随笔\">随笔</a></li>\\n  <li><a href=\"https://book.douban.com/tag/日本文学\">日本文学</a></li>\\n  <li><a href=\"https://book.douban.com/tag/散文\">散文</a></li>\\n  <li><a href=\"https://book.douban.com/tag/诗歌\">诗歌</a></li>\\n  <li><a href=\"https://book.douban.com/tag/童话\">童话</a></li>\\n  <li><a href=\"https://book.douban.com/tag/名著\">名著</a></li>\\n  <li><a href=\"https://book.douban.com/tag/港台\">港台</a></li>\\n  <li><a href=\"https://book.douban.com/tag/?view=type#文学\">更多</a></li>\\n  </ul>\\n</div>\\n<div class=\"cate book-cate\">\\n  <ul>\\n  <li class=\"cate-label\">[流行]</li>\\n  <li><a href=\"https://book.douban.com/tag/漫画\">漫画</a></li>\\n  <li><a href=\"https://book.douban.com/tag/推理\">推理</a></li>\\n  <li><a href=\"https://book.douban.com/tag/绘本\">绘本</a></li>\\n  <li><a href=\"https://book.douban.com/tag/青春\">青春</a></li>\\n  <li><a href=\"https://book.douban.com/tag/科幻\">科幻</a></li>\\n  <li><a href=\"https://book.douban.com/tag/言情\">言情</a></li>\\n  <li><a href=\"https://book.douban.com/tag/奇幻\">奇幻</a></li>\\n  <li><a href=\"https://book.douban.com/tag/武侠\">武侠</a></li>\\n  <li><a href=\"https://book.douban.com/tag/?view=type#流行\">更多</a></li>\\n  </ul>\\n</div>\\n<div class=\"cate book-cate\">\\n  <ul>\\n  <li class=\"cate-label\">[文化]</li>\\n  <li><a href=\"https://book.douban.com/tag/历史\">历史</a></li>\\n  <li><a href=\"https://book.douban.com/tag/哲学\">哲学</a></li>\\n  <li><a href=\"https://book.douban.com/tag/传记\">传记</a></li>\\n  <li><a href=\"https://book.douban.com/tag/设计\">设计</a></li>\\n  <li><a href=\"https://book.douban.com/tag/建筑\">建筑</a></li>\\n  <li><a href=\"https://book.douban.com/tag/电影\">电影</a></li>\\n  <li><a href=\"https://book.douban.com/tag/回忆录\">回忆录</a></li>\\n  <li><a href=\"https://book.douban.com/tag/音乐\">音乐</a></li>\\n  <li><a href=\"https://book.douban.com/tag/?view=type#文化\">更多</a></li>\\n  </ul>\\n</div>\\n<div class=\"cate book-cate\">\\n  <ul>\\n  <li class=\"cate-label\">[生活]</li>\\n  <li><a href=\"https://book.douban.com/tag/旅行\">旅行</a></li>\\n  <li><a href=\"https://book.douban.com/tag/励志\">励志</a></li>\\n  <li><a href=\"https://book.douban.com/tag/教育\">教育</a></li>\\n  <li><a href=\"https://book.douban.com/tag/职场\">职场</a></li>\\n  <li><a href=\"https://book.douban.com/tag/美食\">美食</a></li>\\n  <li><a href=\"https://book.douban.com/tag/灵修\">灵修</a></li>\\n  <li><a href=\"https://book.douban.com/tag/健康\">健康</a></li>\\n  <li><a href=\"https://book.douban.com/tag/家居\">家居</a></li>\\n  <li><a href=\"https://book.douban.com/tag/?view=type#生活\">更多</a></li>\\n  </ul>\\n</div>\\n<div class=\"cate book-cate\">\\n  <ul>\\n  <li class=\"cate-label\">[经管]</li>\\n  <li><a href=\"https://book.douban.com/tag/经济学\">经济学</a></li>\\n  <li><a href=\"https://book.douban.com/tag/管理\">管理</a></li>\\n  <li><a href=\"https://book.douban.com/tag/商业\">商业</a></li>\\n  <li><a href=\"https://book.douban.com/tag/金融\">金融</a></li>\\n  <li><a href=\"https://book.douban.com/tag/营销\">营销</a></li>\\n  <li><a href=\"https://book.douban.com/tag/理财\">理财</a></li>\\n  <li><a href=\"https://book.douban.com/tag/股票\">股票</a></li>\\n  <li><a href=\"https://book.douban.com/tag/企业史\">企业史</a></li>\\n  <li><a href=\"https://book.douban.com/tag/?view=type#经管\">更多</a></li>\\n  </ul>\\n</div>\\n<div class=\"cate book-cate\">\\n  <ul>\\n  <li class=\"cate-label\">[科技]</li>\\n  <li><a href=\"https://book.douban.com/tag/科普\">科普</a></li>\\n  <li><a href=\"https://book.douban.com/tag/互联网\">互联网</a></li>\\n  <li><a href=\"https://book.douban.com/tag/编程\">编程</a></li>\\n  <li><a href=\"https://book.douban.com/tag/交互设计\">交互设计</a></li>\\n  <li><a href=\"https://book.douban.com/tag/算法\">算法</a></li>\\n  <li><a href=\"https://book.douban.com/tag/通信\">通信</a></li>\\n  <li><a href=\"https://book.douban.com/tag/神经网络\">神经网络</a></li>\\n  <li><a href=\"https://book.douban.com/tag/?view=type#科技\">更多</a></li>\\n  </ul>\\n</div>\\n</div>\\n</div>\\n</div>\\n  <div class=\"main\">\\n\\n<div class=\"mod\">\\n\\n    <h2>\\n        新书速递\\n            ······\\n            <span class=\"pl\">&nbsp;(\\n                \\n                    <a href=\"https://book.douban.com/latest\" target=\"_self\">更多</a>\\n                ) </span>\\n    </h2>\\n\\n<div class=\"book-list list\">\\n  <ul>\\n      <li>\\n      <div class=\"pic\">\\n          <a href=\"https://book.douban.com/subject/34926034/\"><img src=\"https://img9.doubanio.com/f/shire/a1fdee122b95748d81cee426d717c05b5174fe96/pics/blank.gif\" data-origin=\"https://img9.doubanio.com/view/subject/m/public/s33793487.jpg\" alt=\"养蜂人之死\" /></a>\\n      </div>\\n      <div class=\"title\">\\n        <a href=\"https://book.douban.com/subject/34926034/\" >养蜂人之死</a>\\n      </div>\\n      <div class=\"author\">[瑞典] 拉斯...</div>\\n      <a href=\"https://read.douban.com/reader/ebook/314421256/\" target=\"_blank\" class=\"bn-link\">免费试读</a>\\n      <li>\\n      <div class=\"pic\">\\n          <a href=\"https://book.douban.com/subject/35427853/\"><img src=\"https://img9.doubanio.com/f/shire/a1fdee122b95748d81cee426d717c05b5174fe96/pics/blank.gif\" data-origin=\"https://img9.doubanio.com/view/subject/m/public/s33906671.jpg\" alt=\"火车梦\" /></a>\\n      </div>\\n      <div class=\"title\">\\n        <a href=\"https://book.douban.com/subject/35427853/\" >火车梦</a>\\n      </div>\\n      <div class=\"author\">[美] 丹尼斯...</div>\\n      <a href=\"https://read.douban.com/reader/ebook/319339412/\" target=\"_blank\" class=\"bn-link\">免费试读</a>\\n      <li>\\n      <div class=\"pic\">\\n          <a href=\"https://book.douban.com/subject/35422114/\"><img src=\"https://img9.doubanio.com/f/shire/a1fdee122b95748d81cee426d717c05b5174fe96/pics/blank.gif\" data-origin=\"https://img9.doubanio.com/view/subject/m/public/s33866820.jpg\" alt=\"运送孩子的火车\" /></a>\\n      </div>\\n      <div class=\"title\">\\n        <a href=\"https://book.douban.com/subject/35422114/\" >运送孩子的火车...</a>\\n      </div>\\n      <div class=\"author\">[意] 薇奥拉...</div>\\n      <a href=\"https://read.douban.com/reader/ebook/318292186/\" target=\"_blank\" class=\"bn-link\">免费试读</a>\\n      <li>\\n      <div class=\"pic\">\\n          <a href=\"https://book.douban.com/subject/35273230/\"><img src=\"https://img9.doubanio.com/f/shire/a1fdee122b95748d81cee426d717c05b5174fe96/pics/blank.gif\" data-origin=\"https://img9.doubanio.com/view/subject/m/public/s33892864.jpg\" alt=\"这里无事发生\" /></a>\\n      </div>\\n      <div class=\"title\">\\n        <a href=\"https://book.douban.com/subject/35273230/\" >这里无事发生</a>\\n      </div>\\n      <div class=\"author\">[芬] 赛尔雅...</div>\\n      <a href=\"https://read.douban.com/reader/ebook/318292222/\" target=\"_blank\" class=\"bn-link\">免费试读</a>\\n  </ul>\\n</div>\\n</div>\\n\\n<div class=\"mod\">\\n\\n    <h2>\\n        原创数字作品\\n            ······\\n            <span class=\"pl\">&nbsp;(\\n                \\n                    <a href=\"https://read.douban.com\" target=\"_self\">更多</a>\\n                ) </span>\\n    </h2>\\n\\n<div class=\"book-list list\">\\n  <ul>\\n    <li>\\n    <div class=\"pic\">\\n        <a href=\"https://read.douban.com/ebook/137000205\" target=\"_blank\"><img src=\"https://img9.doubanio.com/f/shire/a1fdee122b95748d81cee426d717c05b5174fe96/pics/blank.gif\" data-origin=\"https://img9.doubanio.com/view/ark_column_cover/large/public/33644381.jpg?v=1621912702\" alt=\"一纸千金\" /></a>\\n    </div>\\n    <div class=\"title\">\\n      <a href=\"https://read.douban.com/ebook/137000205\" target=\"_blank\">一纸千金</a>\\n    </div>\\n    <div class=\"author\"></div>\\n    <div class=\"price\">\\n        免费\\n    </div>\\n    <a href=\"https://read.douban.com/reader/column/33644381/chapter/316665738/\" target=\"_blank\" class=\"bn-link\">免费试读</a>\\n    <li>\\n    <div class=\"pic\">\\n        <a href=\"https://read.douban.com/ebook/159373326\" target=\"_blank\"><img src=\"https://img9.doubanio.com/f/shire/a1fdee122b95748d81cee426d717c05b5174fe96/pics/blank.gif\" data-origin=\"https://img9.doubanio.com/view/ark_column_cover/large/public/35258256.jpg?v=1601856993\" alt=\"画堂春\" /></a>\\n    </div>\\n    <div class=\"title\">\\n      <a href=\"https://read.douban.com/ebook/159373326\" target=\"_blank\">画堂春</a>\\n    </div>\\n    <div class=\"author\"></div>\\n    <div class=\"price\">\\n        免费\\n    </div>\\n    <a href=\"https://read.douban.com/reader/column/35258256/chapter/159373472/\" target=\"_blank\" class=\"bn-link\">免费试读</a>\\n    <li>\\n    <div class=\"pic\">\\n        <a href=\"https://read.douban.com/ebook/313643074\" target=\"_blank\"><img src=\"https://img9.doubanio.com/f/shire/a1fdee122b95748d81cee426d717c05b5174fe96/pics/blank.gif\" data-origin=\"https://img9.doubanio.com/view/ark_column_cover/large/public/59449126.jpg?v=1619778453\" alt=\"淡蓝铁塔\" /></a>\\n    </div>\\n    <div class=\"title\">\\n      <a href=\"https://read.douban.com/ebook/313643074\" target=\"_blank\">淡蓝铁塔</a>\\n    </div>\\n    <div class=\"author\"></div>\\n    <div class=\"price\">\\n        免费\\n    </div>\\n    <a href=\"https://read.douban.com/reader/column/59449126/chapter/313643116/\" target=\"_blank\" class=\"bn-link\">免费试读</a>\\n    <li>\\n    <div class=\"pic\">\\n        <a href=\"https://read.douban.com/ebook/174488689\" target=\"_blank\"><img src=\"https://img9.doubanio.com/f/shire/a1fdee122b95748d81cee426d717c05b5174fe96/pics/blank.gif\" data-origin=\"https://img9.doubanio.com/view/ark_column_cover/large/public/36465345.jpg?v=1615784615\" alt=\"请别和我爸结婚\" /></a>\\n    </div>\\n    <div class=\"title\">\\n      <a href=\"https://read.douban.com/ebook/174488689\" target=\"_blank\">请别和我爸结婚...</a>\\n    </div>\\n    <div class=\"author\"></div>\\n    <div class=\"price\">\\n        免费\\n    </div>\\n    <a href=\"https://read.douban.com/reader/column/36465345/chapter/174488727/\" target=\"_blank\" class=\"bn-link\">免费试读</a>\\n  </ul>\\n</div>\\n</div>\\n</div>\\n  </div>\\n  \\n</div>\\n\\n\\n\\n\\n\\n\\n\\n\\n      \\n<div id=\"anony-music\" class=\"section\">\\n  <div class=\"wrapper\">\\n  \\n  \\n  <div class=\"sidenav\">\\n    <h2 class=\"section-title\"><a href=\"https://music.douban.com\">音乐</a></h2>\\n    \\n  \\n  <div class=\"side-links nav-anon\">\\n      <ul>\\n                          \\n                 <li><a href=\"https://music.douban.com/artists/\">音乐人</a></li>\\n             \\n                 <li><a href=\"https://www.douban.com/wetware/\">潮潮豆瓣音乐周</a></li>\\n             \\n                 <li><a href=\"https://music.douban.com/artists/royalty/\">金羊毛计划</a></li>\\n             \\n                 <li><a href=\"https://music.douban.com/topics/\">专题</a></li>\\n             \\n                 <li><a href=\"https://music.douban.com/chart\">排行榜</a></li>\\n             \\n                 <li><a href=\"https://music.douban.com/tag/\">分类浏览</a></li>\\n             \\n                 <li><a href=\"https://music.douban.com/review/latest/\">乐评</a></li>\\n             \\n                 <li><a href=\"https://douban.fm/?from_=music_nav\">豆瓣FM</a></li>\\n             \\n                 <li><a href=\"https://douban.fm/explore/songlists/\">歌单</a></li>\\n             \\n                 <li><a href=\"https://artist.douban.com/abilu/\">阿比鹿音乐奖</a></li>\\n      \\n      </ul>\\n  </div>\\n\\n    \\n\\n\\n    <div class=\"apps-list\">\\n    <ul>\\n        <li>\\n            <a href=\"https://douban.fm/app?from_=shire_anonymous_home\" class=\"lnk-icon\">\\n                <i class=\"app-icon app-icon-fm\"></i>\\n            </a>\\n            <a href=\"https://douban.fm/app?from_=shire_anonymous_home\">豆瓣FM</a>\\n        </li>\\n        <li>\\n            <a href=\"https://artist.douban.com/app\" class=\"lnk-icon\">\\n                <i class=\"app-icon app-icon-artists\"></i>\\n            </a>\\n            <a href=\"https://artist.douban.com/app\">豆瓣音乐人</a>\\n        </li>\\n    </ul>\\n    </div>\\n\\n  </div>\\n\\n  <div class=\"side\">\\n  <div class=\"mod\">\\n    \\n    \\n    <h2>\\n        本周流行音乐人\\n            &nbsp;&middot;&nbsp;&middot;&nbsp;&middot;&nbsp;&middot;&nbsp;&middot;&nbsp;&middot;\\n            <span class=\"pl\">&nbsp;(\\n                \\n                    <a href=\"https://music.douban.com/artists/\" target=\"_self\">更多</a>\\n                ) </span>\\n    </h2>\\n\\n    <div class=\"list1 artist-charts\">\\n      <ul>\\n          <li>\\n            <span class=\"num\">1.</span>\\n            <div class=\"pic artist-song-play\" data-sids=\"[&#34;763764&#34;, &#34;52492&#34;, &#34;31025&#34;]\">\\n              <a href=\"https://site.douban.com/oyyl/\"><img src=\"https://img9.doubanio.com/f/shire/a1fdee122b95748d81cee426d717c05b5174fe96/pics/blank.gif\" data-origin=\"https://img9.doubanio.com/view/site/small/public/80988d44e6394e6.jpg\" width=\"48\"></a>\\n              <i class=\"icon icon-bg\"></i>\\n              <i class=\"icon icon-stat icon-play\"></i>\\n            </div>\\n            <div class=\"content\">\\n              <a href=\"https://site.douban.com/oyyl/\">正正</a>\\n              <div class=\"desc\">\\n                流派: 轻音乐 Easy Listening\\n                <br>812人关注\\n              </div>\\n            </div>\\n          </li>\\n          <li>\\n            <span class=\"num\">2.</span>\\n            <div class=\"pic artist-song-play\" data-sids=\"[&#34;763658&#34;, &#34;44419&#34;, &#34;64246&#34;]\">\\n              <a href=\"https://site.douban.com/huangyaowei/\"><img src=\"https://img9.doubanio.com/f/shire/a1fdee122b95748d81cee426d717c05b5174fe96/pics/blank.gif\" data-origin=\"https://img9.doubanio.com/view/site/small/public/71b0e6840ea85ce.jpg\" width=\"48\"></a>\\n              <i class=\"icon icon-bg\"></i>\\n              <i class=\"icon icon-stat icon-play\"></i>\\n            </div>\\n            <div class=\"content\">\\n              <a href=\"https://site.douban.com/huangyaowei/\">耀</a>\\n              <div class=\"desc\">\\n                流派: 流行 Pop\\n                <br>4953人关注\\n              </div>\\n            </div>\\n          </li>\\n          <li>\\n            <span class=\"num\">3.</span>\\n            <div class=\"pic artist-song-play\" data-sids=\"[&#34;763672&#34;, &#34;761410&#34;, &#34;762603&#34;]\">\\n              <a href=\"https://site.douban.com/maozhu/\"><img src=\"https://img9.doubanio.com/f/shire/a1fdee122b95748d81cee426d717c05b5174fe96/pics/blank.gif\" data-origin=\"https://img9.doubanio.com/view/site/small/public/78077599411215d.jpg\" width=\"48\"></a>\\n              <i class=\"icon icon-bg\"></i>\\n              <i class=\"icon icon-stat icon-play\"></i>\\n            </div>\\n            <div class=\"content\">\\n              <a href=\"https://site.douban.com/maozhu/\">Mao Zhu</a>\\n              <div class=\"desc\">\\n                流派: 古典 Classical\\n                <br>113人关注\\n              </div>\\n            </div>\\n          </li>\\n          <li>\\n            <span class=\"num\">4.</span>\\n            <div class=\"pic artist-song-play\" data-sids=\"[&#34;763566&#34;, &#34;592571&#34;, &#34;715588&#34;]\">\\n              <a href=\"https://site.douban.com/postpopnara/\"><img src=\"https://img9.doubanio.com/f/shire/a1fdee122b95748d81cee426d717c05b5174fe96/pics/blank.gif\" data-origin=\"https://img9.doubanio.com/view/site/small/public/d59a0ef957344ca.jpg\" width=\"48\"></a>\\n              <i class=\"icon icon-bg\"></i>\\n              <i class=\"icon icon-stat icon-play\"></i>\\n            </div>\\n            <div class=\"content\">\\n              <a href=\"https://site.douban.com/postpopnara/\">nara</a>\\n              <div class=\"desc\">\\n                流派: 电子 Electronica\\n                <br>846人关注\\n              </div>\\n            </div>\\n          </li>\\n          <li>\\n            <span class=\"num\">5.</span>\\n            <div class=\"pic artist-song-play\" data-sids=\"[&#34;446119&#34;, &#34;34146&#34;, &#34;10422&#34;]\">\\n              <a href=\"https://site.douban.com/thelifejourney/\"><img src=\"https://img9.doubanio.com/f/shire/a1fdee122b95748d81cee426d717c05b5174fe96/pics/blank.gif\" data-origin=\"https://img9.doubanio.com/view/site/small/public/708f5621f52eeb1.jpg\" width=\"48\"></a>\\n              <i class=\"icon icon-bg\"></i>\\n              <i class=\"icon icon-stat icon-play\"></i>\\n            </div>\\n            <div class=\"content\">\\n              <a href=\"https://site.douban.com/thelifejourney/\">旅行団</a>\\n              <div class=\"desc\">\\n                流派: 摇滚 Rock\\n                <br>38453人关注\\n              </div>\\n            </div>\\n          </li>\\n      </ul>\\n    </div>\\n  </div>\\n</div>\\n  <div class=\"main\">\\n\\n  \\n    \\n    <h2>\\n        豆瓣新碟榜\\n            &nbsp;&middot;&nbsp;&middot;&nbsp;&middot;&nbsp;&middot;&nbsp;&middot;&nbsp;&middot;\\n            <span class=\"pl\">&nbsp;(\\n                \\n                    <a href=\"https://music.douban.com#new1\" target=\"_self\">更多</a>\\n                ) </span>\\n    </h2>\\n\\n    <div class=\"album-list list\">\\n      <ul>\\n          <li>\\n            <div class=\"pic\">\\n              <a href=\"https://music.douban.com/subject/35473363/\">\\n                <img src=\"https://img9.doubanio.com/f/shire/a1fdee122b95748d81cee426d717c05b5174fe96/pics/blank.gif\" data-origin=\"https://img9.doubanio.com/view/subject/s/public/s33909966.jpg\" alt=\"阿莫希林\" style=\"width: 80px; max-height: 120px;\"/>\\n              </a>\\n            </div>\\n            <div class=\"title\">\\n              1. <a href=\"https://music.douban.com/subject/35473363/\">阿莫希林</a>\\n            </div>\\n            <div class=\"artist\">\\n              <a href=\"\">希林娜依高 Curley G</a>\\n            </div>\\n            <div class=\"rating\">\\n              <span class=\"allstar40\"></span><i>8.0</i>\\n            </div>\\n          </li>\\n          <li>\\n            <div class=\"pic\">\\n              <a href=\"https://music.douban.com/subject/35475377/\">\\n                <img src=\"https://img9.doubanio.com/f/shire/a1fdee122b95748d81cee426d717c05b5174fe96/pics/blank.gif\" data-origin=\"https://img9.doubanio.com/view/subject/s/public/s33911287.jpg\" alt=\"幼鸟指南\" style=\"width: 80px; max-height: 120px;\"/>\\n              </a>\\n            </div>\\n            <div class=\"title\">\\n              2. <a href=\"https://music.douban.com/subject/35475377/\">幼鸟指南</a>\\n            </div>\\n            <div class=\"artist\">\\n              <a href=\"\">毛不易</a>\\n            </div>\\n            <div class=\"rating\">\\n              <span class=\"allstar40\"></span><i>7.2</i>\\n            </div>\\n          </li>\\n          <li>\\n            <div class=\"pic\">\\n              <a href=\"https://music.douban.com/subject/35454445/\">\\n                <img src=\"https://img9.doubanio.com/f/shire/a1fdee122b95748d81cee426d717c05b5174fe96/pics/blank.gif\" data-origin=\"https://img9.doubanio.com/view/subject/s/public/s33891021.jpg\" alt=\"呼吸之野\" style=\"width: 80px; max-height: 120px;\"/>\\n              </a>\\n            </div>\\n            <div class=\"title\">\\n              3. <a href=\"https://music.douban.com/subject/35454445/\">呼吸之野</a>\\n            </div>\\n            <div class=\"artist\">\\n              <a href=\"\">许嵩</a>\\n            </div>\\n            <div class=\"rating\">\\n              <span class=\"allstar40\"></span><i>7.9</i>\\n            </div>\\n          </li>\\n          <li>\\n            <div class=\"pic\">\\n              <a href=\"https://music.douban.com/subject/35464478/\">\\n                <img src=\"https://img9.doubanio.com/f/shire/a1fdee122b95748d81cee426d717c05b5174fe96/pics/blank.gif\" data-origin=\"https://img9.doubanio.com/view/subject/s/public/s33898740.jpg\" alt=\"死不回头\" style=\"width: 80px; max-height: 120px;\"/>\\n              </a>\\n            </div>\\n            <div class=\"title\">\\n              4. <a href=\"https://music.douban.com/subject/35464478/\">死不回头</a>\\n            </div>\\n            <div class=\"artist\">\\n              <a href=\"\">海龟先生</a>\\n            </div>\\n            <div class=\"rating\">\\n              <span class=\"allstar45\"></span><i>8.4</i>\\n            </div>\\n          </li>\\n          <li>\\n            <div class=\"pic\">\\n              <a href=\"https://music.douban.com/subject/35374094/\">\\n                <img src=\"https://img9.doubanio.com/f/shire/a1fdee122b95748d81cee426d717c05b5174fe96/pics/blank.gif\" data-origin=\"https://img9.doubanio.com/view/subject/s/public/s33837896.jpg\" alt=\"Blue Weekend\" style=\"width: 80px; max-height: 120px;\"/>\\n              </a>\\n            </div>\\n            <div class=\"title\">\\n              5. <a href=\"https://music.douban.com/subject/35374094/\">Blue Weekend</a>\\n            </div>\\n            <div class=\"artist\">\\n              <a href=\"\">Wolf Alice</a>\\n            </div>\\n            <div class=\"rating\">\\n              <span class=\"allstar40\"></span><i>7.8</i>\\n            </div>\\n          </li>\\n          <li>\\n            <div class=\"pic\">\\n              <a href=\"https://music.douban.com/subject/35381676/\">\\n                <img src=\"https://img9.doubanio.com/f/shire/a1fdee122b95748d81cee426d717c05b5174fe96/pics/blank.gif\" data-origin=\"https://img9.doubanio.com/view/subject/s/public/s33843140.jpg\" alt=\"Jubilee\" style=\"width: 80px; max-height: 120px;\"/>\\n              </a>\\n            </div>\\n            <div class=\"title\">\\n              6. <a href=\"https://music.douban.com/subject/35381676/\">Jubilee</a>\\n            </div>\\n            <div class=\"artist\">\\n              <a href=\"\">Japanese Breakfast</a>\\n            </div>\\n            <div class=\"rating\">\\n              <span class=\"allstar40\"></span><i>7.9</i>\\n            </div>\\n          </li>\\n          <li>\\n            <div class=\"pic\">\\n              <a href=\"https://music.douban.com/subject/35448785/\">\\n                <img src=\"https://img9.doubanio.com/f/shire/a1fdee122b95748d81cee426d717c05b5174fe96/pics/blank.gif\" data-origin=\"https://img9.doubanio.com/view/subject/s/public/s33911254.jpg\" alt=\"The Chaos Chapter: FREEZE\" style=\"width: 80px; max-height: 120px;\"/>\\n              </a>\\n            </div>\\n            <div class=\"title\">\\n              7. <a href=\"https://music.douban.com/subject/35448785/\">The Chaos Chapter: FREEZE</a>\\n            </div>\\n            <div class=\"artist\">\\n              <a href=\"\">TOMORROW X TOGETHER TXT</a>\\n            </div>\\n            <div class=\"rating\">\\n              <span class=\"allstar40\"></span><i>7.4</i>\\n            </div>\\n          </li>\\n          <li>\\n            <div class=\"pic\">\\n              <a href=\"https://music.douban.com/subject/35465291/\">\\n                <img src=\"https://img9.doubanio.com/f/shire/a1fdee122b95748d81cee426d717c05b5174fe96/pics/blank.gif\" data-origin=\"https://img9.doubanio.com/view/subject/s/public/s33911256.jpg\" alt=\"Hello\" style=\"width: 80px; max-height: 120px;\"/>\\n              </a>\\n            </div>\\n            <div class=\"title\">\\n              8. <a href=\"https://music.douban.com/subject/35465291/\">Hello</a>\\n            </div>\\n            <div class=\"artist\">\\n              <a href=\"\">Joy</a>\\n            </div>\\n            <div class=\"rating\">\\n              <span class=\"allstar40\"></span><i>7.3</i>\\n            </div>\\n          </li>\\n      </ul>\\n    </div>\\n\\n  \\n  \\n    <h2>\\n        热门歌单\\n            &nbsp;&middot;&nbsp;&middot;&nbsp;&middot;&nbsp;&middot;&nbsp;&middot;&nbsp;&middot;\\n            <span class=\"pl\">&nbsp;(\\n                \\n                    <a href=\"https://music.douban.com/programmes/\" target=\"_self\">更多</a>\\n                ) </span>\\n    </h2>\\n\\n  <div class=\"programme-list list\">\\n    <ul>\\n        \\n          <li>\\n            <div class=\"pic cover\"><img width=80 src=\"https://img9.doubanio.com/img/songlist/large/39193174-1.png\"><a href=\"https://music.douban.com/programme/39193174\" target=\"_blank\"><i></i></a></div>\\n            <div class=\"title\">韩语流行：只听旋律就能让你沉沦</div>\\n          </li>\\n        \\n          <li>\\n            <div class=\"pic cover\"><img width=80 src=\"https://img9.doubanio.com/img/songlist/large/43226877-1.png\"><a href=\"https://music.douban.com/programme/43226877\" target=\"_blank\"><i></i></a></div>\\n            <div class=\"title\">Dua Lipa：当红Diva养成记</div>\\n          </li>\\n        \\n          <li>\\n            <div class=\"pic cover\"><img width=80 src=\"https://img9.doubanio.com/img/songlist/large/3635578-1.jpg\"><a href=\"https://music.douban.com/programme/3635578\" target=\"_blank\"><i></i></a></div>\\n            <div class=\"title\">痒~~~</div>\\n          </li>\\n        \\n          <li>\\n            <div class=\"pic cover\"><img width=80 src=\"https://img9.doubanio.com/img/songlist/large/10407797-1.jpg\"><a href=\"https://music.douban.com/programme/10407797\" target=\"_blank\"><i></i></a></div>\\n            <div class=\"title\">Etta Jones-乡村雷鬼爵士137</div>\\n          </li>\\n        \\n          <li>\\n            <div class=\"pic cover\"><img width=80 src=\"https://img9.doubanio.com/img/songlist/large/43063-1.jpg\"><a href=\"https://music.douban.com/programme/43063\" target=\"_blank\"><i></i></a></div>\\n            <div class=\"title\">grammy</div>\\n          </li>\\n        \\n          <li>\\n            <div class=\"pic cover\"><img width=80 src=\"https://img9.doubanio.com/img/songlist/large/293587-8.jpg\"><a href=\"https://music.douban.com/programme/293587\" target=\"_blank\"><i></i></a></div>\\n            <div class=\"title\">一</div>\\n          </li>\\n    </ul>\\n  </div>\\n\\n</div>\\n  </div>\\n  \\n  <div id=\"dale_anonymous_home_page_middle_2\" class=\"extra\"></div>\\n\\n</div>\\n\\n\\n\\n\\n\\n\\n\\n\\n      \\n<div id=\"anony-market\" class=\"section\">\\n  <div class=\"wrapper\">\\n  \\n  \\n<div class=\"sidenav\">\\n  <h2 class=\"section-title\">\\n    <a href=\"https://market.douban.com?dcs=anonymous-home-sidenav&amp;dcm=douban\">\\n      豆品\\n    </a>\\n  </h2>\\n</div>\\n\\n  <div class=\"side\">\\n<div class=\"mod\">\\n  \\n    <h2>\\n        热门活动\\n            &nbsp;&middot;&nbsp;&middot;&nbsp;&middot;&nbsp;&middot;&nbsp;&middot;&nbsp;&middot;\\n    </h2>\\n\\n  <ul class=\"market-topics\">\\n      <li class=\"market-topic-item\" >\\n        <a href=\"https://www.douban.com/gallery/topic/761/?index=2&amp;r=topic?dcm=douban&dcs=anonymous-home-topic\"\\n          target=\"_blank\">\\n          <div class=\"market-topic-pic\"\\n            style=\"background-image:url(https://img9.doubanio.com/img/files/file-1513305186-3.jpg)\">\\n          </div>\\n        </a>\\n        <p class=\"market-topic-footer\">\\n          <a href=\"https://www.douban.com/gallery/topic/761/?index=2&amp;r=topic?dcm=douban&dcs=anonymous-home-topic\"\\n            target=\"_blank\">\\n          我的豆瓣收藏夹里有什么\\n          </a>\\n        </p>\\n      </li>\\n  </ul>\\n</div>\\n\\n  <div class=\"mod\">\\n    \\n    <h2>\\n        官方小组\\n            &nbsp;&middot;&nbsp;&middot;&nbsp;&middot;&nbsp;&middot;&nbsp;&middot;&nbsp;&middot;\\n            <span class=\"pl\">&nbsp;(\\n                \\n                    <a href=\"https://www.douban.com/group/588598?dcs=anonymous-home-more-shops&amp;dcm=douban#hot-shop-wrapper\" target=\"_self\">更多</a>\\n                ) </span>\\n    </h2>\\n\\n    <ul class=\"market-group-topics\">\\n        <li>\\n          <p class=\"market-group-topic-title\">\\n            <a href=\"https://www.douban.com/group/topic/225403601?dcm=douban&dcs=anonymous-home-group\"\\n              target=\"_blank\">\\n              【申请已结束】一日三餐，一起吃饭：邀请各位爱晒猫的铲屎官免费试用新品「豆瓣猫咪餐具」\\n            </a>\\n          </p>\\n          <p class=\"market-group-topic-footer\">\\n            <span class=\"market-group-topic-date\">\\n              05-17\\n            </span>\\n            <span class=\"market-group-topic-amount\">\\n              683 人参与\\n            </span>\\n          </p>\\n        </li>\\n        <li>\\n          <p class=\"market-group-topic-title\">\\n            <a href=\"https://www.douban.com/group/topic/203421229?dcm=douban&dcs=anonymous-home-group\"\\n              target=\"_blank\">\\n              请开麦｜我们很想听听你的心声，期待豆瓣豆品出什么样的产品？\\n            </a>\\n          </p>\\n          <p class=\"market-group-topic-footer\">\\n            <span class=\"market-group-topic-date\">\\n              05-25\\n            </span>\\n            <span class=\"market-group-topic-amount\">\\n              128 人参与\\n            </span>\\n          </p>\\n        </li>\\n        <li>\\n          <p class=\"market-group-topic-title\">\\n            <a href=\"https://www.douban.com/group/topic/204293834?dcm=douban&dcs=anonymous-home-group\"\\n              target=\"_blank\">\\n              会员中心上线了「豆瓣遇见你便利贴」，100积分即可兑换\\n            </a>\\n          </p>\\n          <p class=\"market-group-topic-footer\">\\n            <span class=\"market-group-topic-date\">\\n              03-04\\n            </span>\\n            <span class=\"market-group-topic-amount\">\\n              12 人参与\\n            </span>\\n          </p>\\n        </li>\\n    </ul>\\n  </div>\\n</div>\\n  <div class=\"main\">\\n  \\n    <h2>\\n        热卖商品\\n            &nbsp;&middot;&nbsp;&middot;&nbsp;&middot;&nbsp;&middot;&nbsp;&middot;&nbsp;&middot;\\n            <span class=\"pl\">&nbsp;(\\n                \\n                    <a href=\"https://market.douban.com?dcs=anonymous-home-more-skus&amp;dcm=douban\" target=\"_self\">更多</a>\\n                ) </span>\\n    </h2>\\n\\n  <ul class=\"market-spu-list\">\\n      \\n      <li class=\"main-sku\">\\n        <a href=\"https://market.douban.com/campaign/readsticker?dcm=douban&dcs=anonymous-home-spu\"\\n          target=\"_blank\">\\n          <div class=\"market-spu-pic\"\\n            style=\"background-image: url(https://img9.doubanio.com/img/files/file-1613971874-0.jpg)\">\\n          </div>\\n        </a>\\n        <div class=\"market-spu-footer\">\\n          <span class=\"market-spu-price\">\\n            ￥9\\n          </span>\\n          <a href=\"https://market.douban.com/campaign/readsticker?dcm=douban&dcs=anonymous-home-spu\"\\n            target=\"_blank\"\\n            class=\"market-spu-title\">\\n            豆瓣读书便签贴纸\\n          </a>\\n        </div>\\n    </li>\\n      \\n      <li class=\"main-sku\">\\n        <a href=\"https://market.douban.com/campaign/watch_colourful?dcm=douban&dcs=anonymous-home-spu\"\\n          target=\"_blank\">\\n          <div class=\"market-spu-pic\"\\n            style=\"background-image: url(https://img9.doubanio.com/img/files/file-1603878070-2.jpg)\">\\n          </div>\\n        </a>\\n        <div class=\"market-spu-footer\">\\n          <span class=\"market-spu-price\">\\n            ￥329\\n          </span>\\n          <a href=\"https://market.douban.com/campaign/watch_colourful?dcm=douban&dcs=anonymous-home-spu\"\\n            target=\"_blank\"\\n            class=\"market-spu-title\">\\n            豆瓣逆向手表—多色款\\n          </a>\\n        </div>\\n    </li>\\n      \\n      <li class=\"main-sku\">\\n        <a href=\"https://market.douban.com/campaign/calendar2021?dcm=douban&dcs=anonymous-home-spu\"\\n          target=\"_blank\">\\n          <div class=\"market-spu-pic\"\\n            style=\"background-image: url(https://img9.doubanio.com/img/files/file-1600251064-1.jpg)\">\\n          </div>\\n        </a>\\n        <div class=\"market-spu-footer\">\\n          <span class=\"market-spu-price\">\\n            ￥99\\n          </span>\\n          <a href=\"https://market.douban.com/campaign/calendar2021?dcm=douban&dcs=anonymous-home-spu\"\\n            target=\"_blank\"\\n            class=\"market-spu-title\">\\n            豆瓣电影日历2021\\n          </a>\\n        </div>\\n    </li>\\n      \\n      <li class=\"main-sku\">\\n        <a href=\"https://market.douban.com/campaign/weeklycalendar2021?dcm=douban&dcs=anonymous-home-spu\"\\n          target=\"_blank\">\\n          <div class=\"market-spu-pic\"\\n            style=\"background-image: url(https://img9.doubanio.com/img/files/file-1603878070-0.jpg)\">\\n          </div>\\n        </a>\\n        <div class=\"market-spu-footer\">\\n          <span class=\"market-spu-price\">\\n            ￥88\\n          </span>\\n          <a href=\"https://market.douban.com/campaign/weeklycalendar2021?dcm=douban&dcs=anonymous-home-spu\"\\n            target=\"_blank\"\\n            class=\"market-spu-title\">\\n            豆瓣读书周历2021\\n          </a>\\n        </div>\\n    </li>\\n    </ul>\\n</div>\\n  </div>\\n  \\n</div>\\n\\n\\n\\n\\n\\n\\n\\n\\n      \\n<div id=\"anony-events\" class=\"section\">\\n  <div class=\"wrapper\">\\n  \\n  \\n<div class=\"sidenav\">\\n  <h2 class=\"section-title\"><a href=\"https://www.douban.com/location/\">同城</a></h2>\\n  \\n  \\n  <div class=\"side-links nav-anon\">\\n      <ul>\\n        \\n  \\n    \\n    <li>\\n        <a\\n        href=\"https://www.douban.com/location/dalian/events\">近期活动</a>\\n    </li>\\n    \\n    <li>\\n        <a\\n        href=\"https://www.douban.com/location/dalian/hosts\">主办方</a>\\n    </li>\\n    \\n    <li>\\n        <a\\n        href=\"https://www.douban.com/location/drama/\">舞台剧</a>\\n    </li>\\n\\n      \\n      </ul>\\n  </div>\\n \\n  \\n\\n\\n    <div class=\"apps-list\">\\n    <ul>\\n    </ul>\\n    </div>\\n\\n</div>\\n\\n  <div class=\"side\">\\n\\n<div class=\"mod\">\\n\\n    <h2>\\n        活动标签\\n            &nbsp;&middot;&nbsp;&middot;&nbsp;&middot;&nbsp;&middot;&nbsp;&middot;&nbsp;&middot;\\n    </h2>\\n\\n<div class=\"cate events-cate\">\\n  <ul>\\n  <li class=\"cate-label\"><a href=\"https://www.douban.com/location/dalian/events/week-music\">音乐&raquo;</a></li>\\n    <li><a href=\"https://www.douban.com/location/dalian/events/week-1001\">小型现场</a></li>\\n    <li><a href=\"https://www.douban.com/location/dalian/events/week-1002\">音乐会</a></li>\\n    <li><a href=\"https://www.douban.com/location/dalian/events/week-1003\">演唱会</a></li>\\n    <li><a href=\"https://www.douban.com/location/dalian/events/week-1004\">音乐节</a></li>\\n  </ul>\\n</div>\\n<div class=\"cate events-cate\">\\n  <ul>\\n  <li class=\"cate-label\"><a href=\"https://www.douban.com/location/dalian/events/week-drama\">戏剧&raquo;</a></li>\\n    <li><a href=\"https://www.douban.com/location/dalian/events/week-1101\">话剧</a></li>\\n    <li><a href=\"https://www.douban.com/location/dalian/events/week-1102\">音乐剧</a></li>\\n    <li><a href=\"https://www.douban.com/location/dalian/events/week-1103\">舞剧</a></li>\\n    <li><a href=\"https://www.douban.com/location/dalian/events/week-1104\">歌剧</a></li>\\n    <li><a href=\"https://www.douban.com/location/dalian/events/week-1105\">戏曲</a></li>\\n    <li><a href=\"https://www.douban.com/location/dalian/events/week-1106\">其他</a></li>\\n  </ul>\\n</div>\\n<div class=\"cate events-cate\">\\n  <ul>\\n  <li class=\"cate-label\"><a href=\"https://www.douban.com/location/dalian/events/week-party\">聚会&raquo;</a></li>\\n    <li><a href=\"https://www.douban.com/location/dalian/events/week-1401\">生活</a></li>\\n    <li><a href=\"https://www.douban.com/location/dalian/events/week-1402\">集市</a></li>\\n    <li><a href=\"https://www.douban.com/location/dalian/events/week-1403\">摄影</a></li>\\n    <li><a href=\"https://www.douban.com/location/dalian/events/week-1404\">外语</a></li>\\n    <li><a href=\"https://www.douban.com/location/dalian/events/week-1405\">桌游</a></li>\\n    <li><a href=\"https://www.douban.com/location/dalian/events/week-1406\">夜店</a></li>\\n    <li><a href=\"https://www.douban.com/location/dalian/events/week-1407\">交友</a></li>\\n    <li><a href=\"https://www.douban.com/location/dalian/events/week-1408\">美食</a></li>\\n    <li><a href=\"https://www.douban.com/location/dalian/events/week-1409\">派对</a></li>\\n  </ul>\\n</div>\\n<div class=\"cate events-cate\">\\n  <ul>\\n  <li class=\"cate-label\"><a href=\"https://www.douban.com/location/dalian/events/week-film\">电影&raquo;</a></li>\\n    <li><a href=\"https://www.douban.com/location/dalian/events/week-1801\">主题放映</a></li>\\n    <li><a href=\"https://www.douban.com/location/dalian/events/week-1802\">影展</a></li>\\n    <li><a href=\"https://www.douban.com/location/dalian/events/week-1803\">影院活动</a></li>\\n  </ul>\\n</div>\\n<div class=\"cate events-cate\">\\n  <ul>\\n  <li class=\"cate-label\"><a href=\"https://www.douban.com/location/dalian/events/week-all\">其他&raquo;</a></li>\\n    <li><a href=\"https://www.douban.com/location/dalian/events/week-salon\">讲座</a></li>\\n    <li><a href=\"https://www.douban.com/location/dalian/events/week-exhibition\">展览</a></li>\\n    <li><a href=\"https://www.douban.com/location/dalian/events/week-sports\">运动</a></li>\\n    <li><a href=\"https://www.douban.com/location/dalian/events/week-travel\">旅行</a></li>\\n    <li><a href=\"https://www.douban.com/location/dalian/events/week-commonweal\">公益</a></li>\\n  </ul>\\n</div>\\n</div>\\n</div>\\n  <div class=\"main\">\\n\\n\\n    <h2>\\n        大连 · 本周热门活动\\n            &nbsp;&middot;&nbsp;&middot;&nbsp;&middot;&nbsp;&middot;&nbsp;&middot;&nbsp;&middot;\\n            <span class=\"pl\">&nbsp;(\\n                \\n                    <a href=\"https://www.douban.com/location/\" target=\"_self\">更多</a>\\n                ) </span>\\n    </h2>\\n\\n<div class=\"events-list list\">\\n  <ul>\\n    <li>\\n      <div class=\"pic\">\\n        <a href=\"https://www.douban.com/event/34085200/\">\\n            <img data-origin=\"https://img9.doubanio.com/pview/event_poster/small/public/48baeac338b63d9.jpg\" src=\"https://img9.doubanio.com/f/shire/a1fdee122b95748d81cee426d717c05b5174fe96/pics/blank.gif\" width=\"70\">\\n        </a>\\n      </div>\\n      <div class=\"info\">\\n        <div class=\"title\">\\n          <a href=\"https://www.douban.com/event/34085200/\" title=\"「赫兹乐队」《你喜欢的样子我都没有》巡演\">\\n            「赫兹乐队」《你喜欢的样子我都没有》巡演\\n          </a>\\n        </div>\\n        <div class=\"datetime\">\\n            6月4日 周五 20:30 - 22:30\\n        </div>\\n        <address title=\"赫兹音乐空间（黑石礁店） 大连市沙河口区辰熙广场a座负一层的大隐WALDEN文化街区（近建设银行）\">\\n          赫兹音乐空间（黑石礁店） ...\\n        </address>\\n        <div class=\"follow\">\\n          6人关注\\n        </div>\\n      </div>\\n    <li>\\n      <div class=\"pic\">\\n        <a href=\"https://www.douban.com/event/34082930/\">\\n            <img data-origin=\"https://img9.doubanio.com/pview/event_poster/small/public/35ffdced2b6817d.jpg\" src=\"https://img9.doubanio.com/f/shire/a1fdee122b95748d81cee426d717c05b5174fe96/pics/blank.gif\" width=\"70\">\\n        </a>\\n      </div>\\n      <div class=\"info\">\\n        <div class=\"title\">\\n          <a href=\"https://www.douban.com/event/34082930/\" title=\"郁乐队2021-重生巡演\">\\n            郁乐队2021-重生巡演\\n          </a>\\n        </div>\\n        <div class=\"datetime\">\\n            6月26日 周六 20:30 - 22:30\\n        </div>\\n        <address title=\"赫兹音乐空间（黑石礁店） 大连市沙河口区辰熙广场a座负一层的大隐WALDEN文化街区（近建设银行）\">\\n          赫兹音乐空间（黑石礁店） ...\\n        </address>\\n        <div class=\"follow\">\\n          3人关注\\n        </div>\\n      </div>\\n    <li>\\n      <div class=\"pic\">\\n        <a href=\"https://www.douban.com/event/34286836/\">\\n            <img data-origin=\"https://img9.doubanio.com/pview/event_poster/small/public/b52baf9731a3ee5.jpg\" src=\"https://img9.doubanio.com/f/shire/a1fdee122b95748d81cee426d717c05b5174fe96/pics/blank.gif\" width=\"70\">\\n        </a>\\n      </div>\\n      <div class=\"info\">\\n        <div class=\"title\">\\n          <a href=\"https://www.douban.com/event/34286836/\" title=\"大连画室学画画-零基础学油画\">\\n            大连画室学画画-零基础学油画\\n          </a>\\n        </div>\\n        <div class=\"datetime\">\\n            5月31日 周一 - 8月31日 周二\\n        </div>\\n        <address title=\"大连中心裕景裕濠座三单元41楼4103\">\\n          大连中心裕景裕濠座三单元4...\\n        </address>\\n        <div class=\"follow\">\\n          1人关注\\n        </div>\\n      </div>\\n    <li>\\n      <div class=\"pic\">\\n        <a href=\"https://www.douban.com/event/34167547/\">\\n            <img data-origin=\"https://img9.doubanio.com/pview/event_poster/small/public/49a5e29bcd73e2a.jpg\" src=\"https://img9.doubanio.com/f/shire/a1fdee122b95748d81cee426d717c05b5174fe96/pics/blank.gif\" width=\"70\">\\n        </a>\\n      </div>\\n      <div class=\"info\">\\n        <div class=\"title\">\\n          <a href=\"https://www.douban.com/event/34167547/\" title=\"大连劳动公园植物识别线下活动\">\\n            大连劳动公园植物识别线下活动\\n          </a>\\n        </div>\\n        <div class=\"datetime\">\\n            4月11日 周日 - 8月25日 周三\\n        </div>\\n        <address title=\"劳动公园\">\\n          劳动公园\\n        </address>\\n        <div class=\"follow\">\\n          14人关注\\n        </div>\\n      </div>\\n  </ul>\\n</div>\\n</div>\\n  </div>\\n  \\n</div>\\n\\n\\n\\n\\n\\n\\n\\n\\n\\n<div class=\"wrapper\">\\n  <div id=\"dale_anonymous_home_page_bottom\" class=\"extra\"></div>\\n  <div id=\"ft\">\\n  \\n  \\n<span id=\"icp\" class=\"fleft gray-link\">\\n    &copy; 2005－2021 douban.com, all rights reserved 北京豆网科技有限公司\\n  <br>\\n  <a href=\"https://img9.doubanio.com/view/treasury_image/raw/public/8f4d0a09fd60834.jpg\" target=\"_blank\">营业执照</a> <a href=\"https://beian.miit.gov.cn/\" target=\"_blank\">京ICP证090015号</a> 京ICP备11027288号\\n  <a href=\"https://www.douban.com/about?topic=licence\" target=\"_blank\">网络视听许可证0110418号</a>\\n  <a href=\"https://img9.doubanio.com/view/treasury_image/raw/public/ee56ad1c288f141.jpg\" target=\"_blank\">食品经营许可证</a>\\n\\n  <br>京网文[2015]2026-368号\\n  <a href=\"https://img9.doubanio.com/f/shire/80d71f876c40a3ecdfde2fe2afe3b1983a2cac64/pics/licence/publication2018.png\" target=\"_blank\">新出发京批字第直160029号</a>\\n\\n  &nbsp;&nbsp;新出网证(京)字129号\\n  <br>违法和不良信息投诉电话：4008353331-9&nbsp;<img src=\"https://img9.doubanio.com/view/treasury_image/raw/public/6316c63a81deef1.jpg\" height=\"16\" align=\"top\"/>\\n  <br><img src=\"https://img9.doubanio.com/pics/icon/jubao.png\" align=\"absmiddle\" width=\"15\"> <a href=\"http://www.12377.cn/\">中国互联网举报中心</a> 电话：12377 \\n  <img src=\"https://img9.doubanio.com/pics/biaoshi.gif\" align=\"absmiddle\"> <a href=\"http://www.beian.gov.cn/portal/registerSystemInfo?recordcode=11010502000728\" target=\"_blank\">京公网安备11010502000728</a>\\n</span>\\n\\n<a href=\"https://www.douban.com/hnypt/variformcyst.py\" style=\"display: none;\"></a>\\n\\n<span class=\"fright\">\\n    <a href=\"https://www.douban.com/about\">关于豆瓣</a>\\n    · <a href=\"https://www.douban.com/jobs\">在豆瓣工作</a>\\n    · <a href=\"https://www.douban.com/about?topic=contactus\">联系我们</a>\\n    · <a href=\"https://www.douban.com/about/legal\">法律声明</a>\\n    \\n    · <a href=\"https://help.douban.com/?app=main\" target=\"_blank\">帮助中心</a>\\n    · <a href=\"https://www.douban.com/doubanapp/\">移动应用</a>\\n    · <a href=\"https://www.douban.com/partner/\">豆瓣广告</a>\\n</span>\\n\\n  </div>\\n</div>\\n\\n\\n\\n\\n\\n\\n<script src=\"https://img9.doubanio.com/f/shire/df6a1d712d36db03e9bddb32cbd5fa080bfcddfc/js/core/do/_init_.js\" data-cfg-corelib=\"https://img9.doubanio.com/f/shire/72ced6df41d4d158420cebdd254f9562942464e3/js/jquery.min.js\"></script>\\n<script type=\"text/javascript\" src=\"https://img9.doubanio.com/misc/mixed_static/95c0cde8514732b.js\"></script>\\n\\n    <!-- douban ad begin -->\\n    \\n\\n\\n\\n\\n    \\n<script type=\"text/javascript\">\\n    (function (global) {\\n        var newNode = global.document.createElement(\\'script\\'),\\n            existingNode = global.document.getElementsByTagName(\\'script\\')[0],\\n            adSource = \\'//erebor.douban.com/\\',\\n            userId = \\'\\',\\n            browserId = \\'1i8YWHFPDwI\\',\\n            criteria = \\'3:/\\',\\n            preview = \\'\\',\\n            debug = false,\\n            adSlots = [\\'dale_anonymous_homepage_top_for_crazy_ad\\', \\'dale_anonymous_homepage_right_top\\', \\'dale_anonymous_homepage_movie_bottom\\', \\'dale_anonymous_home_page_top\\', \\'dale_homepage_online_activity_promo_1\\', \\'dale_anonymous_homepage_doublemint\\', \\'dale_anonymous_home_page_middle\\', \\'dale_anonymous_home_page_middle_2\\', \\'dale_anonymous_home_page_bottom\\'];\\n\\n        global.DoubanAdRequest = {src: adSource, uid: userId, bid: browserId, crtr: criteria, prv: preview, debug: debug};\\n        global.DoubanAdSlots = (global.DoubanAdSlots || []).concat(adSlots);\\n\\n        newNode.setAttribute(\\'type\\', \\'text/javascript\\');\\n        newNode.setAttribute(\\'src\\', \\'//img1.doubanio.com/NWt2ZHQ5bC9mL2FkanMvNmEyODIwODUxODI1ZmFhMDA5YzM3YzUzM2ZmOTJkZTk5NGUzODExYS9hZC5yZWxlYXNlLmpz\\');\\n        newNode.setAttribute(\\'async\\', true);\\n        existingNode.parentNode.insertBefore(newNode, existingNode);\\n    })(this);\\n</script>\\n\\n\\n\\n\\n\\n\\n\\n\\n\\n\\n    <!-- douban ad end -->\\n    \\n\\n\\n\\n\\n\\n\\n\\n\\n\\n<!-- Google Tag Manager -->\\n<noscript><iframe src=\"//www.googletagmanager.com/ns.html?id=GTM-5WP579\" height=\"0\" width=\"0\" style=\"display:none;visibility:hidden\"></iframe></noscript>\\n<script>(function(w,d,s,l,i){w[l]=w[l]||[];w[l].push({\\'gtm.start\\':new Date().getTime(),event:\\'gtm.js\\'});var f=d.getElementsByTagName(s)[0],j=d.createElement(s),dl=l!=\\'dataLayer\\'?\\'&l=\\'+l:\\'\\';j.async=true;j.src=\\'//www.googletagmanager.com/gtm.js?id=\\'+i+dl;f.parentNode.insertBefore(j,f);})(window,document,\\'script\\',\\'dataLayer\\',\\'GTM-5WP579\\');</script>\\n<!-- End Google Tag Manager -->\\n\\n\\n<script type=\"text/javascript\">\\nvar _paq = _paq || [];\\n_paq.push([\\'trackPageView\\']);\\n_paq.push([\\'enableLinkTracking\\']);\\n(function() {\\n    var p=((\\'https:\\' == document.location.protocol) ? \\'https\\' : \\'http\\'), u=p+\\'://fundin.douban.com/\\';\\n    _paq.push([\\'setTrackerUrl\\', u+\\'piwik\\']);\\n    _paq.push([\\'setSiteId\\', \\'100001\\']);\\n    var d=document, g=d.createElement(\\'script\\'), s=d.getElementsByTagName(\\'script\\')[0];\\n    g.type=\\'text/javascript\\';\\n    g.defer=true;\\n    g.async=true;\\n    g.src=p+\\'://img3.doubanio.com/dae/fundin/piwik.js\\';\\n    s.parentNode.insertBefore(g,s);\\n})();\\n</script>\\n\\n<script type=\"text/javascript\">\\nvar _gaq = _gaq || [];\\n_gaq.push([\\'_setAccount\\', \\'UA-7019765-1\\']);\\n_gaq.push([\\'_setCampNameKey\\', \\'dcn\\']);\\n_gaq.push([\\'_setCampSourceKey\\', \\'dcs\\']);\\n_gaq.push([\\'_setCampMediumKey\\', \\'dcm\\']);\\n_gaq.push([\\'_setCampTermKey\\', \\'dct\\']);\\n_gaq.push([\\'_setCampContentKey\\', \\'dcc\\']);\\n_gaq.push([\\'_addOrganic\\', \\'baidu\\', \\'word\\']);\\n_gaq.push([\\'_addOrganic\\', \\'soso\\', \\'w\\']);\\n_gaq.push([\\'_addOrganic\\', \\'3721\\', \\'name\\']);\\n_gaq.push([\\'_addOrganic\\', \\'youdao\\', \\'q\\']);\\n_gaq.push([\\'_addOrganic\\', \\'so.360.cn\\', \\'q\\']);\\n_gaq.push([\\'_addOrganic\\', \\'vnet\\', \\'kw\\']);\\n_gaq.push([\\'_addOrganic\\', \\'sogou\\', \\'query\\']);\\n_gaq.push([\\'_addIgnoredOrganic\\', \\'豆瓣\\']);\\n_gaq.push([\\'_addIgnoredOrganic\\', \\'douban\\']);\\n_gaq.push([\\'_addIgnoredOrganic\\', \\'豆瓣网\\']);\\n_gaq.push([\\'_addIgnoredOrganic\\', \\'www.douban.com\\']);\\n_gaq.push([\\'_setDomainName\\', \\'.douban.com\\']);\\n\\n\\n    _gaq.push([\\'_setCustomVar\\', 1, \\'responsive_view_mode\\', \\'desktop\\', 3]);\\n\\n_gaq.push([\\'_trackPageview\\']);\\n_gaq.push([\\'_trackPageLoadTime\\']);\\n\\nwindow._ga_init = function() {\\n    var ga = document.createElement(\\'script\\');\\n    ga.src = (\\'https:\\' == document.location.protocol ? \\'https://ssl\\' : \\'http://www\\') + \\'.google-analytics.com/ga.js\\';\\n    ga.setAttribute(\\'async\\', \\'true\\');\\n    document.documentElement.firstChild.appendChild(ga);\\n};\\nif (window.addEventListener) {\\n    window.addEventListener(\\'load\\', _ga_init, false);\\n} else {\\n    window.attachEvent(\\'onload\\', _ga_init);\\n}\\n</script>\\n\\n\\n\\n\\n\\n\\n</body>\\n</html>\\n\\n\\n\\n'"
      ]
     },
     "execution_count": 11,
     "metadata": {},
     "output_type": "execute_result"
    }
   ],
   "source": [
    "# hide\n",
    "res = requests.post(url,headers=headers,data=data,cookies=cookies)\n",
    "res.text"
   ]
  },
  {
   "cell_type": "code",
   "execution_count": 13,
   "metadata": {},
   "outputs": [],
   "source": [
    "# hide\n",
    "# 查看最近发布的5条动态\n",
    "soup = BeautifulSoup(res.text)\n",
    "items = soup.find_all(class_='new-status')\n",
    "for item in items[:5]:\n",
    "    print(item.find('p').text)"
   ]
  },
  {
   "cell_type": "code",
   "execution_count": 16,
   "metadata": {},
   "outputs": [
    {
     "ename": "IndexError",
     "evalue": "list index out of range",
     "output_type": "error",
     "traceback": [
      "\u001b[0;31m---------------------------------------------------------------------------\u001b[0m",
      "\u001b[0;31mIndexError\u001b[0m                                Traceback (most recent call last)",
      "\u001b[0;32m<ipython-input-16-4a0eb25cb326>\u001b[0m in \u001b[0;36m<module>\u001b[0;34m\u001b[0m\n\u001b[1;32m      1\u001b[0m \u001b[0;31m# hide\u001b[0m\u001b[0;34m\u001b[0m\u001b[0;34m\u001b[0m\u001b[0;34m\u001b[0m\u001b[0m\n\u001b[0;32m----> 2\u001b[0;31m \u001b[0mtype\u001b[0m\u001b[0;34m(\u001b[0m\u001b[0mitems\u001b[0m\u001b[0;34m[\u001b[0m\u001b[0;36m0\u001b[0m\u001b[0;34m]\u001b[0m\u001b[0;34m)\u001b[0m\u001b[0;34m,\u001b[0m\u001b[0mitems\u001b[0m\u001b[0;34m[\u001b[0m\u001b[0;36m0\u001b[0m\u001b[0;34m]\u001b[0m\u001b[0;34m.\u001b[0m\u001b[0mattrs\u001b[0m\u001b[0;34m\u001b[0m\u001b[0;34m\u001b[0m\u001b[0m\n\u001b[0m",
      "\u001b[0;31mIndexError\u001b[0m: list index out of range"
     ]
    }
   ],
   "source": [
    "# hide\n",
    "type(items[0]),items[0].attrs"
   ]
  },
  {
   "cell_type": "markdown",
   "metadata": {},
   "source": [
    "顺便看看tag的其他属性，上下左右查到其他的tag\n",
    "* item.parent\n",
    "* item.parents\n",
    "\n",
    "* item.contents\n",
    "* item.children\n",
    "\n",
    "* item.next_sibling\n",
    "* item.previous_sibling"
   ]
  },
  {
   "cell_type": "markdown",
   "metadata": {},
   "source": [
    "## JSON 存储\n",
    "> 这个格式本质上就是个dict，在MongoDB和Redis中也是这样存储，所以这里就开始学习下"
   ]
  },
  {
   "cell_type": "markdown",
   "metadata": {},
   "source": [
    "比如这次要把谁在什么时间，说了什么话记下来"
   ]
  },
  {
   "cell_type": "code",
   "execution_count": 17,
   "metadata": {},
   "outputs": [
    {
     "ename": "IndexError",
     "evalue": "list index out of range",
     "output_type": "error",
     "traceback": [
      "\u001b[0;31m---------------------------------------------------------------------------\u001b[0m",
      "\u001b[0;31mIndexError\u001b[0m                                Traceback (most recent call last)",
      "\u001b[0;32m<ipython-input-17-1d3f849b4111>\u001b[0m in \u001b[0;36m<module>\u001b[0;34m\u001b[0m\n\u001b[1;32m      1\u001b[0m \u001b[0;31m# hide\u001b[0m\u001b[0;34m\u001b[0m\u001b[0;34m\u001b[0m\u001b[0;34m\u001b[0m\u001b[0m\n\u001b[0;32m----> 2\u001b[0;31m \u001b[0mprint\u001b[0m\u001b[0;34m(\u001b[0m\u001b[0mitems\u001b[0m\u001b[0;34m[\u001b[0m\u001b[0;36m5\u001b[0m\u001b[0;34m]\u001b[0m\u001b[0;34m[\u001b[0m\u001b[0;34m'data-sid'\u001b[0m\u001b[0;34m]\u001b[0m\u001b[0;34m)\u001b[0m\u001b[0;34m\u001b[0m\u001b[0;34m\u001b[0m\u001b[0m\n\u001b[0m\u001b[1;32m      3\u001b[0m \u001b[0mprint\u001b[0m\u001b[0;34m(\u001b[0m\u001b[0mitems\u001b[0m\u001b[0;34m[\u001b[0m\u001b[0;36m0\u001b[0m\u001b[0;34m]\u001b[0m\u001b[0;34m.\u001b[0m\u001b[0mfind\u001b[0m\u001b[0;34m(\u001b[0m\u001b[0mclass_\u001b[0m\u001b[0;34m=\u001b[0m\u001b[0;34m'text'\u001b[0m\u001b[0;34m)\u001b[0m\u001b[0;34m.\u001b[0m\u001b[0ma\u001b[0m\u001b[0;34m.\u001b[0m\u001b[0mtext\u001b[0m\u001b[0;34m)\u001b[0m\u001b[0;34m\u001b[0m\u001b[0;34m\u001b[0m\u001b[0m\n\u001b[1;32m      4\u001b[0m \u001b[0mprint\u001b[0m\u001b[0;34m(\u001b[0m\u001b[0mitems\u001b[0m\u001b[0;34m[\u001b[0m\u001b[0;36m0\u001b[0m\u001b[0;34m]\u001b[0m\u001b[0;34m.\u001b[0m\u001b[0mfind\u001b[0m\u001b[0;34m(\u001b[0m\u001b[0mclass_\u001b[0m\u001b[0;34m=\u001b[0m\u001b[0;34m'created_at'\u001b[0m\u001b[0;34m)\u001b[0m\u001b[0;34m[\u001b[0m\u001b[0;34m'title'\u001b[0m\u001b[0;34m]\u001b[0m\u001b[0;34m)\u001b[0m\u001b[0;34m\u001b[0m\u001b[0;34m\u001b[0m\u001b[0m\n\u001b[1;32m      5\u001b[0m \u001b[0mprint\u001b[0m\u001b[0;34m(\u001b[0m\u001b[0mitems\u001b[0m\u001b[0;34m[\u001b[0m\u001b[0;36m4\u001b[0m\u001b[0;34m]\u001b[0m\u001b[0;34m.\u001b[0m\u001b[0mfind\u001b[0m\u001b[0;34m(\u001b[0m\u001b[0mclass_\u001b[0m\u001b[0;34m=\u001b[0m\u001b[0;34m'bd'\u001b[0m\u001b[0;34m)\u001b[0m\u001b[0;34m.\u001b[0m\u001b[0mcontents\u001b[0m\u001b[0;34m[\u001b[0m\u001b[0;36m1\u001b[0m\u001b[0;34m]\u001b[0m\u001b[0;34m.\u001b[0m\u001b[0mtext\u001b[0m\u001b[0;34m.\u001b[0m\u001b[0mreplace\u001b[0m\u001b[0;34m(\u001b[0m\u001b[0;34m'\\n'\u001b[0m\u001b[0;34m,\u001b[0m\u001b[0;34m''\u001b[0m\u001b[0;34m)\u001b[0m\u001b[0;34m)\u001b[0m\u001b[0;34m\u001b[0m\u001b[0;34m\u001b[0m\u001b[0m\n",
      "\u001b[0;31mIndexError\u001b[0m: list index out of range"
     ]
    }
   ],
   "source": [
    "# hide\n",
    "print(items[5]['data-sid'])\n",
    "print(items[0].find(class_='text').a.text)\n",
    "print(items[0].find(class_='created_at')['title'])\n",
    "print(items[4].find(class_='bd').contents[1].text.replace('\\n',''))"
   ]
  },
  {
   "cell_type": "code",
   "execution_count": null,
   "metadata": {},
   "outputs": [
    {
     "data": {
      "text/plain": [
       "{'2858892068': {'name': 'Hawk',\n",
       "  'created_at': '2020-03-10 00:01:38',\n",
       "  'content': 'hello world'},\n",
       " '2858887533': {'name': 'Hawk',\n",
       "  'created_at': '2020-03-09 23:59:24',\n",
       "  'content': 'hello world'},\n",
       " '2858886319': {'name': 'Hawk',\n",
       "  'created_at': '2020-03-09 23:58:48',\n",
       "  'content': 'hello world'},\n",
       " '2858885049': {'name': 'Hawk',\n",
       "  'created_at': '2020-03-09 23:58:15',\n",
       "  'content': 'hello world'},\n",
       " '2858884667': {'name': 'Hawk',\n",
       "  'created_at': '2020-03-09 23:58:04',\n",
       "  'content': 'hello world'},\n",
       " '2858883902': {'name': 'Hawk',\n",
       "  'created_at': '2020-03-09 23:57:44',\n",
       "  'content': 'hello world'},\n",
       " '2858883414': {'name': 'Hawk',\n",
       "  'created_at': '2020-03-09 23:57:30',\n",
       "  'content': 'hello world'},\n",
       " '2858882120': {'name': 'Hawk',\n",
       "  'created_at': '2020-03-09 23:56:53',\n",
       "  'content': 'hello world'},\n",
       " '2858881201': {'name': 'Hawk',\n",
       "  'created_at': '2020-03-09 23:56:25',\n",
       "  'content': 'hello world'},\n",
       " '2858880617': {'name': 'Hawk',\n",
       "  'created_at': '2020-03-09 23:56:09',\n",
       "  'content': 'hello world'},\n",
       " '2858879540': {'name': 'Hawk',\n",
       "  'created_at': '2020-03-09 23:55:40',\n",
       "  'content': 'hello world'},\n",
       " '2858878812': {'name': 'Hawk',\n",
       "  'created_at': '2020-03-09 23:55:17',\n",
       "  'content': 'hello world'},\n",
       " '2858877875': {'name': 'Hawk',\n",
       "  'created_at': '2020-03-09 23:54:53',\n",
       "  'content': 'hello world'},\n",
       " '2858877065': {'name': 'Hawk',\n",
       "  'created_at': '2020-03-09 23:54:30',\n",
       "  'content': 'hello world'},\n",
       " '2858876132': {'name': 'Hawk',\n",
       "  'created_at': '2020-03-09 23:54:05',\n",
       "  'content': 'hello world'},\n",
       " '2858875426': {'name': 'Hawk',\n",
       "  'created_at': '2020-03-09 23:53:45',\n",
       "  'content': 'hello world'},\n",
       " '2858875041': {'name': 'Hawk',\n",
       "  'created_at': '2020-03-09 23:53:32',\n",
       "  'content': 'hello world'},\n",
       " '2858874624': {'name': 'Hawk',\n",
       "  'created_at': '2020-03-09 23:53:20',\n",
       "  'content': 'hello world'},\n",
       " '2858874117': {'name': 'Hawk',\n",
       "  'created_at': '2020-03-09 23:53:06',\n",
       "  'content': 'hello world'},\n",
       " '2858873231': {'name': 'Hawk',\n",
       "  'created_at': '2020-03-09 23:52:41',\n",
       "  'content': 'hello world'},\n",
       " '2858872046': {'name': 'Hawk',\n",
       "  'created_at': '2020-03-09 23:52:18',\n",
       "  'content': 'hello world'},\n",
       " '2858870828': {'name': 'Hawk',\n",
       "  'created_at': '2020-03-09 23:52:00',\n",
       "  'content': 'hello world'},\n",
       " '2858869964': {'name': 'Hawk',\n",
       "  'created_at': '2020-03-09 23:51:46',\n",
       "  'content': 'hello world'},\n",
       " '2858869215': {'name': 'Hawk',\n",
       "  'created_at': '2020-03-09 23:51:30',\n",
       "  'content': 'hello world'},\n",
       " '2858868627': {'name': 'Hawk',\n",
       "  'created_at': '2020-03-09 23:51:14',\n",
       "  'content': 'hello world'},\n",
       " '2858868196': {'name': 'Hawk',\n",
       "  'created_at': '2020-03-09 23:51:01',\n",
       "  'content': 'hello world'},\n",
       " '2858863188': {'name': 'Hawk',\n",
       "  'created_at': '2020-03-09 23:48:35',\n",
       "  'content': 'hello world'},\n",
       " '2849308445': {'name': 'Hawk',\n",
       "  'created_at': '2020-03-04 19:37:35',\n",
       "  'content': 'hello world'},\n",
       " '2849286231': {'name': 'Hawk',\n",
       "  'created_at': '2020-03-04 19:23:46',\n",
       "  'content': 'hello world'},\n",
       " '2849285799': {'name': 'Hawk',\n",
       "  'created_at': '2020-03-04 19:23:26',\n",
       "  'content': 'hello world'},\n",
       " '2849285223': {'name': 'Hawk',\n",
       "  'created_at': '2020-03-04 19:23:05',\n",
       "  'content': 'hello world'},\n",
       " '2849284578': {'name': 'Hawk',\n",
       "  'created_at': '2020-03-04 19:22:42',\n",
       "  'content': 'hello world'},\n",
       " '2849283969': {'name': 'Hawk',\n",
       "  'created_at': '2020-03-04 19:22:19',\n",
       "  'content': 'hello world'},\n",
       " '2849283502': {'name': 'Hawk',\n",
       "  'created_at': '2020-03-04 19:21:59',\n",
       "  'content': 'hello world'},\n",
       " '2849282899': {'name': 'Hawk',\n",
       "  'created_at': '2020-03-04 19:21:34',\n",
       "  'content': 'hello world'},\n",
       " '2849282248': {'name': 'Hawk',\n",
       "  'created_at': '2020-03-04 19:21:10',\n",
       "  'content': 'hello world'},\n",
       " '2849281687': {'name': 'Hawk',\n",
       "  'created_at': '2020-03-04 19:20:51',\n",
       "  'content': 'hello world'},\n",
       " '2849281294': {'name': 'Hawk',\n",
       "  'created_at': '2020-03-04 19:20:31',\n",
       "  'content': 'hello world'},\n",
       " '2849280694': {'name': 'Hawk',\n",
       "  'created_at': '2020-03-04 19:20:07',\n",
       "  'content': 'hello world'},\n",
       " '2849277730': {'name': 'Hawk',\n",
       "  'created_at': '2020-03-04 19:18:11',\n",
       "  'content': 'hello world'},\n",
       " '2845334158': {'name': 'Hawk',\n",
       "  'created_at': '2020-03-02 18:47:18',\n",
       "  'content': 'hello world'},\n",
       " '2726525573': {'name': 'Malorie',\n",
       "  'created_at': '2019-12-14 10:18:01',\n",
       "  'content': \"21 身份危机 |Model MinoritySomeone like me can be a real nightmare, completely aware But I'd rather be a real nightmare than die unaware So save me your prayers 一直很想写这篇日记，却因为太贴近真实的自我...\"},\n",
       " '2696684598': {'name': '安提戈涅',\n",
       "  'created_at': '2019-11-15 19:42:04',\n",
       "  'content': '《浮士德》中的植物学诗学每年读一遍《浮士德》，每年就多走近歌德一些，从他巨大的矿藏里敲下一小块，自己收拢珍藏起来。今年重读，发现了《浮士德》中歌德对有机世界的狂热。在植物学天地中，他再一次表达着生命不...'},\n",
       " '2675363447': {'name': '女奥特迈',\n",
       "  'created_at': '2019-10-25 18:16:04',\n",
       "  'content': '2019年10月22日 我在环卫的第812天 “我的梦想”背后的故事上一次写是2018年9月12日，是我在环卫的第416天。一眨眼，又400天过去了。 其实我一直有感悟的，多的时候每天都会有感悟，只是很多时候因为懒，没有把它记录下来。日子总是过得又快又慢，根...'},\n",
       " '2637148195': {'name': '肘子zi非子zǐ',\n",
       "  'created_at': '2019-09-20 16:42:09',\n",
       "  'content': '舅舅8月25号中午，一通电话告知：舅舅独居的一楼小间敲门无人应，邻居已经几天没见他进出，从中传出的腐臭味一天比一天浓重。居委通知警察，警察联系我爸如是说。 我爸立刻把情况简单地告诉我，...我认识的独居老人'},\n",
       " '2620850215': {'name': '拾贝岛民',\n",
       "  'created_at': '2019-09-05 11:20:09',\n",
       "  'content': '上海西区 Western quarter of Shanghai大学同学群里传来消息，某同学荣归主怀，我心中一震，这位同学当年是班里漂亮可爱的女生，她长的皮肤细腻、白里透红、明眸皓齿。但近年听说已经不能认人和自理，她的安息，对亲友也许是种释...'},\n",
       " '2620435648': {'name': '，',\n",
       "  'created_at': '2019-09-04 22:44:08',\n",
       "  'content': '72小时，我在长沙吃了什么？两个四川人，怎么甘心在长沙只吃纯辣啊！ -为什么想出去玩这么久，最后选择了去长沙？ -因为妹妹去年7月到北京开会，给我带了一份蒜蓉小龙虾，那个味道突然在夏天到来的时候，从我的记记忆里...念念不忘的地方美食'},\n",
       " '2617022918': {'name': '躺倒',\n",
       "  'created_at': '2019-09-01 18:02:03',\n",
       "  'content': '徒步在“犀牛的领地”喜欢野观野生动物，非洲一定要去，明星五霸——“大象、犀牛、狮子、野水牛和豹”声名在外。但是，其实我们亚洲是世界上另一处有“大象+犀牛+大猫”组合的地方。 世界上现存三种象，两种在非...'},\n",
       " '2616953824': {'name': '麦克黄',\n",
       "  'created_at': '2019-09-01 16:54:04',\n",
       "  'content': '小友给小朋友看嗓子是一件有难度的工作，常见话术有三种，1.“来，张嘴，给阿姨看你的牙牙白不白”；2.“张大，啊——看看你嘴里有没有虫虫”；3.举着压舌板心虚地说，“来，吃棒棒糖啦”。不管...'},\n",
       " '2612446102': {'name': '握不住的灵魂',\n",
       "  'created_at': '2019-08-28 19:28:01',\n",
       "  'content': '石头、气味与阶级之门,《寄生虫》的17个细节当人群之中出现差异，并且这样的差异已经导致部分人拥有凌驾其他人的地位、权力、特权时，这就称为社会阶层。社会借此而将人们分类成有高下之别的阶层或等级。#wikipedia 1.爬行式运动 影片...'},\n",
       " '2609397893': {'name': '小毒牙',\n",
       "  'created_at': '2019-08-26 08:06:03',\n",
       "  'content': '运城访古记运城在山西的最南部，晋秦豫三省交界处。 目前上海到运城只有一班高铁，将近11个小时；而上海到河南省三门峡市却有更多高铁班次，仅6个多小时，再从三门峡打车到运城市中心的酒店只要1个半小...遇见老建筑'},\n",
       " '2580259408': {'name': 'frozenmoon',\n",
       "  'created_at': '2019-08-03 17:30:03',\n",
       "  'content': '海清们的真正困境，在于中年人的故事被集体清空（文/杨时旸） 演员海清在First青年电影展的闭幕式上叫上了姚晨、宋佳和梁静，一起站在舞台上发出了一次呼吁，她们希望导演和制片人能重视自己这些中生代女演员，希望青年导演们也能够愿意并...那些反映出中年人真实困境的影视剧'},\n",
       " '2550183515': {'name': '维生素',\n",
       "  'created_at': '2019-07-07 19:32:00',\n",
       "  'content': '奶奶留下来的螺钿木盒春节前，有个女生找到我，说她有一个螺钿的盒子需要修补。我拿到一看，上面的金属扣件都没有了，原来这个盒子是她奶奶留下了的，但金属扣件大多坏了，她拿去给一个做金缮的师傅修理，但金缮...家里的老物件'},\n",
       " '2550021779': {'name': '喵呜不停',\n",
       "  'created_at': '2019-07-07 16:41:59',\n",
       "  'content': '2018年度候选猫片，每张也是挑花了眼！前几天发布2018年度猫片后， 各渠道反响热烈， 微博、微信阅读量更是超出预期， 所以再次感谢大家的厚爱！ 前文说到这一年专职拍猫， 所以片子数量激增， 年度照片也着实挑花了眼， 最后初选...'}}"
      ]
     },
     "execution_count": null,
     "metadata": {},
     "output_type": "execute_result"
    }
   ],
   "source": [
    "# hide\n",
    "contents = {}\n",
    "for item in items:\n",
    "    _id = item['data-sid']\n",
    "    name = item.find(class_='text').a.text    \n",
    "    created_at = item.find(class_='created_at')['title']\n",
    "    content = item.find(class_='bd').contents[1].text.replace('\\n','')  \n",
    "    contents[_id] = {}\n",
    "    contents[_id]['name'] = name\n",
    "    contents[_id]['created_at'] = created_at  \n",
    "    contents[_id]['content'] = content\n",
    "contents"
   ]
  },
  {
   "cell_type": "markdown",
   "metadata": {},
   "source": [
    "### 保存和读取json"
   ]
  },
  {
   "cell_type": "code",
   "execution_count": null,
   "metadata": {},
   "outputs": [],
   "source": [
    "# hide\n",
    "with open('./data/01_douban.json', 'w') as f:\n",
    "    json.dump(contents,f)"
   ]
  },
  {
   "cell_type": "code",
   "execution_count": 18,
   "metadata": {},
   "outputs": [
    {
     "data": {
      "text/plain": [
       "{'name': 'Malorie',\n",
       " 'created_at': '2019-12-14 10:18:01',\n",
       " 'content': \"21 身份危机 |Model MinoritySomeone like me can be a real nightmare, completely aware But I'd rather be a real nightmare than die unaware So save me your prayers 一直很想写这篇日记，却因为太贴近真实的自我...\"}"
      ]
     },
     "execution_count": 18,
     "metadata": {},
     "output_type": "execute_result"
    }
   ],
   "source": [
    "# hide\n",
    "with open('./data/01_douban.json', 'r') as f:\n",
    "    contents = json.loads(f.read())\n",
    "contents['2726525573']"
   ]
  },
  {
   "cell_type": "markdown",
   "metadata": {},
   "source": [
    "## 自动识别列表\n",
    "> 思路就是看谁有最多的相同类的children（目前只支持静态页面,文字列表）\n",
    "\n",
    "常见问题：容易识别成目录，特征为多层级列表，而正文内容则不会再嵌套列表"
   ]
  },
  {
   "cell_type": "code",
   "execution_count": 19,
   "metadata": {},
   "outputs": [],
   "source": [
    "#export\n",
    "def get_children(soup): return [c for c in soup.children if isinstance(c,Tag)]\n",
    "\n",
    "def get_class(soup):\n",
    "    '获取单个tag的class，没有则显示no_class'\n",
    "    if 'class' in soup.attrs and soup.attrs['class']:\n",
    "        return soup.attrs['class']\n",
    "    else:\n",
    "        return ['no_class']\n",
    "    \n",
    "def get_all_class(soup):\n",
    "    '收集每个tag的class，没有则显示no_class'\n",
    "    class_list = []\n",
    "    for s in soup.find_all(True):\n",
    "        class_list += get_class(s)\n",
    "    return class_list\n",
    "\n",
    "def get_class_count(soup):return len(list(set(get_all_class(soup))))\n",
    "\n",
    "def is_content_list(soup): \n",
    "    '判断是否为内容列表，条件为：子集是重复的相同的tag，重复次数大于5'\n",
    "    children = get_children(soup)\n",
    "    if len(children) > 1 and len(soup.text.strip()) > 0:\n",
    "        tag_counter = Counter([c.name for c in children])\n",
    "        max_tag_name,max_tag_count = tag_counter.most_common(1)[0]\n",
    "       \n",
    "        tag_similarity = max_tag_count/len(children)\n",
    "        \n",
    "        class_similarity = 1\n",
    "        if get_all_class(soup):\n",
    "            max_class_name,max_class_count = Counter(get_all_class(soup)).most_common(1)[0]\n",
    "            class_similarity = max_class_count/len(children)\n",
    "            \n",
    "        if max_tag_count >= 5 and tag_similarity > 0.9 and class_similarity > 0.9:\n",
    "            return True\n",
    "    return False\n",
    "\n",
    "def find_main_list(soup):\n",
    "    '特征：文字内容多；一条数据的样式&嵌套丰富；区别于目录，都是很短的词'\n",
    "    score = 0\n",
    "    main_list = soup\n",
    "    \n",
    "    items = soup.find_all(True) \n",
    "    for item in items:\n",
    "        if is_content_list(item):\n",
    "            text_count = len(item.text)\n",
    "            class_count = get_class_count(item)\n",
    "            text_max_lenth = max([len(i) for i in item.stripped_strings])\n",
    "#             print('候选：\\n',soup.name,get_class(soup),text_count,text_max_lenth,class_count)\n",
    "            \n",
    "            new_score = text_count*class_count*text_max_lenth\n",
    "            if new_score > score:\n",
    "                score = new_score\n",
    "                main_list = item\n",
    "    first_child = get_children(main_list)[0]\n",
    "    print('终选：\\n',main_list.name,get_class(main_list),first_child.name,get_class(first_child),'\\n')\n",
    "    return main_list"
   ]
  },
  {
   "cell_type": "code",
   "execution_count": 22,
   "metadata": {},
   "outputs": [
    {
     "name": "stdout",
     "output_type": "stream",
     "text": [
      "https://www.zhihu.com/topic/19554834/hot\n",
      "终选：\n",
      " div ['no_class'] div ['List-item', 'TopicFeedItem'] \n",
      "\n",
      "https://book.douban.com/tag/%E5%A4%96%E5%9B%BD%E6%96%87%E5%AD%A6\n",
      "终选：\n",
      " ul ['subject-list'] li ['subject-item'] \n",
      "\n",
      "https://search.bilibili.com/all?keyword=%E5%A4%A7%E7%88%B7&from_source=banner_search\n",
      "终选：\n",
      " div ['flow-loader'] div ['filter-wrap'] \n",
      "\n",
      "https://github.com/trending\n",
      "终选：\n",
      " div ['no_class'] article ['Box-row'] \n",
      "\n",
      "https://search.jd.com/Search?keyword=%E7%94%B5%E8%84%91&enc=utf-8&wq=%E7%94%B5%E8%84%91&pvid=254ed16260384a18a34c1c452b6db180\n",
      "终选：\n",
      " div ['selector'] div ['J_selectorLine', 's-brand'] \n",
      "\n",
      "https://bj.lianjia.com/ershoufang/\n",
      "终选：\n",
      " ul ['sellListContent'] li ['clear', 'LOGVIEWDATA', 'LOGCLICKDATA'] \n",
      "\n",
      "http://www.rrys2019.com/html/top/week_fav_list.html\n",
      "终选：\n",
      " ul ['news-list'] li ['no_class'] \n",
      "\n"
     ]
    }
   ],
   "source": [
    "main_content_list = []\n",
    "for url,soup in zip(url_list,soup_list):\n",
    "    print(url)\n",
    "    soup_test = soup.body\n",
    "    main_content_list.append(find_main_list(soup.body))"
   ]
  },
  {
   "cell_type": "markdown",
   "metadata": {},
   "source": [
    "## 自动识别下一页\n",
    "> 根据文字识别，暂不支持滚动加载，大部分未识别出来，因为下一页大多用js实现"
   ]
  },
  {
   "cell_type": "code",
   "execution_count": 23,
   "metadata": {},
   "outputs": [],
   "source": [
    "#export\n",
    "def is_next_page(tag): return tag.name == 'a' and re.search(r'[后|下]一*页',tag.text)\n",
    "    \n",
    "def get_next_page_url(soup):\n",
    "    next_page = soup.find(is_next_page)\n",
    "    if next_page and 'href' in next_page.attrs:\n",
    "        print('下一页：',next_page['href'])\n",
    "        return next_page['href']\n",
    "    else:\n",
    "        print('未识别出下一页')\n",
    "        return None "
   ]
  },
  {
   "cell_type": "code",
   "execution_count": 24,
   "metadata": {},
   "outputs": [
    {
     "name": "stdout",
     "output_type": "stream",
     "text": [
      "\n",
      " https://www.zhihu.com/topic/19554834/hot\n",
      "未识别出下一页\n",
      "\n",
      " https://book.douban.com/tag/%E5%A4%96%E5%9B%BD%E6%96%87%E5%AD%A6\n",
      "下一页： /tag/外国文学?start=20&type=T\n",
      "\n",
      " https://search.bilibili.com/all?keyword=%E5%A4%A7%E7%88%B7&from_source=banner_search\n",
      "未识别出下一页\n",
      "\n",
      " https://github.com/trending\n",
      "未识别出下一页\n",
      "\n",
      " https://search.jd.com/Search?keyword=%E7%94%B5%E8%84%91&enc=utf-8&wq=%E7%94%B5%E8%84%91&pvid=254ed16260384a18a34c1c452b6db180\n",
      "未识别出下一页\n",
      "\n",
      " https://bj.lianjia.com/ershoufang/\n",
      "未识别出下一页\n",
      "\n",
      " http://www.rrys2019.com/html/top/week_fav_list.html\n",
      "下一页： ?query=%E9%9B%B7%E7%A5%9E%E5%B1%B1%E6%9C%BA%E5%99%A8%E4%BA%BA%E4%B8%8A%E5%B2%97&s_from=hotnews&type=2&page=2&ie=utf8\n"
     ]
    }
   ],
   "source": [
    "for url,soup in zip(url_list,soup_list):\n",
    "#     if 'douban' in url:\n",
    "        print('\\n',url)\n",
    "        soup_test = soup.body\n",
    "#         print(soup_test)\n",
    "        get_next_page_url(soup_test)"
   ]
  },
  {
   "cell_type": "markdown",
   "metadata": {},
   "source": [
    "## 自动识别列表内容\n",
    "> 思路就是样式一样的，是一类的内容\n",
    "\n",
    "目前支持的几种内容类型：\n",
    "1. img link\n",
    "* a link\n",
    "* text"
   ]
  },
  {
   "cell_type": "code",
   "execution_count": 25,
   "metadata": {},
   "outputs": [],
   "source": [
    "# export\n",
    "def get_child_navigablestring(soup):\n",
    "    navstr = []\n",
    "    for c in soup.contents:\n",
    "        if isinstance(c,NavigableString) and c.strip():\n",
    "            navstr.append(c.strip())\n",
    "    navstr = '&&'.join(navstr)\n",
    "    return navstr\n",
    "\n",
    "def get_data_name(soup): \n",
    "    class_name = '_'.join(get_class(soup))\n",
    "    return f'{soup.name}_{class_name}'\n",
    "\n",
    "def get_data(soup):\n",
    "    '列出每一项，如果为a或img标签，就获取链接和内容；如果子集含navstr，就显示文字'\n",
    "    data = {}\n",
    "    for c in soup.find_all(True):\n",
    "        if c.name == 'a':\n",
    "            if 'href' in c.attrs and c['href']:\n",
    "                data[get_data_name(c)+'_url'] = c['href']\n",
    "            if 'title' in c.attrs and c['title']:\n",
    "                data[get_data_name(c)+'_title'] = c['title']\n",
    "            \n",
    "        if c.name == 'img':\n",
    "            if 'src' in c.attrs and c['src']:\n",
    "                data[get_data_name(c)+'_src'] = c['src']\n",
    "                 \n",
    "        navstr = get_child_navigablestring(c)\n",
    "        if navstr:\n",
    "            data[get_data_name(c)+'_text'] = navstr\n",
    "    return data\n"
   ]
  },
  {
   "cell_type": "code",
   "execution_count": 48,
   "metadata": {},
   "outputs": [
    {
     "name": "stdout",
     "output_type": "stream",
     "text": [
      "\n",
      " https://book.douban.com/tag/%E5%A4%96%E5%9B%BD%E6%96%87%E5%AD%A6\n",
      "{'a_nbg_url': 'https://book.douban.com/subject/35283396/', 'img_no_class_src': 'https://img9.doubanio.com/view/subject/s/public/s33841163.jpg', 'a_no_class_url': 'https://read.douban.com/ebook/174769730/?dcs=tag-buylink&dcm=douban&dct=35283396', 'a_no_class_title': '暗夜与黎明', 'a_no_class_text': '去看电子版', 'div_pub_text': '[英] 肯·福莱特 / 邓若虚、汪洋 / 江苏凤凰文艺出版社 / 2021-3-6 / 118.00元', 'span_rating_nums_text': '8.1', 'span_pl_text': '(2824人评价)', 'p_no_class_text': '《巨人的陨落》作者肯•福莱特重磅新作！\\n全球读者平均2个通宵读完！\\n----------------\\n- 2020美国亚马逊年度图书\\n- Goodreads...'}\n"
     ]
    }
   ],
   "source": [
    "for url,soup in zip(url_list,main_content_list):\n",
    "    if 'douban' in url:\n",
    "        print('\\n',url)\n",
    "        data = get_data(get_children(soup)[0])\n",
    "        print(data)"
   ]
  },
  {
   "cell_type": "code",
   "execution_count": 58,
   "metadata": {},
   "outputs": [
    {
     "name": "stdout",
     "output_type": "stream",
     "text": [
      "a_nbg_url : https://book.douban.com/subject/35283396/\n",
      "img_no_class_src : https://img9.doubanio.com/view/subject/s/public/s33841163.jpg\n",
      "a_no_class_url : https://read.douban.com/ebook/174769730/?dcs=tag-buylink&dcm=douban&dct=35283396\n",
      "a_no_class_title : 暗夜与黎明\n",
      "a_no_class_text : 去看电子版\n",
      "div_pub_text : [英] 肯·福莱特 / 邓若虚、汪洋 / 江苏凤凰文艺出版社 / 2021-3-6 / 118.00元\n",
      "span_rating_nums_text : 8.1\n",
      "span_pl_text : (2824人评价)\n",
      "p_no_class_text : 《巨人的陨落》作者肯•福莱特重磅新作！\n",
      "全球读者平均2个通宵读完！\n",
      "----------------\n",
      "- 2020美国亚马逊年度图书\n",
      "- Goodreads...\n"
     ]
    }
   ],
   "source": [
    "for k,v in data.items():\n",
    "    print(k,':',v)"
   ]
  },
  {
   "cell_type": "code",
   "execution_count": null,
   "metadata": {},
   "outputs": [],
   "source": []
  }
 ],
 "metadata": {
  "kernelspec": {
   "display_name": "Python 3",
   "language": "python",
   "name": "python3"
  },
  "language_info": {
   "codemirror_mode": {
    "name": "ipython",
    "version": 3
   },
   "file_extension": ".py",
   "mimetype": "text/x-python",
   "name": "python",
   "nbconvert_exporter": "python",
   "pygments_lexer": "ipython3",
   "version": "3.7.9"
  }
 },
 "nbformat": 4,
 "nbformat_minor": 2
}
