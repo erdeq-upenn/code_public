{
 "cells": [
  {
   "cell_type": "markdown",
   "metadata": {},
   "source": [
    "# Cancellation model_v1.X  (Enrolled after 1/1/2016, pulled 2020/03/13)\n",
    "Joins with information about Cases and Twilio Calls, deals, and RI.  Will also add *PS*  \n",
    "By Dequan Er  \n",
    "\n",
    "03/17/2020\n",
    "\n",
    "* update more negative samples, to ~100000 \n",
    "* update bug graduation before start\n",
    "* In this X version, it aims to develop tools and infurstractures for text features.\n",
    "* should time allow, it will also investigate the LSTM model with sliced time period."
   ]
  },
  {
   "cell_type": "markdown",
   "metadata": {},
   "source": [
    "# Summary  \n",
    "Create ML model to predict cancellation probability, both at Enrollment and ongoing throughout the client’s journey.  \n",
    "1. feature selection and feature importance\n",
    "2. model training\n",
    "3. build infurstracture for further model with LSTM or CNN model."
   ]
  },
  {
   "cell_type": "code",
   "execution_count": 330,
   "metadata": {},
   "outputs": [
    {
     "name": "stderr",
     "output_type": "stream",
     "text": [
      "[nltk_data] Downloading package wordnet to\n",
      "[nltk_data]     /Users/dequan.er/nltk_data...\n",
      "[nltk_data]   Package wordnet is already up-to-date!\n"
     ]
    }
   ],
   "source": [
    "# Usual imports\n",
    "import pandas as pd\n",
    "import numpy as np\n",
    "pd.set_option(\"display.max_rows\", 120)\n",
    "pd.set_option(\"display.max_columns\", 120)\n",
    "\n",
    "import matplotlib.pyplot as plt\n",
    "import seaborn as sns\n",
    "import datetime as dt\n",
    "from tqdm import tqdm\n",
    "\n",
    "from sklearn.preprocessing import StandardScaler, MinMaxScaler, Normalizer\n",
    "from sklearn.neighbors import KNeighborsRegressor\n",
    "from sklearn.model_selection import train_test_split, cross_val_score, GridSearchCV, KFold, StratifiedKFold, RandomizedSearchCV\n",
    "from sklearn.utils import shuffle\n",
    "from keras.preprocessing.text import Tokenizer\n",
    "from keras.preprocessing.sequence import pad_sequences\n",
    "from keras.models import Sequential\n",
    "from keras.layers import Dense, Flatten, LSTM, Conv1D, MaxPooling1D, Dropout, Activation, SpatialDropout1D\n",
    "from keras.layers.embeddings import Embedding\n",
    "from keras.initializers import Constant\n",
    "from keras.optimizers import Adam\n",
    "\n",
    "import nltk\n",
    "nltk.download('wordnet')\n",
    "import re # DE add\n",
    "from nltk.tokenize import word_tokenize\n",
    "from nltk.stem import WordNetLemmatizer\n",
    "from nltk.stem import SnowballStemmer\n",
    "import string\n",
    "\n",
    "from nltk.corpus import stopwords\n",
    "from sklearn.manifold import TSNE\n",
    "\n",
    "stop=set(stopwords.words('english'))"
   ]
  },
  {
   "cell_type": "markdown",
   "metadata": {},
   "source": [
    "write basic functions and set up data_pull_date and ytica_start_date."
   ]
  },
  {
   "cell_type": "code",
   "execution_count": 324,
   "metadata": {},
   "outputs": [],
   "source": [
    "# Setup initial variables, define functions\n",
    "\n",
    "# w_tokenizer = nltk.tokenize.WhitespaceTokenizer()\n",
    "# lemmatizer = nltk.stem.WordNetLemmatizer()\n",
    "\n",
    "test_date_start = pd.to_datetime('2020-03-01')\n",
    "test_date_end = pd.to_datetime('2020-03-07')\n",
    "\n",
    "data_pull_date = pd.to_datetime('2020-03-13')\n",
    "ytica_start_date = pd.to_datetime('2018-01-01')\n",
    "\n",
    "# def lemmatize_text(text):\n",
    "#     '''Conver text into list of lemmatized words'''\n",
    "#     return [lemmatizer.lemmatize(w) for w in w_tokenizer.tokenize(text)]\n",
    "def check_date(date_str, Format):\n",
    "    '''\n",
    "    Parse datetime into integer.\n",
    "    Format = 1: 'yyyy-mm-dd...'\n",
    "    Format = 2: 'mm/dd/yyyy'\n",
    "    '''\n",
    "    if date_str == date_str:\n",
    "        if Format == 1:\n",
    "            y = int(date_str[0:4])*10000\n",
    "            m = int(date_str[5:7])*100\n",
    "            d = int(date_str[8:10])\n",
    "        elif Format == 2:\n",
    "            y = int(date_str[6:10])*10000\n",
    "            m = int(date_str[0:2])*100\n",
    "            d = int(date_str[3:5])\n",
    "        else:\n",
    "            print('Invalid Format: 1 for \"yyyy-mm-dd\", 2 for \"mm/dd/yyyy\"')\n",
    "            return\n",
    "    else:\n",
    "        return np.nan\n",
    "    \n",
    "    if (m>0 and m<1201):\n",
    "        return pd.to_datetime(str(y+m+d),format='%Y%m%d', errors='coerce')\n",
    "    else: \n",
    "        return np.nan\n",
    "\n",
    "def date_to_int(date_str, Format):\n",
    "    '''\n",
    "    Parse datetime into integer.\n",
    "    Format = 1: 'yyyy-mm-dd...'\n",
    "    Format = 2: 'mm/dd/yyyy'\n",
    "    '''\n",
    "    if date_str == date_str:\n",
    "        if Format == 1:\n",
    "            y = int(date_str[0:4])*10000\n",
    "            m = int(date_str[5:7])*100\n",
    "            d = int(date_str[8:10])\n",
    "        elif Format == 2:\n",
    "            y = int(date_str[6:10])*10000\n",
    "            m = int(date_str[0:2])*100\n",
    "            d = int(date_str[3:5])\n",
    "        else:\n",
    "            print('Invalid Format: 1 for \"yyyy-mm-dd\", 2 for \"mm/dd/yyyy\"')\n",
    "            return\n",
    "        return y+m+d\n",
    "    else:\n",
    "        return date_str\n",
    "    \n",
    "def plot_feature(df_view, feature, title, x_label, rot=0):\n",
    "    '''\n",
    "    Given a dataframe with bucketed feature, \n",
    "    plot Class dependence on the given feature\n",
    "    '''\n",
    "    df_view = df_view.sort_values(feature, ascending = True)\n",
    "    plt.subplots(figsize = (15, 8))\n",
    "    ax = sns.barplot(x = df_view[feature], y = df_view.Class, linewidth=2)\n",
    "    plt.title(title, fontsize = 25)\n",
    "    plt.ylabel(\"% of CCs Legal\", fontsize = 15)\n",
    "    plt.xlabel(x_label,fontsize = 15)\n",
    "    plt.xticks(rotation = rot);\n",
    "    #can display feature counts\n",
    "    #display(df_view[feature].value_counts().sort_index())\n",
    "    \n",
    "def labelize(x, scale, limit=1000000000, exception=None, force=100):\n",
    "    '''\n",
    "    Bucket a feature into string ranges using floor(x/scale)*scale to determine buckets\n",
    "    '''\n",
    "    if force == 100:\n",
    "        if x < limit:\n",
    "            return str(int(np.floor(x/scale)*scale)) + \"-\" + \\\n",
    "                str(int(np.floor(x/scale)*scale + scale))\n",
    "        else:\n",
    "            return exception\n",
    "    else:\n",
    "        if x < limit:\n",
    "            a = str(int(np.floor(x/scale)*scale))\n",
    "            pad = force - len(a)\n",
    "            a = \"0\"*pad + a\n",
    "            b = str(int(np.floor(x/scale)*scale + scale))\n",
    "            pad = force - len(b)\n",
    "            b = \"0\"*pad + b\n",
    "            return a + \"-\" + b\n",
    "        else:\n",
    "            return exception\n",
    "        \n",
    "def timeDiff(col,form,data):\n",
    "    \"\"\"\n",
    "    Input: col of desired date different, date in format col[1]-col[0], arr\n",
    "    Output: number of years or days\n",
    "    Form: y for year, d for day, str\n",
    "    data: the dataFrame to input\n",
    "    \"\"\"\n",
    "    t1 = pd.to_datetime(data[col[0]],errors='coerce')\n",
    "    t2 = pd.to_datetime(data[col[1]],errors='coerce')\n",
    "    if form == ('y' or 'Y'):\n",
    "        return (t2-t1).astype('timedelta64[Y]')\n",
    "    if form == ('d' or 'D'):\n",
    "        return (t2-t1).astype('timedelta64[D]')"
   ]
  },
  {
   "cell_type": "code",
   "execution_count": 325,
   "metadata": {},
   "outputs": [],
   "source": [
    "df_deals = pd.read_csv('~/OneDrive - National Debt Relief/1-share_team/cancellation_model_v1.0/data_in/DS_update.csv')#,parse_dates = [2,3,9,13,-2])\n",
    "# df_cases = pd.read_csv('data_in/Case.csv')\n",
    "# df_calls = pd.read_csv('data_in/DS_Phone_Calls.csv') #,parse_dates = [1])\n",
    "# df_RI = pd.read_csv('data_in/RI.csv',parse_dates = [0, 1])\n"
   ]
  },
  {
   "cell_type": "code",
   "execution_count": 326,
   "metadata": {},
   "outputs": [],
   "source": [
    "df_deals['test_date_start'] = test_date_start\n",
    "df_deals['test_date_end'] = test_date_end\n",
    "\n",
    "xx = df_deals[timeDiff(['Final_Cancel_Date__c','test_date_end'],'d',df_deals)>=0]\n",
    "df_test = xx[timeDiff(['test_date_start','Final_Cancel_Date__c'],'d',xx)>=0]\n",
    "\n",
    "df_deals['WC_Date'] = df_deals['WC_Complete_Date_Time__c'].astype(str).str[:-18]\n",
    "df_deals = df_deals.drop(columns='WC_Complete_Date_Time__c')\n",
    "\n"
   ]
  },
  {
   "cell_type": "code",
   "execution_count": 327,
   "metadata": {},
   "outputs": [
    {
     "data": {
      "text/plain": [
       "((562893, 30), (1045, 30))"
      ]
     },
     "execution_count": 327,
     "metadata": {},
     "output_type": "execute_result"
    }
   ],
   "source": [
    "df_deals.shape, df_test.shape"
   ]
  },
  {
   "cell_type": "code",
   "execution_count": 328,
   "metadata": {
    "scrolled": true
   },
   "outputs": [
    {
     "name": "stdout",
     "output_type": "stream",
     "text": [
      "Index(['Id', 'Name', 'Final_Cancel_Date__c', 'Graduated_Date__c', 'Signed__c',\n",
      "       'Applicant_s_Take_home_Pay__c', 'Client_State__c', 'Enrollment_Date__c',\n",
      "       'FICO_Experian_At_Enrollment__c',\n",
      "       'FICO_Experian_At_Enrollment_CoClient__c', 'Hardship__c',\n",
      "       'Monthly_Payment__c', 'Program_Type__c', 'Rent_Renter_s_Insurance__c',\n",
      "       'State_at_Enrollment__c', 'Total_Monthly_Expense__c',\n",
      "       'Total_Monthly_Income__c', 'Vehicle_Payments__c',\n",
      "       'Waiver_Aggressive_Creditor__c', 'Waiver_Business_Debt__c',\n",
      "       'Waiver_CU_USAA__c', 'Waiver_Good_Faith_High_Risk__c',\n",
      "       'Waiver_Military__c', 'Waiver_PayDay_Loans__c',\n",
      "       'Waiver_Secured_Accounts__c', 'Waiver_Single_Account__c',\n",
      "       'Welcome_Call_Timer_Report__c', 'test_date_start', 'test_date_end',\n",
      "       'WC_Date'],\n",
      "      dtype='object')\n"
     ]
    }
   ],
   "source": [
    "# Describe imported columns in each dataframe\n",
    "dfs = [df_deals]#,df_cases,df_calls,df_RI]\n",
    "for i in dfs:   \n",
    "    print(i.columns)\n",
    "df = df_deals.copy()"
   ]
  },
  {
   "cell_type": "markdown",
   "metadata": {},
   "source": [
    "Check the data shape. "
   ]
  },
  {
   "cell_type": "code",
   "execution_count": 332,
   "metadata": {},
   "outputs": [
    {
     "name": "stdout",
     "output_type": "stream",
     "text": [
      "Cleaning Text\n",
      "Parsing words\n"
     ]
    }
   ],
   "source": [
    "lemmatizer = nltk.stem.WordNetLemmatizer()\n",
    "w_tokenizer = nltk.tokenize.WhitespaceTokenizer()\n",
    "\n",
    "def lemmatize_text(text):\n",
    "    '''Conver text into list of lemmatized words'''\n",
    "    return [lemmatizer.lemmatize(w) for w in w_tokenizer.tokenize(text)]\n",
    "\n",
    "\n",
    "print('Cleaning Text')\n",
    "df['Hardship__c'] = df['Hardship__c'].str.lower()\n",
    "df['Hardship__c'] = df['Hardship__c'].map(lambda x: re.sub(r'\\n\\s?[0-9]{1,2}[\\/:,.-][0-9]{1,2}[\\/:,.-][0-9]{1,2}.*',' ',x) if x == x else '')\n",
    "df['Hardship__c'] = df['Hardship__c'].map(lambda x: re.sub(r'\\n',' ',x) if x == x else '')\n",
    "df['Hardship__c'] = df['Hardship__c'].map(lambda x: re.sub(r\"'\",'',x) if x == x else '')\n",
    "df['Hardship__c'] = df['Hardship__c'].map(lambda x: re.sub(r'\\b\\w\\b',' ',x) if x == x else '')\n",
    "df['Hardship__c'] = df['Hardship__c'].map(lambda x: re.sub(r'[^a-zA-Z]', ' ',x) if x == x else '')\n",
    "df['Hardship__c'] = df['Hardship__c'].map(lambda x: re.sub(r'\\bnc\\b.*', ' ',x) if x == x else '')\n",
    "print('Parsing words')\n",
    "df['Hardship__c'] = df['Hardship__c'].apply(lemmatize_text)\n",
    "df['Hardship__c'] = df['Hardship__c'].map(lambda x: ' '.join(x))"
   ]
  },
  {
   "cell_type": "code",
   "execution_count": 337,
   "metadata": {},
   "outputs": [],
   "source": [
    "df['Class'] = df['Final_Cancel_Date__c'].apply(lambda x: True if x == x else False)"
   ]
  },
  {
   "cell_type": "code",
   "execution_count": 338,
   "metadata": {},
   "outputs": [],
   "source": [
    "df = df[['Name','Hardship__c','Class']].iloc[:2000]"
   ]
  },
  {
   "cell_type": "code",
   "execution_count": 339,
   "metadata": {},
   "outputs": [],
   "source": [
    "df = df.dropna()\n",
    "df['Hardship__c']=df['Hardship__c'].apply(lambda x: str(x))"
   ]
  },
  {
   "cell_type": "code",
   "execution_count": 340,
   "metadata": {},
   "outputs": [],
   "source": [
    "def remove_URL(text):\n",
    "    url = re.compile(r'https?://\\S+|www\\.\\S+')\n",
    "    return url.sub(r'',text)\n",
    "\n",
    "# example=\"New competition launched :https://www.kaggle.com/c/nlp-getting-started\"\n",
    "# print(remove_URL(example))\n",
    "\n",
    "def remove_html(text):\n",
    "    html=re.compile(r'<.*?>')\n",
    "    return html.sub(r'',text)\n",
    "\n",
    "# example = \"\"\"<div>\n",
    "# <h1>Real or Fake</h1>\n",
    "# <p>Kaggle </p>\n",
    "# <a href=\"https://www.kaggle.com/c/nlp-getting-started\">getting started</a>\n",
    "# </div>\"\"\"\n",
    "\n",
    "# print(remove_html(example))\n",
    "\n",
    "def remove_emoji(text):\n",
    "    emoji_pattern = re.compile(\"[\"\n",
    "                           u\"\\U0001F600-\\U0001F64F\"  # emoticons\n",
    "                           u\"\\U0001F300-\\U0001F5FF\"  # symbols & pictographs\n",
    "                           u\"\\U0001F680-\\U0001F6FF\"  # transport & map symbols\n",
    "                           u\"\\U0001F1E0-\\U0001F1FF\"  # flags (iOS)\n",
    "                           u\"\\U00002702-\\U000027B0\"\n",
    "                           u\"\\U000024C2-\\U0001F251\"\n",
    "                           \"]+\", flags=re.UNICODE)\n",
    "    return emoji_pattern.sub(r'', text)\n",
    "\n",
    "# remove_emoji(\"Omg another Earthquake 😔😔\")\n",
    "\n",
    "def remove_punct(text):\n",
    "    table=str.maketrans('','',string.punctuation)\n",
    "    return text.translate(table)\n",
    "\n",
    "# example=\"I am a #king\"\n",
    "# print(remove_punct(example))\n",
    "\n",
    "from spellchecker import SpellChecker\n",
    "\n",
    "spell = SpellChecker()\n",
    "def correct_spellings(text):\n",
    "    corrected_text = []\n",
    "    misspelled_words = spell.unknown(text.split())\n",
    "    for word in text.split():\n",
    "        if word in misspelled_words:\n",
    "            corrected_text.append(spell.correction(word))\n",
    "        else:\n",
    "            corrected_text.append(word)\n",
    "    return \" \".join(corrected_text)\n",
    "        \n",
    "# text = \"corect me plese\"\n",
    "# correct_spellings(text)\n",
    "\n",
    "# df['text']=df['Hardship__c'].apply(lambda x: remove_emoji(x))\n",
    "# df['text']=df['Hardship__c'].apply(lambda x: remove_html(x))\n",
    "# df['text']=df['Hardship__c'].apply(lambda x: remove_URL(x))\n",
    "df['text']=df['Hardship__c'].apply(lambda x: remove_punct(x))\n",
    "df['text']=df['Hardship__c'].apply(lambda x: correct_spellings(x))\n",
    "\n"
   ]
  },
  {
   "cell_type": "code",
   "execution_count": 341,
   "metadata": {},
   "outputs": [],
   "source": [
    "# df= df.dropna()\n",
    "# df = df[df.Hardship__c.apply(lambda x: x !=\"\")]"
   ]
  },
  {
   "cell_type": "code",
   "execution_count": 342,
   "metadata": {},
   "outputs": [],
   "source": [
    "def create_corpus(df):\n",
    "    corpus=[]\n",
    "    for tweet in tqdm(df['text']):\n",
    "        words=[word.lower() for word in word_tokenize(tweet) if((word.isalpha()==1) & (word not in stop))]\n",
    "        corpus.append(words)\n",
    "    return corpus\n",
    "        "
   ]
  },
  {
   "cell_type": "code",
   "execution_count": 343,
   "metadata": {},
   "outputs": [
    {
     "name": "stderr",
     "output_type": "stream",
     "text": [
      "100%|██████████| 2000/2000 [00:00<00:00, 6533.51it/s]\n"
     ]
    }
   ],
   "source": [
    "corpus=create_corpus(df)"
   ]
  },
  {
   "cell_type": "code",
   "execution_count": 282,
   "metadata": {},
   "outputs": [],
   "source": [
    "embedding_dict={}\n",
    "with open('../../Downloads/glove.6B/glove.6B.50d.txt','r') as f:\n",
    "    for line in f:\n",
    "        values=line.split()\n",
    "        word=values[0]\n",
    "        vectors=np.asarray(values[1:],'float32')\n",
    "        embedding_dict[word]=vectors\n",
    "f.close()"
   ]
  },
  {
   "cell_type": "code",
   "execution_count": 283,
   "metadata": {},
   "outputs": [],
   "source": [
    "MAX_LEN=50\n",
    "tokenizer_obj=Tokenizer()\n",
    "tokenizer_obj.fit_on_texts(corpus)\n",
    "sequences=tokenizer_obj.texts_to_sequences(corpus)\n",
    "\n",
    "tweet_pad=pad_sequences(sequences,maxlen=MAX_LEN,truncating='post',padding='post')"
   ]
  },
  {
   "cell_type": "code",
   "execution_count": 284,
   "metadata": {},
   "outputs": [
    {
     "name": "stdout",
     "output_type": "stream",
     "text": [
      "Number of unique words: 4479\n"
     ]
    }
   ],
   "source": [
    "word_index=tokenizer_obj.word_index\n",
    "print('Number of unique words:',len(word_index))"
   ]
  },
  {
   "cell_type": "code",
   "execution_count": 285,
   "metadata": {},
   "outputs": [
    {
     "name": "stderr",
     "output_type": "stream",
     "text": [
      "100%|██████████| 4479/4479 [00:00<00:00, 593713.66it/s]\n"
     ]
    }
   ],
   "source": [
    "num_words=len(word_index)+1\n",
    "embedding_matrix=np.zeros((num_words,50))\n",
    "\n",
    "for word,i in tqdm(word_index.items()):\n",
    "    if i > num_words:\n",
    "        continue\n",
    "    \n",
    "    emb_vec=embedding_dict.get(word)\n",
    "    if emb_vec is not None:\n",
    "        embedding_matrix[i]=emb_vec"
   ]
  },
  {
   "cell_type": "code",
   "execution_count": null,
   "metadata": {},
   "outputs": [],
   "source": []
  },
  {
   "cell_type": "code",
   "execution_count": 310,
   "metadata": {},
   "outputs": [],
   "source": [
    "model=Sequential()\n",
    "\n",
    "embedding=Embedding(num_words,50,embeddings_initializer=Constant(embedding_matrix),\n",
    "                   input_length=MAX_LEN,trainable=False)\n",
    "\n",
    "model.add(embedding)\n",
    "model.add(SpatialDropout1D(0.2))\n",
    "model.add(LSTM(128, dropout=0.2, recurrent_dropout=0.2))\n",
    "model.add(Dense(1, activation='sigmoid'))\n",
    "\n",
    "\n",
    "optimzer=Adam(learning_rate=1e-5)\n",
    "\n",
    "model.compile(loss='binary_crossentropy',optimizer=optimzer,metrics=['accuracy'])"
   ]
  },
  {
   "cell_type": "code",
   "execution_count": 311,
   "metadata": {},
   "outputs": [
    {
     "name": "stdout",
     "output_type": "stream",
     "text": [
      "Model: \"sequential_15\"\n",
      "_________________________________________________________________\n",
      "Layer (type)                 Output Shape              Param #   \n",
      "=================================================================\n",
      "embedding_14 (Embedding)     (None, 100, 50)           224000    \n",
      "_________________________________________________________________\n",
      "spatial_dropout1d_10 (Spatia (None, 100, 50)           0         \n",
      "_________________________________________________________________\n",
      "lstm_15 (LSTM)               (None, 128)               91648     \n",
      "_________________________________________________________________\n",
      "dense_11 (Dense)             (None, 1)                 129       \n",
      "=================================================================\n",
      "Total params: 315,777\n",
      "Trainable params: 91,777\n",
      "Non-trainable params: 224,000\n",
      "_________________________________________________________________\n"
     ]
    }
   ],
   "source": [
    "model.summary()"
   ]
  },
  {
   "cell_type": "code",
   "execution_count": 352,
   "metadata": {},
   "outputs": [],
   "source": [
    "df_work = df[['Class','text']]"
   ]
  },
  {
   "cell_type": "code",
   "execution_count": 356,
   "metadata": {},
   "outputs": [],
   "source": [
    "train=tweet_pad[:1000]\n",
    "test=tweet_pad[1000:]"
   ]
  },
  {
   "cell_type": "code",
   "execution_count": 318,
   "metadata": {},
   "outputs": [
    {
     "name": "stdout",
     "output_type": "stream",
     "text": [
      "Shape of train (1053, 100)\n",
      "Shape of Validation  (186, 100)\n"
     ]
    }
   ],
   "source": [
    "X_train,X_test,y_train,y_test=train_test_split(train,df['Class'].values,test_size=0.15)\n",
    "print('Shape of train',X_train.shape)\n",
    "print(\"Shape of Validation \",X_test.shape)"
   ]
  },
  {
   "cell_type": "code",
   "execution_count": 344,
   "metadata": {},
   "outputs": [
    {
     "name": "stdout",
     "output_type": "stream",
     "text": [
      "Train on 1053 samples, validate on 186 samples\n",
      "Epoch 1/50\n",
      " - 4s - loss: 0.5621 - accuracy: 0.7559 - val_loss: 0.5670 - val_accuracy: 0.7527\n",
      "Epoch 2/50\n",
      " - 5s - loss: 0.5546 - accuracy: 0.7559 - val_loss: 0.5672 - val_accuracy: 0.7527\n",
      "Epoch 3/50\n",
      " - 5s - loss: 0.5548 - accuracy: 0.7559 - val_loss: 0.5670 - val_accuracy: 0.7527\n",
      "Epoch 4/50\n",
      " - 5s - loss: 0.5642 - accuracy: 0.7559 - val_loss: 0.5677 - val_accuracy: 0.7527\n",
      "Epoch 5/50\n",
      " - 5s - loss: 0.5574 - accuracy: 0.7559 - val_loss: 0.5673 - val_accuracy: 0.7527\n",
      "Epoch 6/50\n",
      " - 5s - loss: 0.5608 - accuracy: 0.7559 - val_loss: 0.5680 - val_accuracy: 0.7527\n",
      "Epoch 7/50\n",
      " - 5s - loss: 0.5555 - accuracy: 0.7559 - val_loss: 0.5676 - val_accuracy: 0.7527\n",
      "Epoch 8/50\n",
      " - 5s - loss: 0.5680 - accuracy: 0.7559 - val_loss: 0.5682 - val_accuracy: 0.7527\n",
      "Epoch 9/50\n",
      " - 5s - loss: 0.5591 - accuracy: 0.7559 - val_loss: 0.5682 - val_accuracy: 0.7527\n",
      "Epoch 10/50\n",
      " - 5s - loss: 0.5532 - accuracy: 0.7559 - val_loss: 0.5675 - val_accuracy: 0.7527\n",
      "Epoch 11/50\n",
      " - 5s - loss: 0.5534 - accuracy: 0.7559 - val_loss: 0.5672 - val_accuracy: 0.7527\n",
      "Epoch 12/50\n",
      " - 5s - loss: 0.5612 - accuracy: 0.7559 - val_loss: 0.5678 - val_accuracy: 0.7527\n",
      "Epoch 13/50\n",
      " - 5s - loss: 0.5606 - accuracy: 0.7559 - val_loss: 0.5681 - val_accuracy: 0.7527\n",
      "Epoch 14/50\n",
      " - 5s - loss: 0.5496 - accuracy: 0.7559 - val_loss: 0.5680 - val_accuracy: 0.7527\n",
      "Epoch 15/50\n",
      " - 5s - loss: 0.5523 - accuracy: 0.7559 - val_loss: 0.5677 - val_accuracy: 0.7527\n",
      "Epoch 16/50\n",
      " - 5s - loss: 0.5512 - accuracy: 0.7559 - val_loss: 0.5675 - val_accuracy: 0.7527\n",
      "Epoch 17/50\n",
      " - 5s - loss: 0.5564 - accuracy: 0.7559 - val_loss: 0.5678 - val_accuracy: 0.7527\n",
      "Epoch 18/50\n",
      " - 5s - loss: 0.5591 - accuracy: 0.7559 - val_loss: 0.5679 - val_accuracy: 0.7527\n",
      "Epoch 19/50\n",
      " - 5s - loss: 0.5497 - accuracy: 0.7559 - val_loss: 0.5678 - val_accuracy: 0.7527\n",
      "Epoch 20/50\n",
      " - 5s - loss: 0.5570 - accuracy: 0.7559 - val_loss: 0.5677 - val_accuracy: 0.7527\n",
      "Epoch 21/50\n",
      " - 4s - loss: 0.5490 - accuracy: 0.7559 - val_loss: 0.5677 - val_accuracy: 0.7527\n",
      "Epoch 22/50\n",
      " - 5s - loss: 0.5546 - accuracy: 0.7559 - val_loss: 0.5680 - val_accuracy: 0.7527\n",
      "Epoch 23/50\n",
      " - 5s - loss: 0.5572 - accuracy: 0.7559 - val_loss: 0.5681 - val_accuracy: 0.7527\n",
      "Epoch 24/50\n",
      " - 5s - loss: 0.5559 - accuracy: 0.7559 - val_loss: 0.5678 - val_accuracy: 0.7527\n",
      "Epoch 25/50\n",
      " - 5s - loss: 0.5567 - accuracy: 0.7559 - val_loss: 0.5680 - val_accuracy: 0.7527\n",
      "Epoch 26/50\n",
      " - 5s - loss: 0.5521 - accuracy: 0.7559 - val_loss: 0.5680 - val_accuracy: 0.7527\n",
      "Epoch 27/50\n",
      " - 5s - loss: 0.5558 - accuracy: 0.7559 - val_loss: 0.5681 - val_accuracy: 0.7527\n",
      "Epoch 28/50\n",
      " - 5s - loss: 0.5475 - accuracy: 0.7559 - val_loss: 0.5679 - val_accuracy: 0.7527\n",
      "Epoch 29/50\n",
      " - 5s - loss: 0.5529 - accuracy: 0.7559 - val_loss: 0.5679 - val_accuracy: 0.7527\n",
      "Epoch 30/50\n",
      " - 5s - loss: 0.5504 - accuracy: 0.7559 - val_loss: 0.5680 - val_accuracy: 0.7527\n",
      "Epoch 31/50\n",
      " - 5s - loss: 0.5523 - accuracy: 0.7559 - val_loss: 0.5681 - val_accuracy: 0.7527\n",
      "Epoch 32/50\n",
      " - 5s - loss: 0.5485 - accuracy: 0.7559 - val_loss: 0.5680 - val_accuracy: 0.7527\n",
      "Epoch 33/50\n",
      " - 5s - loss: 0.5502 - accuracy: 0.7559 - val_loss: 0.5678 - val_accuracy: 0.7527\n",
      "Epoch 34/50\n",
      " - 5s - loss: 0.5488 - accuracy: 0.7559 - val_loss: 0.5681 - val_accuracy: 0.7527\n",
      "Epoch 35/50\n",
      " - 5s - loss: 0.5484 - accuracy: 0.7559 - val_loss: 0.5681 - val_accuracy: 0.7527\n",
      "Epoch 36/50\n",
      " - 5s - loss: 0.5504 - accuracy: 0.7559 - val_loss: 0.5681 - val_accuracy: 0.7527\n",
      "Epoch 37/50\n",
      " - 5s - loss: 0.5476 - accuracy: 0.7559 - val_loss: 0.5680 - val_accuracy: 0.7527\n",
      "Epoch 38/50\n",
      " - 5s - loss: 0.5533 - accuracy: 0.7559 - val_loss: 0.5681 - val_accuracy: 0.7527\n",
      "Epoch 39/50\n",
      " - 5s - loss: 0.5483 - accuracy: 0.7559 - val_loss: 0.5683 - val_accuracy: 0.7527\n",
      "Epoch 40/50\n",
      " - 5s - loss: 0.5475 - accuracy: 0.7559 - val_loss: 0.5684 - val_accuracy: 0.7527\n",
      "Epoch 41/50\n",
      " - 5s - loss: 0.5489 - accuracy: 0.7559 - val_loss: 0.5685 - val_accuracy: 0.7527\n",
      "Epoch 42/50\n",
      " - 5s - loss: 0.5453 - accuracy: 0.7559 - val_loss: 0.5684 - val_accuracy: 0.7527\n",
      "Epoch 43/50\n",
      " - 5s - loss: 0.5530 - accuracy: 0.7559 - val_loss: 0.5685 - val_accuracy: 0.7527\n",
      "Epoch 44/50\n",
      " - 5s - loss: 0.5507 - accuracy: 0.7559 - val_loss: 0.5686 - val_accuracy: 0.7527\n",
      "Epoch 45/50\n",
      " - 5s - loss: 0.5456 - accuracy: 0.7559 - val_loss: 0.5686 - val_accuracy: 0.7527\n",
      "Epoch 46/50\n",
      " - 5s - loss: 0.5472 - accuracy: 0.7559 - val_loss: 0.5686 - val_accuracy: 0.7527\n",
      "Epoch 47/50\n",
      " - 5s - loss: 0.5445 - accuracy: 0.7559 - val_loss: 0.5685 - val_accuracy: 0.7527\n",
      "Epoch 48/50\n",
      " - 5s - loss: 0.5498 - accuracy: 0.7559 - val_loss: 0.5687 - val_accuracy: 0.7527\n",
      "Epoch 49/50\n",
      " - 5s - loss: 0.5518 - accuracy: 0.7559 - val_loss: 0.5686 - val_accuracy: 0.7527\n",
      "Epoch 50/50\n",
      " - 5s - loss: 0.5452 - accuracy: 0.7559 - val_loss: 0.5686 - val_accuracy: 0.7527\n"
     ]
    }
   ],
   "source": [
    "history=model.fit(X_train,y_train,batch_size=8,epochs=20,validation_data=(X_test,y_test),verbose=2)"
   ]
  },
  {
   "cell_type": "code",
   "execution_count": 345,
   "metadata": {},
   "outputs": [
    {
     "name": "stdout",
     "output_type": "stream",
     "text": [
      "dict_keys(['val_loss', 'val_accuracy', 'loss', 'accuracy'])\n"
     ]
    },
    {
     "data": {
      "image/png": "[encoded data removed]",
      "text/plain": [
       "<Figure size 432x288 with 1 Axes>"
      ]
     },
     "metadata": {
      "needs_background": "light"
     },
     "output_type": "display_data"
    },
    {
     "data": {
      "image/png": "[encoded data removed]",
      "text/plain": [
       "<Figure size 432x288 with 1 Axes>"
      ]
     },
     "metadata": {
      "needs_background": "light"
     },
     "output_type": "display_data"
    }
   ],
   "source": [
    "print(history.history.keys())\n",
    "# summarize history for accuracy\n",
    "plt.plot(history.history['accuracy'])\n",
    "plt.plot(history.history['val_accuracy'])\n",
    "plt.title('model accuracy')\n",
    "plt.ylabel('accuracy')\n",
    "plt.xlabel('epoch')\n",
    "plt.legend(['train', 'test'], loc='upper left')\n",
    "plt.show()\n",
    "# summarize history for loss\n",
    "plt.plot(history.history['loss'])\n",
    "plt.plot(history.history['val_loss'])\n",
    "plt.title('model loss')\n",
    "plt.ylabel('loss')\n",
    "plt.xlabel('epoch')\n",
    "plt.legend(['train', 'test'], loc='upper left')\n",
    "plt.show()"
   ]
  },
  {
   "cell_type": "code",
   "execution_count": 358,
   "metadata": {},
   "outputs": [],
   "source": [
    "y_pre=model.predict(test)"
   ]
  },
  {
   "cell_type": "code",
   "execution_count": 360,
   "metadata": {},
   "outputs": [
    {
     "data": {
      "text/plain": [
       "0"
      ]
     },
     "execution_count": 360,
     "metadata": {},
     "output_type": "execute_result"
    }
   ],
   "source": [
    "(y_pre>0.5).sum()"
   ]
  },
  {
   "cell_type": "code",
   "execution_count": 363,
   "metadata": {},
   "outputs": [
    {
     "data": {
      "text/plain": [
       "array([[0.20830883],\n",
       "       [0.23879205],\n",
       "       [0.23509656],\n",
       "       [0.26572496],\n",
       "       [0.25505364],\n",
       "       [0.26802725],\n",
       "       [0.26324806],\n",
       "       [0.25876102],\n",
       "       [0.06761529],\n",
       "       [0.26599842],\n",
       "       [0.08680558],\n",
       "       [0.26595438],\n",
       "       [0.09740067],\n",
       "       [0.26919112],\n",
       "       [0.08803725],\n",
       "       [0.24821974],\n",
       "       [0.23833   ],\n",
       "       [0.22998682],\n",
       "       [0.26841283],\n",
       "       [0.07679735],\n",
       "       [0.07960746],\n",
       "       [0.2495461 ],\n",
       "       [0.26773447],\n",
       "       [0.26919717],\n",
       "       [0.26649413],\n",
       "       [0.26757455],\n",
       "       [0.26567936],\n",
       "       [0.26744658],\n",
       "       [0.26787075],\n",
       "       [0.26770037],\n",
       "       [0.2670454 ],\n",
       "       [0.20027125],\n",
       "       [0.26405314],\n",
       "       [0.24204595],\n",
       "       [0.26286677],\n",
       "       [0.26690623],\n",
       "       [0.21734855],\n",
       "       [0.26483238],\n",
       "       [0.26410952],\n",
       "       [0.20455869],\n",
       "       [0.26927435],\n",
       "       [0.26191902],\n",
       "       [0.23712891],\n",
       "       [0.15088312],\n",
       "       [0.0986115 ],\n",
       "       [0.2594641 ],\n",
       "       [0.25993395],\n",
       "       [0.2576149 ],\n",
       "       [0.2659389 ],\n",
       "       [0.24732159],\n",
       "       [0.22926487],\n",
       "       [0.26553246],\n",
       "       [0.26302877],\n",
       "       [0.26767093],\n",
       "       [0.25951946],\n",
       "       [0.27097565],\n",
       "       [0.2539803 ],\n",
       "       [0.23558863],\n",
       "       [0.0730332 ],\n",
       "       [0.2669502 ],\n",
       "       [0.26409215],\n",
       "       [0.25662374],\n",
       "       [0.2678331 ],\n",
       "       [0.2657111 ],\n",
       "       [0.26157427],\n",
       "       [0.2676153 ],\n",
       "       [0.22513366],\n",
       "       [0.21043457],\n",
       "       [0.26705578],\n",
       "       [0.26814148],\n",
       "       [0.26971993],\n",
       "       [0.24868813],\n",
       "       [0.2655417 ],\n",
       "       [0.10406981],\n",
       "       [0.26343408],\n",
       "       [0.2690861 ],\n",
       "       [0.25914288],\n",
       "       [0.2676863 ],\n",
       "       [0.08421893],\n",
       "       [0.2667515 ],\n",
       "       [0.2670837 ],\n",
       "       [0.23513581],\n",
       "       [0.26722753],\n",
       "       [0.26502627],\n",
       "       [0.22725588],\n",
       "       [0.25501233],\n",
       "       [0.25505754],\n",
       "       [0.25492585],\n",
       "       [0.07196593],\n",
       "       [0.22501163],\n",
       "       [0.2612201 ],\n",
       "       [0.23141815],\n",
       "       [0.2546669 ],\n",
       "       [0.2484173 ],\n",
       "       [0.2130337 ],\n",
       "       [0.26445618],\n",
       "       [0.25572577],\n",
       "       [0.2672901 ],\n",
       "       [0.26526338],\n",
       "       [0.26873612],\n",
       "       [0.2658474 ],\n",
       "       [0.26781142],\n",
       "       [0.2645822 ],\n",
       "       [0.26544595],\n",
       "       [0.26851687],\n",
       "       [0.13003694],\n",
       "       [0.25605834],\n",
       "       [0.2652801 ],\n",
       "       [0.26673728],\n",
       "       [0.26807076],\n",
       "       [0.2677406 ],\n",
       "       [0.25776973],\n",
       "       [0.25778303],\n",
       "       [0.26674178],\n",
       "       [0.25794852],\n",
       "       [0.25187516],\n",
       "       [0.25644067],\n",
       "       [0.26698935],\n",
       "       [0.26520064],\n",
       "       [0.26254505],\n",
       "       [0.10985072],\n",
       "       [0.26920307],\n",
       "       [0.25701928],\n",
       "       [0.26961392],\n",
       "       [0.18425661],\n",
       "       [0.26388898],\n",
       "       [0.26103538],\n",
       "       [0.26650178],\n",
       "       [0.26599193],\n",
       "       [0.26222724],\n",
       "       [0.26658198],\n",
       "       [0.25536585],\n",
       "       [0.2585565 ],\n",
       "       [0.2674376 ],\n",
       "       [0.2670556 ],\n",
       "       [0.10194733],\n",
       "       [0.20155492],\n",
       "       [0.25847924],\n",
       "       [0.2623979 ],\n",
       "       [0.2667066 ],\n",
       "       [0.26369256],\n",
       "       [0.2676181 ],\n",
       "       [0.18564929],\n",
       "       [0.26213145],\n",
       "       [0.25884464],\n",
       "       [0.08943658],\n",
       "       [0.2666835 ],\n",
       "       [0.09838912],\n",
       "       [0.26712355],\n",
       "       [0.26648384],\n",
       "       [0.2649415 ],\n",
       "       [0.26465744],\n",
       "       [0.11788446],\n",
       "       [0.20555706],\n",
       "       [0.25962946],\n",
       "       [0.07370991],\n",
       "       [0.26119345],\n",
       "       [0.26917922],\n",
       "       [0.2626149 ],\n",
       "       [0.26735404],\n",
       "       [0.23697385],\n",
       "       [0.25986913],\n",
       "       [0.26217964],\n",
       "       [0.24854499],\n",
       "       [0.26924238],\n",
       "       [0.22059439],\n",
       "       [0.26733482],\n",
       "       [0.26685393],\n",
       "       [0.18401735],\n",
       "       [0.26095465],\n",
       "       [0.25079525],\n",
       "       [0.26944548],\n",
       "       [0.2648443 ],\n",
       "       [0.26299933],\n",
       "       [0.26821274],\n",
       "       [0.24532995],\n",
       "       [0.07724895],\n",
       "       [0.26103553],\n",
       "       [0.26203778],\n",
       "       [0.2601571 ],\n",
       "       [0.23967364],\n",
       "       [0.2677841 ],\n",
       "       [0.26933002],\n",
       "       [0.26926208],\n",
       "       [0.2456152 ],\n",
       "       [0.2629152 ],\n",
       "       [0.26938128],\n",
       "       [0.26263708],\n",
       "       [0.26875407],\n",
       "       [0.25129494],\n",
       "       [0.265783  ],\n",
       "       [0.19297269],\n",
       "       [0.22994962],\n",
       "       [0.21734704],\n",
       "       [0.26838788],\n",
       "       [0.19779454],\n",
       "       [0.21493198],\n",
       "       [0.26419854],\n",
       "       [0.26072106],\n",
       "       [0.26625243],\n",
       "       [0.2641722 ],\n",
       "       [0.2600192 ],\n",
       "       [0.08102823],\n",
       "       [0.26847073],\n",
       "       [0.2381011 ],\n",
       "       [0.26869354],\n",
       "       [0.24476492],\n",
       "       [0.26795495],\n",
       "       [0.22621179],\n",
       "       [0.26864478],\n",
       "       [0.2699692 ],\n",
       "       [0.23943615],\n",
       "       [0.2647321 ],\n",
       "       [0.08945913],\n",
       "       [0.26113307],\n",
       "       [0.26698935],\n",
       "       [0.09634169],\n",
       "       [0.2628711 ],\n",
       "       [0.26223466],\n",
       "       [0.26928574],\n",
       "       [0.26511836],\n",
       "       [0.2655023 ],\n",
       "       [0.26722315],\n",
       "       [0.21199346],\n",
       "       [0.25064653],\n",
       "       [0.26952982],\n",
       "       [0.09556302],\n",
       "       [0.23651682],\n",
       "       [0.08961643],\n",
       "       [0.26648068],\n",
       "       [0.25362438],\n",
       "       [0.07013445],\n",
       "       [0.14217171],\n",
       "       [0.07431922],\n",
       "       [0.26238784],\n",
       "       [0.25636017],\n",
       "       [0.07078332],\n",
       "       [0.2579787 ],\n",
       "       [0.26764372]], dtype=float32)"
      ]
     },
     "execution_count": 363,
     "metadata": {},
     "output_type": "execute_result"
    }
   ],
   "source": [
    "y_pre"
   ]
  },
  {
   "cell_type": "code",
   "execution_count": null,
   "metadata": {},
   "outputs": [],
   "source": []
  }
 ],
 "metadata": {
  "kernelspec": {
   "display_name": "Python 3",
   "language": "python",
   "name": "python3"
  },
  "language_info": {
   "codemirror_mode": {
    "name": "ipython",
    "version": 3
   },
   "file_extension": ".py",
   "mimetype": "text/x-python",
   "name": "python",
   "nbconvert_exporter": "python",
   "pygments_lexer": "ipython3",
   "version": "3.7.4"
  }
 },
 "nbformat": 4,
 "nbformat_minor": 2
}
