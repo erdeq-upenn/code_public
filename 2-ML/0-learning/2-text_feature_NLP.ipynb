{
 "cells": [
  {
   "cell_type": "markdown",
   "metadata": {},
   "source": [
    "# Cancellation model_v1.X  \n",
    "Deals with data enrolled after 1/1/2016, pulled 2020/03/13. Class is 1 for cancel, 0 for not cancel. feature is Hardship__c. \n",
    "Joins with information about Cases and Twilio Calls, deals, and RI.\n",
    "By Dequan Er  \n",
    "\n",
    "03/18/2020\n",
    "\n",
    "\n",
    "* In this X version, it aims to develop tools and infurstractures for text features.\n",
    "* should time allow, it will also investigate the LSTM model with sliced time period."
   ]
  },
  {
   "cell_type": "markdown",
   "metadata": {},
   "source": [
    "# Summary  \n",
    "Create ML model to predict cancellation probability, both at Enrollment and ongoing throughout the client’s journey.  \n",
    "1. feature selection and feature importance\n",
    "2. model training\n",
    "3. build infurstracture for further model with LSTM or CNN model."
   ]
  },
  {
   "cell_type": "code",
   "execution_count": 136,
   "metadata": {},
   "outputs": [
    {
     "name": "stderr",
     "output_type": "stream",
     "text": [
      "[nltk_data] Downloading package wordnet to\n",
      "[nltk_data]     /Users/dequan.er/nltk_data...\n",
      "[nltk_data]   Package wordnet is already up-to-date!\n"
     ]
    }
   ],
   "source": [
    "# Usual imports\n",
    "import pandas as pd\n",
    "import numpy as np\n",
    "pd.set_option(\"display.max_rows\", 120)\n",
    "pd.set_option(\"display.max_columns\", 120)\n",
    "\n",
    "import matplotlib.pyplot as plt\n",
    "import seaborn as sns\n",
    "import datetime as dt\n",
    "from tqdm import tqdm\n",
    "\n",
    "from sklearn.preprocessing import StandardScaler, MinMaxScaler, Normalizer\n",
    "from sklearn.neighbors import KNeighborsRegressor\n",
    "from sklearn.model_selection import train_test_split, cross_val_score, GridSearchCV, KFold, StratifiedKFold, RandomizedSearchCV\n",
    "from sklearn.utils import shuffle\n",
    "from keras.preprocessing.text import Tokenizer\n",
    "from keras.preprocessing.sequence import pad_sequences\n",
    "from keras.models import Sequential\n",
    "from keras.layers import Dense, Flatten, LSTM, Conv1D, MaxPooling1D, Dropout, Activation, SpatialDropout1D\n",
    "from keras.layers.embeddings import Embedding\n",
    "from keras.initializers import Constant\n",
    "from keras.optimizers import Adam\n",
    "from keras.layers import GlobalMaxPooling1D\n",
    "\n",
    "import nltk\n",
    "nltk.download('wordnet')\n",
    "import re # DE add\n",
    "from nltk.tokenize import word_tokenize\n",
    "from nltk.stem import WordNetLemmatizer\n",
    "from nltk.stem import SnowballStemmer\n",
    "import string\n",
    "\n",
    "from nltk.corpus import stopwords\n",
    "from sklearn.manifold import TSNE\n",
    "\n",
    "stop=set(stopwords.words('english'))"
   ]
  },
  {
   "cell_type": "markdown",
   "metadata": {},
   "source": [
    "write basic functions and set up data_pull_date and ytica_start_date."
   ]
  },
  {
   "cell_type": "code",
   "execution_count": null,
   "metadata": {},
   "outputs": [],
   "source": [
    "# Setup initial variables, define functions\n",
    "\n",
    "test_date_start = pd.to_datetime('2020-03-01')\n",
    "test_date_end = pd.to_datetime('2020-03-07')\n",
    "\n",
    "data_pull_date = pd.to_datetime('2020-03-13')\n",
    "ytica_start_date = pd.to_datetime('2018-01-01')\n",
    "\n",
    "# def lemmatize_text(text):\n",
    "#     '''Conver text into list of lemmatized words'''\n",
    "#     return [lemmatizer.lemmatize(w) for w in w_tokenizer.tokenize(text)]\n",
    "\n",
    "def date_to_int(date_str, Format):\n",
    "    '''\n",
    "    Parse datetime into integer.\n",
    "    Format = 1: 'yyyy-mm-dd...'\n",
    "    Format = 2: 'mm/dd/yyyy'\n",
    "    '''\n",
    "    if date_str == date_str:\n",
    "        if Format == 1:\n",
    "            y = int(date_str[0:4])*10000\n",
    "            m = int(date_str[5:7])*100\n",
    "            d = int(date_str[8:10])\n",
    "        elif Format == 2:\n",
    "            y = int(date_str[6:10])*10000\n",
    "            m = int(date_str[0:2])*100\n",
    "            d = int(date_str[3:5])\n",
    "        else:\n",
    "            print('Invalid Format: 1 for \"yyyy-mm-dd\", 2 for \"mm/dd/yyyy\"')\n",
    "            return\n",
    "        return y+m+d\n",
    "    else:\n",
    "        return date_str\n",
    "    \n",
    "def plot_feature(df_view, feature, title, x_label, rot=0):\n",
    "    '''\n",
    "    Given a dataframe with bucketed feature, \n",
    "    plot Class dependence on the given feature\n",
    "    '''\n",
    "    df_view = df_view.sort_values(feature, ascending = True)\n",
    "    plt.subplots(figsize = (15, 8))\n",
    "    ax = sns.barplot(x = df_view[feature], y = df_view.Class, linewidth=2)\n",
    "    plt.title(title, fontsize = 25)\n",
    "    plt.ylabel(\"% of CCs Legal\", fontsize = 15)\n",
    "    plt.xlabel(x_label,fontsize = 15)\n",
    "    plt.xticks(rotation = rot);\n",
    "    #can display feature counts\n",
    "    #display(df_view[feature].value_counts().sort_index())\n",
    "    \n",
    "def labelize(x, scale, limit=1000000000, exception=None, force=100):\n",
    "    '''\n",
    "    Bucket a feature into string ranges using floor(x/scale)*scale to determine buckets\n",
    "    '''\n",
    "    if force == 100:\n",
    "        if x < limit:\n",
    "            return str(int(np.floor(x/scale)*scale)) + \"-\" + \\\n",
    "                str(int(np.floor(x/scale)*scale + scale))\n",
    "        else:\n",
    "            return exception\n",
    "    else:\n",
    "        if x < limit:\n",
    "            a = str(int(np.floor(x/scale)*scale))\n",
    "            pad = force - len(a)\n",
    "            a = \"0\"*pad + a\n",
    "            b = str(int(np.floor(x/scale)*scale + scale))\n",
    "            pad = force - len(b)\n",
    "            b = \"0\"*pad + b\n",
    "            return a + \"-\" + b\n",
    "        else:\n",
    "            return exception\n",
    "        \n",
    "def timeDiff(col,form,data):\n",
    "    \"\"\"\n",
    "    Input: col of desired date different, date in format col[1]-col[0], arr\n",
    "    Output: number of years or days\n",
    "    Form: y for year, d for day, str\n",
    "    data: the dataFrame to input\n",
    "    \"\"\"\n",
    "    t1 = pd.to_datetime(data[col[0]],errors='coerce')\n",
    "    t2 = pd.to_datetime(data[col[1]],errors='coerce')\n",
    "    if form == ('y' or 'Y'):\n",
    "        return (t2-t1).astype('timedelta64[Y]')\n",
    "    if form == ('d' or 'D'):\n",
    "        return (t2-t1).astype('timedelta64[D]')"
   ]
  },
  {
   "cell_type": "code",
   "execution_count": 160,
   "metadata": {},
   "outputs": [],
   "source": [
    "# import df \n",
    "df_deals = pd.read_csv('~/OneDrive - National Debt Relief/1-share_team/cancellation_model_v1.0/data_in/DS_update.csv')#,parse_dates = [2,3,9,13,-2])\n",
    "\n",
    "df_deals['test_date_start'] = test_date_start\n",
    "df_deals['test_date_end'] = test_date_end\n",
    "\n",
    "xx = df_deals[timeDiff(['Final_Cancel_Date__c','test_date_end'],'d',df_deals)>=0]\n",
    "df_test = xx[timeDiff(['test_date_start','Final_Cancel_Date__c'],'d',xx)>=0]\n",
    "\n",
    "df_deals['WC_Date'] = df_deals['WC_Complete_Date_Time__c'].astype(str).str[:-18]\n",
    "df_deals = df_deals.drop(columns='WC_Complete_Date_Time__c')\n"
   ]
  },
  {
   "cell_type": "code",
   "execution_count": 162,
   "metadata": {},
   "outputs": [
    {
     "data": {
      "text/plain": [
       "((562893, 30), (1045, 30))"
      ]
     },
     "execution_count": 162,
     "metadata": {},
     "output_type": "execute_result"
    }
   ],
   "source": [
    "df = df_deals[:10000]\n",
    "df_deals.shape, df_test.shape"
   ]
  },
  {
   "cell_type": "code",
   "execution_count": 146,
   "metadata": {},
   "outputs": [],
   "source": [
    "# df_deals['Class']=False\n",
    "# df_deals[df_deals.isin(df_test)['Name']]['Class'] = True"
   ]
  },
  {
   "cell_type": "markdown",
   "metadata": {},
   "source": [
    "Check the data shape. "
   ]
  },
  {
   "cell_type": "code",
   "execution_count": 147,
   "metadata": {},
   "outputs": [
    {
     "data": {
      "text/plain": [
       "(True, (562893, 30))"
      ]
     },
     "execution_count": 147,
     "metadata": {},
     "output_type": "execute_result"
    }
   ],
   "source": [
    "df_deals.isnull().values.any(), df_deals.shape"
   ]
  },
  {
   "cell_type": "code",
   "execution_count": 163,
   "metadata": {},
   "outputs": [
    {
     "name": "stderr",
     "output_type": "stream",
     "text": [
      "/Users/dequan.er/opt/anaconda3/lib/python3.7/site-packages/ipykernel_launcher.py:1: SettingWithCopyWarning: \n",
      "A value is trying to be set on a copy of a slice from a DataFrame.\n",
      "Try using .loc[row_indexer,col_indexer] = value instead\n",
      "\n",
      "See the caveats in the documentation: http://pandas.pydata.org/pandas-docs/stable/user_guide/indexing.html#returning-a-view-versus-a-copy\n",
      "  \"\"\"Entry point for launching an IPython kernel.\n"
     ]
    }
   ],
   "source": [
    "df['Class'] = df['Final_Cancel_Date__c'].apply(lambda x: True if x == x else False)"
   ]
  },
  {
   "cell_type": "code",
   "execution_count": 164,
   "metadata": {},
   "outputs": [],
   "source": [
    "df = df[['Name','Hardship__c','Class']]#.iloc[:2000]\n",
    "df = df.dropna()\n",
    "df['Hardship__c']=df['Hardship__c'].apply(lambda x: str(x))"
   ]
  },
  {
   "cell_type": "code",
   "execution_count": 165,
   "metadata": {},
   "outputs": [
    {
     "data": {
      "text/plain": [
       "<matplotlib.axes._subplots.AxesSubplot at 0x7fcb9546f050>"
      ]
     },
     "execution_count": 165,
     "metadata": {},
     "output_type": "execute_result"
    },
    {
     "data": {
      "image/png": "[encoded data removed]",
      "text/plain": [
       "<Figure size 432x288 with 1 Axes>"
      ]
     },
     "metadata": {
      "needs_background": "light"
     },
     "output_type": "display_data"
    }
   ],
   "source": [
    "sns.countplot(x='Class', data=df)"
   ]
  },
  {
   "cell_type": "code",
   "execution_count": 166,
   "metadata": {},
   "outputs": [],
   "source": [
    "def preprocess_text(sen):\n",
    "    # Removing html tags\n",
    "    sentence = remove_tags(sen)\n",
    "\n",
    "    # Remove punctuations and numbers\n",
    "    sentence = re.sub('[^a-zA-Z]', ' ', sentence)\n",
    "\n",
    "    # Single character removal\n",
    "    sentence = re.sub(r\"\\s+[a-zA-Z]\\s+\", ' ', sentence)\n",
    "\n",
    "    # Removing multiple spaces\n",
    "    sentence = re.sub(r'\\s+', ' ', sentence)\n",
    "\n",
    "    return sentence\n",
    "\n",
    "TAG_RE = re.compile(r'<[^>]+>')\n",
    "\n",
    "def remove_tags(text):\n",
    "    return TAG_RE.sub('', text)\n"
   ]
  },
  {
   "cell_type": "code",
   "execution_count": 167,
   "metadata": {},
   "outputs": [],
   "source": [
    "X = []\n",
    "sentences = list(df['Hardship__c'])\n",
    "for sen in sentences:\n",
    "    X.append(preprocess_text(sen))"
   ]
  },
  {
   "cell_type": "code",
   "execution_count": 168,
   "metadata": {},
   "outputs": [],
   "source": [
    "y = df.Class\n",
    "X_train, X_test, y_train, y_test = train_test_split(X, y, test_size=0.20, random_state=42)"
   ]
  },
  {
   "cell_type": "markdown",
   "metadata": {},
   "source": [
    "Prepare embedding layer"
   ]
  },
  {
   "cell_type": "code",
   "execution_count": 169,
   "metadata": {},
   "outputs": [],
   "source": [
    "tokenizer = Tokenizer(num_words=1000)\n",
    "tokenizer.fit_on_texts(X_train)\n",
    "\n",
    "X_train = tokenizer.texts_to_sequences(X_train)\n",
    "X_test = tokenizer.texts_to_sequences(X_test)\n",
    "\n",
    "# Adding 1 because of reserved 0 index\n",
    "vocab_size = len(tokenizer.word_index) + 1\n",
    "\n",
    "maxlen = 5000\n",
    "\n",
    "X_train = pad_sequences(X_train, padding='post', maxlen=maxlen)\n",
    "X_test = pad_sequences(X_test, padding='post', maxlen=maxlen)"
   ]
  },
  {
   "cell_type": "code",
   "execution_count": 170,
   "metadata": {},
   "outputs": [],
   "source": [
    "from numpy import array\n",
    "from numpy import asarray\n",
    "from numpy import zeros\n",
    "\n",
    "embeddings_dictionary = dict()\n",
    "glove_file = open('../../Downloads/glove.6B/glove.6B.50d.txt', encoding=\"utf8\")\n",
    "\n",
    "for line in glove_file:\n",
    "    records = line.split()\n",
    "    word = records[0]\n",
    "    vector_dimensions = asarray(records[1:], dtype='float32')\n",
    "    embeddings_dictionary [word] = vector_dimensions\n",
    "glove_file.close()"
   ]
  },
  {
   "cell_type": "code",
   "execution_count": 171,
   "metadata": {},
   "outputs": [],
   "source": [
    "embedding_matrix = zeros((vocab_size, 50))\n",
    "for word, index in tokenizer.word_index.items():\n",
    "    embedding_vector = embeddings_dictionary.get(word)\n",
    "    if embedding_vector is not None:\n",
    "        embedding_matrix[index] = embedding_vector"
   ]
  },
  {
   "cell_type": "code",
   "execution_count": 172,
   "metadata": {},
   "outputs": [],
   "source": [
    "def plot_training(history):\n",
    "    print(history.history.keys())\n",
    "    # summarize history for accuracy\n",
    "    plt.plot(history.history['acc'])\n",
    "    plt.plot(history.history['val_acc'])\n",
    "    plt.title('model accuracy')\n",
    "    plt.ylabel('accuracy')\n",
    "    plt.xlabel('epoch')\n",
    "    plt.legend(['train', 'test'], loc='upper left')\n",
    "    plt.show()\n",
    "    # summarize history for loss\n",
    "    plt.plot(history.history['loss'])\n",
    "    plt.plot(history.history['val_loss'])\n",
    "    plt.title('model loss')\n",
    "    plt.ylabel('loss')\n",
    "    plt.xlabel('epoch')\n",
    "    plt.legend(['train', 'test'], loc='upper left')\n",
    "    plt.show()"
   ]
  },
  {
   "cell_type": "code",
   "execution_count": 173,
   "metadata": {},
   "outputs": [
    {
     "name": "stdout",
     "output_type": "stream",
     "text": [
      "Model: \"sequential_12\"\n",
      "_________________________________________________________________\n",
      "Layer (type)                 Output Shape              Param #   \n",
      "=================================================================\n",
      "embedding_12 (Embedding)     (None, 5000, 50)          452150    \n",
      "_________________________________________________________________\n",
      "flatten_5 (Flatten)          (None, 250000)            0         \n",
      "_________________________________________________________________\n",
      "dense_10 (Dense)             (None, 1)                 250001    \n",
      "=================================================================\n",
      "Total params: 702,151\n",
      "Trainable params: 250,001\n",
      "Non-trainable params: 452,150\n",
      "_________________________________________________________________\n",
      "None\n",
      "Train on 4046 samples, validate on 1012 samples\n",
      "Epoch 1/20\n",
      "4046/4046 [==============================] - 1s 351us/step - loss: 0.5704 - acc: 0.7531 - val_loss: 0.5554 - val_acc: 0.7648\n",
      "Epoch 2/20\n",
      "4046/4046 [==============================] - 1s 366us/step - loss: 0.4649 - acc: 0.7810 - val_loss: 0.5393 - val_acc: 0.7727\n",
      "Epoch 3/20\n",
      "4046/4046 [==============================] - 1s 369us/step - loss: 0.4190 - acc: 0.7996 - val_loss: 0.5392 - val_acc: 0.7708\n",
      "Epoch 4/20\n",
      "4046/4046 [==============================] - 1s 338us/step - loss: 0.3839 - acc: 0.8275 - val_loss: 0.5540 - val_acc: 0.7579\n",
      "Epoch 5/20\n",
      "4046/4046 [==============================] - 1s 325us/step - loss: 0.3581 - acc: 0.8389 - val_loss: 0.5621 - val_acc: 0.7559\n",
      "Epoch 6/20\n",
      "4046/4046 [==============================] - 1s 331us/step - loss: 0.3410 - acc: 0.8524 - val_loss: 0.5751 - val_acc: 0.7638\n",
      "Epoch 7/20\n",
      "4046/4046 [==============================] - 1s 331us/step - loss: 0.3174 - acc: 0.8707 - val_loss: 0.5852 - val_acc: 0.7411\n",
      "Epoch 8/20\n",
      "4046/4046 [==============================] - 1s 337us/step - loss: 0.3053 - acc: 0.8774 - val_loss: 0.5941 - val_acc: 0.7204\n",
      "Epoch 9/20\n",
      "4046/4046 [==============================] - 1s 360us/step - loss: 0.2888 - acc: 0.8870 - val_loss: 0.6085 - val_acc: 0.7233\n",
      "Epoch 10/20\n",
      "4046/4046 [==============================] - 1s 358us/step - loss: 0.2829 - acc: 0.8880 - val_loss: 0.6244 - val_acc: 0.7589\n",
      "Epoch 11/20\n",
      "4046/4046 [==============================] - 1s 369us/step - loss: 0.2643 - acc: 0.9014 - val_loss: 0.6248 - val_acc: 0.7460\n",
      "Epoch 12/20\n",
      "4046/4046 [==============================] - 1s 349us/step - loss: 0.2567 - acc: 0.9078 - val_loss: 0.6360 - val_acc: 0.7105\n",
      "Epoch 13/20\n",
      "4046/4046 [==============================] - 1s 358us/step - loss: 0.2434 - acc: 0.9135 - val_loss: 0.6405 - val_acc: 0.7421\n",
      "Epoch 14/20\n",
      "4046/4046 [==============================] - 1s 370us/step - loss: 0.2370 - acc: 0.9172 - val_loss: 0.6587 - val_acc: 0.7451\n",
      "Epoch 15/20\n",
      "4046/4046 [==============================] - 1s 360us/step - loss: 0.2266 - acc: 0.9236 - val_loss: 0.6638 - val_acc: 0.7055\n",
      "Epoch 16/20\n",
      "4046/4046 [==============================] - 1s 339us/step - loss: 0.2195 - acc: 0.9296 - val_loss: 0.6717 - val_acc: 0.7213\n",
      "Epoch 17/20\n",
      "4046/4046 [==============================] - 1s 357us/step - loss: 0.2139 - acc: 0.9308 - val_loss: 0.6958 - val_acc: 0.6808\n",
      "Epoch 18/20\n",
      "4046/4046 [==============================] - 1s 344us/step - loss: 0.2065 - acc: 0.9335 - val_loss: 0.6928 - val_acc: 0.6937\n",
      "Epoch 19/20\n",
      "4046/4046 [==============================] - 1s 347us/step - loss: 0.2074 - acc: 0.9310 - val_loss: 0.7044 - val_acc: 0.7362\n",
      "Epoch 20/20\n",
      "4046/4046 [==============================] - 1s 344us/step - loss: 0.1944 - acc: 0.9394 - val_loss: 0.7093 - val_acc: 0.7026\n",
      "1265/1265 [==============================] - 0s 205us/step\n",
      "Test Score: 0.7414008835087652\n",
      "Test Accuracy: 0.6980237364768982\n",
      "dict_keys(['val_loss', 'val_acc', 'loss', 'acc'])\n"
     ]
    },
    {
     "data": {
      "image/png": "[encoded data removed]",
      "text/plain": [
       "<Figure size 432x288 with 1 Axes>"
      ]
     },
     "metadata": {
      "needs_background": "light"
     },
     "output_type": "display_data"
    },
    {
     "data": {
      "image/png": "[encoded data removed]",
      "text/plain": [
       "<Figure size 432x288 with 1 Axes>"
      ]
     },
     "metadata": {
      "needs_background": "light"
     },
     "output_type": "display_data"
    }
   ],
   "source": [
    "# Simple baseline model\n",
    "model = Sequential()\n",
    "embedding_layer = Embedding(vocab_size, 50, weights=[embedding_matrix], input_length=maxlen , trainable=False)\n",
    "model.add(embedding_layer)\n",
    "\n",
    "model.add(Flatten())\n",
    "model.add(Dense(1, activation='sigmoid'))\n",
    "\n",
    "model.compile(optimizer='adam', loss='binary_crossentropy', metrics=['acc'])\n",
    "\n",
    "print(model.summary())\n",
    "\n",
    "history = model.fit(X_train, y_train, batch_size=64, epochs=20, verbose=1, validation_split=0.2)\n",
    "\n",
    "score = model.evaluate(X_test, y_test, verbose=1)\n",
    "print(\"Test Score:\", score[0])\n",
    "print(\"Test Accuracy:\", score[1])\n",
    "plot_training(history)"
   ]
  },
  {
   "cell_type": "code",
   "execution_count": 175,
   "metadata": {},
   "outputs": [
    {
     "name": "stdout",
     "output_type": "stream",
     "text": [
      "Model: \"sequential_14\"\n",
      "_________________________________________________________________\n",
      "Layer (type)                 Output Shape              Param #   \n",
      "=================================================================\n",
      "embedding_14 (Embedding)     (None, 5000, 50)          452150    \n",
      "_________________________________________________________________\n",
      "conv1d_6 (Conv1D)            (None, 4996, 128)         32128     \n",
      "_________________________________________________________________\n",
      "global_max_pooling1d_5 (Glob (None, 128)               0         \n",
      "_________________________________________________________________\n",
      "dense_12 (Dense)             (None, 1)                 129       \n",
      "=================================================================\n",
      "Total params: 484,407\n",
      "Trainable params: 32,257\n",
      "Non-trainable params: 452,150\n",
      "_________________________________________________________________\n",
      "None\n",
      "Train on 4046 samples, validate on 1012 samples\n",
      "Epoch 1/20\n",
      "4046/4046 [==============================] - 21s 5ms/step - loss: 0.5459 - acc: 0.7642 - val_loss: 0.5242 - val_acc: 0.7757\n",
      "Epoch 2/20\n",
      "4046/4046 [==============================] - 20s 5ms/step - loss: 0.4975 - acc: 0.7659 - val_loss: 0.5141 - val_acc: 0.7747\n",
      "Epoch 3/20\n",
      "4046/4046 [==============================] - 18s 5ms/step - loss: 0.4715 - acc: 0.7751 - val_loss: 0.5105 - val_acc: 0.7777\n",
      "Epoch 4/20\n",
      "4046/4046 [==============================] - 19s 5ms/step - loss: 0.4445 - acc: 0.7902 - val_loss: 0.5068 - val_acc: 0.7787\n",
      "Epoch 5/20\n",
      "4046/4046 [==============================] - 19s 5ms/step - loss: 0.4214 - acc: 0.7966 - val_loss: 0.5056 - val_acc: 0.7787\n",
      "Epoch 6/20\n",
      "4046/4046 [==============================] - 19s 5ms/step - loss: 0.3977 - acc: 0.8136 - val_loss: 0.5015 - val_acc: 0.7787\n",
      "Epoch 7/20\n",
      "4046/4046 [==============================] - 19s 5ms/step - loss: 0.3766 - acc: 0.8309 - val_loss: 0.5039 - val_acc: 0.7747\n",
      "Epoch 8/20\n",
      "4046/4046 [==============================] - 19s 5ms/step - loss: 0.3534 - acc: 0.8487 - val_loss: 0.5039 - val_acc: 0.7777\n",
      "Epoch 9/20\n",
      "4046/4046 [==============================] - 20s 5ms/step - loss: 0.3345 - acc: 0.8611 - val_loss: 0.5028 - val_acc: 0.7777\n",
      "Epoch 10/20\n",
      "4046/4046 [==============================] - 19s 5ms/step - loss: 0.3152 - acc: 0.8742 - val_loss: 0.5045 - val_acc: 0.7777\n",
      "Epoch 11/20\n",
      "4046/4046 [==============================] - 19s 5ms/step - loss: 0.2966 - acc: 0.8880 - val_loss: 0.5181 - val_acc: 0.7559\n",
      "Epoch 12/20\n",
      "4046/4046 [==============================] - 19s 5ms/step - loss: 0.2772 - acc: 0.9066 - val_loss: 0.5044 - val_acc: 0.7796\n",
      "Epoch 13/20\n",
      "4046/4046 [==============================] - 19s 5ms/step - loss: 0.2603 - acc: 0.9192 - val_loss: 0.5063 - val_acc: 0.7846\n",
      "Epoch 14/20\n",
      "4046/4046 [==============================] - 19s 5ms/step - loss: 0.2391 - acc: 0.9355 - val_loss: 0.5107 - val_acc: 0.7836\n",
      "Epoch 15/20\n",
      "4046/4046 [==============================] - 19s 5ms/step - loss: 0.2231 - acc: 0.9436 - val_loss: 0.5121 - val_acc: 0.7836\n",
      "Epoch 16/20\n",
      "4046/4046 [==============================] - 19s 5ms/step - loss: 0.2049 - acc: 0.9523 - val_loss: 0.5167 - val_acc: 0.7609\n",
      "Epoch 17/20\n",
      "4046/4046 [==============================] - 19s 5ms/step - loss: 0.1895 - acc: 0.9632 - val_loss: 0.5186 - val_acc: 0.7648\n",
      "Epoch 18/20\n",
      "4046/4046 [==============================] - 19s 5ms/step - loss: 0.1778 - acc: 0.9671 - val_loss: 0.5257 - val_acc: 0.7579\n",
      "Epoch 19/20\n",
      "4046/4046 [==============================] - 19s 5ms/step - loss: 0.1650 - acc: 0.9733 - val_loss: 0.5333 - val_acc: 0.7727\n",
      "Epoch 20/20\n",
      "4046/4046 [==============================] - 19s 5ms/step - loss: 0.1521 - acc: 0.9820 - val_loss: 0.5343 - val_acc: 0.7767\n",
      "1265/1265 [==============================] - 2s 2ms/step\n",
      "Test Score: 0.5196690158174915\n",
      "Test Accuracy: 0.7739130258560181\n",
      "dict_keys(['val_loss', 'val_acc', 'loss', 'acc'])\n"
     ]
    },
    {
     "data": {
      "image/png": "[encoded data removed]",
      "text/plain": [
       "<Figure size 432x288 with 1 Axes>"
      ]
     },
     "metadata": {
      "needs_background": "light"
     },
     "output_type": "display_data"
    },
    {
     "data": {
      "image/png": "[encoded data removed]",
      "text/plain": [
       "<Figure size 432x288 with 1 Axes>"
      ]
     },
     "metadata": {
      "needs_background": "light"
     },
     "output_type": "display_data"
    }
   ],
   "source": [
    "# CNN model\n",
    "\"\"\"\n",
    "    The use of this model has been tested. Over the 240 k samples with maxLen= 5000, a single epoch takes about 20 mins.\n",
    "    \n",
    "\"\"\"\n",
    "model = Sequential()\n",
    "\n",
    "embedding_layer = Embedding(vocab_size, 50, weights=[embedding_matrix], input_length=maxlen , trainable=False)\n",
    "model.add(embedding_layer)\n",
    "\n",
    "model.add(Conv1D(128, 5, activation='relu'))\n",
    "model.add(GlobalMaxPooling1D())\n",
    "model.add(Dense(1, activation='sigmoid'))\n",
    "model.compile(optimizer='adam', loss='binary_crossentropy', metrics=['acc'])\n",
    "\n",
    "print(model.summary())\n",
    "\n",
    "history = model.fit(X_train, y_train, batch_size=128, epochs=20, verbose=1, validation_split=0.2)\n",
    "\n",
    "score = model.evaluate(X_test, y_test, verbose=1)\n",
    "print(\"Test Score:\", score[0])\n",
    "print(\"Test Accuracy:\", score[1])\n",
    "plot_training(history)"
   ]
  },
  {
   "cell_type": "code",
   "execution_count": 194,
   "metadata": {},
   "outputs": [
    {
     "name": "stdout",
     "output_type": "stream",
     "text": [
      "Model: \"sequential_30\"\n",
      "_________________________________________________________________\n",
      "Layer (type)                 Output Shape              Param #   \n",
      "=================================================================\n",
      "embedding_30 (Embedding)     (None, 5000, 50)          452150    \n",
      "_________________________________________________________________\n",
      "lstm_25 (LSTM)               (None, 128)               91648     \n",
      "_________________________________________________________________\n",
      "dense_23 (Dense)             (None, 1)                 129       \n",
      "=================================================================\n",
      "Total params: 543,927\n",
      "Trainable params: 91,777\n",
      "Non-trainable params: 452,150\n",
      "_________________________________________________________________\n",
      "None\n",
      "Train on 4046 samples, validate on 1012 samples\n",
      "Epoch 1/6\n",
      "4046/4046 [==============================] - 173s 43ms/step - loss: 0.6060 - acc: 0.7650 - val_loss: 0.5354 - val_acc: 0.7757\n",
      "Epoch 2/6\n",
      "4046/4046 [==============================] - 169s 42ms/step - loss: 0.5467 - acc: 0.7650 - val_loss: 0.5329 - val_acc: 0.7757\n",
      "Epoch 3/6\n",
      "4046/4046 [==============================] - 169s 42ms/step - loss: 0.5464 - acc: 0.7650 - val_loss: 0.5323 - val_acc: 0.7757\n",
      "Epoch 4/6\n",
      "4046/4046 [==============================] - 169s 42ms/step - loss: 0.5460 - acc: 0.7650 - val_loss: 0.5333 - val_acc: 0.7757\n",
      "Epoch 5/6\n",
      "3968/4046 [============================>.] - ETA: 3s - loss: 0.5464 - acc: 0.7651"
     ]
    },
    {
     "ename": "KeyboardInterrupt",
     "evalue": "",
     "output_type": "error",
     "traceback": [
      "\u001b[0;31m---------------------------------------------------------------------------\u001b[0m",
      "\u001b[0;31mKeyboardInterrupt\u001b[0m                         Traceback (most recent call last)",
      "\u001b[0;32m<ipython-input-194-8f0b9577187b>\u001b[0m in \u001b[0;36m<module>\u001b[0;34m\u001b[0m\n\u001b[1;32m     23\u001b[0m \u001b[0mprint\u001b[0m\u001b[0;34m(\u001b[0m\u001b[0mmodel\u001b[0m\u001b[0;34m.\u001b[0m\u001b[0msummary\u001b[0m\u001b[0;34m(\u001b[0m\u001b[0;34m)\u001b[0m\u001b[0;34m)\u001b[0m\u001b[0;34m\u001b[0m\u001b[0;34m\u001b[0m\u001b[0m\n\u001b[1;32m     24\u001b[0m \u001b[0;34m\u001b[0m\u001b[0m\n\u001b[0;32m---> 25\u001b[0;31m \u001b[0mhistory\u001b[0m \u001b[0;34m=\u001b[0m \u001b[0mmodel\u001b[0m\u001b[0;34m.\u001b[0m\u001b[0mfit\u001b[0m\u001b[0;34m(\u001b[0m\u001b[0mX_train\u001b[0m\u001b[0;34m,\u001b[0m \u001b[0my_train\u001b[0m\u001b[0;34m,\u001b[0m \u001b[0mbatch_size\u001b[0m\u001b[0;34m=\u001b[0m\u001b[0;36m128\u001b[0m\u001b[0;34m,\u001b[0m \u001b[0mepochs\u001b[0m\u001b[0;34m=\u001b[0m\u001b[0;36m6\u001b[0m\u001b[0;34m,\u001b[0m \u001b[0mverbose\u001b[0m\u001b[0;34m=\u001b[0m\u001b[0;36m1\u001b[0m\u001b[0;34m,\u001b[0m \u001b[0mvalidation_split\u001b[0m\u001b[0;34m=\u001b[0m\u001b[0;36m0.2\u001b[0m\u001b[0;34m)\u001b[0m\u001b[0;34m\u001b[0m\u001b[0;34m\u001b[0m\u001b[0m\n\u001b[0m\u001b[1;32m     26\u001b[0m \u001b[0;34m\u001b[0m\u001b[0m\n\u001b[1;32m     27\u001b[0m \u001b[0mscore\u001b[0m \u001b[0;34m=\u001b[0m \u001b[0mmodel\u001b[0m\u001b[0;34m.\u001b[0m\u001b[0mevaluate\u001b[0m\u001b[0;34m(\u001b[0m\u001b[0mX_test\u001b[0m\u001b[0;34m,\u001b[0m \u001b[0my_test\u001b[0m\u001b[0;34m,\u001b[0m \u001b[0mverbose\u001b[0m\u001b[0;34m=\u001b[0m\u001b[0;36m1\u001b[0m\u001b[0;34m)\u001b[0m\u001b[0;34m\u001b[0m\u001b[0;34m\u001b[0m\u001b[0m\n",
      "\u001b[0;32m~/opt/anaconda3/lib/python3.7/site-packages/keras/engine/training.py\u001b[0m in \u001b[0;36mfit\u001b[0;34m(self, x, y, batch_size, epochs, verbose, callbacks, validation_split, validation_data, shuffle, class_weight, sample_weight, initial_epoch, steps_per_epoch, validation_steps, validation_freq, max_queue_size, workers, use_multiprocessing, **kwargs)\u001b[0m\n\u001b[1;32m   1237\u001b[0m                                         \u001b[0msteps_per_epoch\u001b[0m\u001b[0;34m=\u001b[0m\u001b[0msteps_per_epoch\u001b[0m\u001b[0;34m,\u001b[0m\u001b[0;34m\u001b[0m\u001b[0;34m\u001b[0m\u001b[0m\n\u001b[1;32m   1238\u001b[0m                                         \u001b[0mvalidation_steps\u001b[0m\u001b[0;34m=\u001b[0m\u001b[0mvalidation_steps\u001b[0m\u001b[0;34m,\u001b[0m\u001b[0;34m\u001b[0m\u001b[0;34m\u001b[0m\u001b[0m\n\u001b[0;32m-> 1239\u001b[0;31m                                         validation_freq=validation_freq)\n\u001b[0m\u001b[1;32m   1240\u001b[0m \u001b[0;34m\u001b[0m\u001b[0m\n\u001b[1;32m   1241\u001b[0m     def evaluate(self,\n",
      "\u001b[0;32m~/opt/anaconda3/lib/python3.7/site-packages/keras/engine/training_arrays.py\u001b[0m in \u001b[0;36mfit_loop\u001b[0;34m(model, fit_function, fit_inputs, out_labels, batch_size, epochs, verbose, callbacks, val_function, val_inputs, shuffle, initial_epoch, steps_per_epoch, validation_steps, validation_freq)\u001b[0m\n\u001b[1;32m    208\u001b[0m                                          \u001b[0mbatch_size\u001b[0m\u001b[0;34m=\u001b[0m\u001b[0mbatch_size\u001b[0m\u001b[0;34m,\u001b[0m\u001b[0;34m\u001b[0m\u001b[0;34m\u001b[0m\u001b[0m\n\u001b[1;32m    209\u001b[0m                                          \u001b[0mcallbacks\u001b[0m\u001b[0;34m=\u001b[0m\u001b[0mcallbacks\u001b[0m\u001b[0;34m,\u001b[0m\u001b[0;34m\u001b[0m\u001b[0;34m\u001b[0m\u001b[0m\n\u001b[0;32m--> 210\u001b[0;31m                                          verbose=0)\n\u001b[0m\u001b[1;32m    211\u001b[0m                     \u001b[0mval_outs\u001b[0m \u001b[0;34m=\u001b[0m \u001b[0mto_list\u001b[0m\u001b[0;34m(\u001b[0m\u001b[0mval_outs\u001b[0m\u001b[0;34m)\u001b[0m\u001b[0;34m\u001b[0m\u001b[0;34m\u001b[0m\u001b[0m\n\u001b[1;32m    212\u001b[0m                     \u001b[0;31m# Same labels assumed.\u001b[0m\u001b[0;34m\u001b[0m\u001b[0;34m\u001b[0m\u001b[0;34m\u001b[0m\u001b[0m\n",
      "\u001b[0;32m~/opt/anaconda3/lib/python3.7/site-packages/keras/engine/training_arrays.py\u001b[0m in \u001b[0;36mtest_loop\u001b[0;34m(model, f, ins, batch_size, verbose, steps, callbacks)\u001b[0m\n\u001b[1;32m    447\u001b[0m             \u001b[0mbatch_logs\u001b[0m \u001b[0;34m=\u001b[0m \u001b[0;34m{\u001b[0m\u001b[0;34m'batch'\u001b[0m\u001b[0;34m:\u001b[0m \u001b[0mbatch_index\u001b[0m\u001b[0;34m,\u001b[0m \u001b[0;34m'size'\u001b[0m\u001b[0;34m:\u001b[0m \u001b[0mlen\u001b[0m\u001b[0;34m(\u001b[0m\u001b[0mbatch_ids\u001b[0m\u001b[0;34m)\u001b[0m\u001b[0;34m}\u001b[0m\u001b[0;34m\u001b[0m\u001b[0;34m\u001b[0m\u001b[0m\n\u001b[1;32m    448\u001b[0m             \u001b[0mcallbacks\u001b[0m\u001b[0;34m.\u001b[0m\u001b[0m_call_batch_hook\u001b[0m\u001b[0;34m(\u001b[0m\u001b[0;34m'test'\u001b[0m\u001b[0;34m,\u001b[0m \u001b[0;34m'begin'\u001b[0m\u001b[0;34m,\u001b[0m \u001b[0mbatch_index\u001b[0m\u001b[0;34m,\u001b[0m \u001b[0mbatch_logs\u001b[0m\u001b[0;34m)\u001b[0m\u001b[0;34m\u001b[0m\u001b[0;34m\u001b[0m\u001b[0m\n\u001b[0;32m--> 449\u001b[0;31m             \u001b[0mbatch_outs\u001b[0m \u001b[0;34m=\u001b[0m \u001b[0mf\u001b[0m\u001b[0;34m(\u001b[0m\u001b[0mins_batch\u001b[0m\u001b[0;34m)\u001b[0m\u001b[0;34m\u001b[0m\u001b[0;34m\u001b[0m\u001b[0m\n\u001b[0m\u001b[1;32m    450\u001b[0m             \u001b[0;32mif\u001b[0m \u001b[0misinstance\u001b[0m\u001b[0;34m(\u001b[0m\u001b[0mbatch_outs\u001b[0m\u001b[0;34m,\u001b[0m \u001b[0mlist\u001b[0m\u001b[0;34m)\u001b[0m\u001b[0;34m:\u001b[0m\u001b[0;34m\u001b[0m\u001b[0;34m\u001b[0m\u001b[0m\n\u001b[1;32m    451\u001b[0m                 \u001b[0;32mif\u001b[0m \u001b[0mbatch_index\u001b[0m \u001b[0;34m==\u001b[0m \u001b[0;36m0\u001b[0m\u001b[0;34m:\u001b[0m\u001b[0;34m\u001b[0m\u001b[0;34m\u001b[0m\u001b[0m\n",
      "\u001b[0;32m~/opt/anaconda3/lib/python3.7/site-packages/tensorflow_core/python/keras/backend.py\u001b[0m in \u001b[0;36m__call__\u001b[0;34m(self, inputs)\u001b[0m\n\u001b[1;32m   3725\u001b[0m         \u001b[0mvalue\u001b[0m \u001b[0;34m=\u001b[0m \u001b[0mmath_ops\u001b[0m\u001b[0;34m.\u001b[0m\u001b[0mcast\u001b[0m\u001b[0;34m(\u001b[0m\u001b[0mvalue\u001b[0m\u001b[0;34m,\u001b[0m \u001b[0mtensor\u001b[0m\u001b[0;34m.\u001b[0m\u001b[0mdtype\u001b[0m\u001b[0;34m)\u001b[0m\u001b[0;34m\u001b[0m\u001b[0;34m\u001b[0m\u001b[0m\n\u001b[1;32m   3726\u001b[0m       \u001b[0mconverted_inputs\u001b[0m\u001b[0;34m.\u001b[0m\u001b[0mappend\u001b[0m\u001b[0;34m(\u001b[0m\u001b[0mvalue\u001b[0m\u001b[0;34m)\u001b[0m\u001b[0;34m\u001b[0m\u001b[0;34m\u001b[0m\u001b[0m\n\u001b[0;32m-> 3727\u001b[0;31m     \u001b[0moutputs\u001b[0m \u001b[0;34m=\u001b[0m \u001b[0mself\u001b[0m\u001b[0;34m.\u001b[0m\u001b[0m_graph_fn\u001b[0m\u001b[0;34m(\u001b[0m\u001b[0;34m*\u001b[0m\u001b[0mconverted_inputs\u001b[0m\u001b[0;34m)\u001b[0m\u001b[0;34m\u001b[0m\u001b[0;34m\u001b[0m\u001b[0m\n\u001b[0m\u001b[1;32m   3728\u001b[0m \u001b[0;34m\u001b[0m\u001b[0m\n\u001b[1;32m   3729\u001b[0m     \u001b[0;31m# EagerTensor.numpy() will often make a copy to ensure memory safety.\u001b[0m\u001b[0;34m\u001b[0m\u001b[0;34m\u001b[0m\u001b[0;34m\u001b[0m\u001b[0m\n",
      "\u001b[0;32m~/opt/anaconda3/lib/python3.7/site-packages/tensorflow_core/python/eager/function.py\u001b[0m in \u001b[0;36m__call__\u001b[0;34m(self, *args, **kwargs)\u001b[0m\n\u001b[1;32m   1549\u001b[0m       \u001b[0mTypeError\u001b[0m\u001b[0;34m:\u001b[0m \u001b[0mFor\u001b[0m \u001b[0minvalid\u001b[0m \u001b[0mpositional\u001b[0m\u001b[0;34m/\u001b[0m\u001b[0mkeyword\u001b[0m \u001b[0margument\u001b[0m \u001b[0mcombinations\u001b[0m\u001b[0;34m.\u001b[0m\u001b[0;34m\u001b[0m\u001b[0;34m\u001b[0m\u001b[0m\n\u001b[1;32m   1550\u001b[0m     \"\"\"\n\u001b[0;32m-> 1551\u001b[0;31m     \u001b[0;32mreturn\u001b[0m \u001b[0mself\u001b[0m\u001b[0;34m.\u001b[0m\u001b[0m_call_impl\u001b[0m\u001b[0;34m(\u001b[0m\u001b[0margs\u001b[0m\u001b[0;34m,\u001b[0m \u001b[0mkwargs\u001b[0m\u001b[0;34m)\u001b[0m\u001b[0;34m\u001b[0m\u001b[0;34m\u001b[0m\u001b[0m\n\u001b[0m\u001b[1;32m   1552\u001b[0m \u001b[0;34m\u001b[0m\u001b[0m\n\u001b[1;32m   1553\u001b[0m   \u001b[0;32mdef\u001b[0m \u001b[0m_call_impl\u001b[0m\u001b[0;34m(\u001b[0m\u001b[0mself\u001b[0m\u001b[0;34m,\u001b[0m \u001b[0margs\u001b[0m\u001b[0;34m,\u001b[0m \u001b[0mkwargs\u001b[0m\u001b[0;34m,\u001b[0m \u001b[0mcancellation_manager\u001b[0m\u001b[0;34m=\u001b[0m\u001b[0;32mNone\u001b[0m\u001b[0;34m)\u001b[0m\u001b[0;34m:\u001b[0m\u001b[0;34m\u001b[0m\u001b[0;34m\u001b[0m\u001b[0m\n",
      "\u001b[0;32m~/opt/anaconda3/lib/python3.7/site-packages/tensorflow_core/python/eager/function.py\u001b[0m in \u001b[0;36m_call_impl\u001b[0;34m(self, args, kwargs, cancellation_manager)\u001b[0m\n\u001b[1;32m   1589\u001b[0m       raise TypeError(\"Keyword arguments {} unknown. Expected {}.\".format(\n\u001b[1;32m   1590\u001b[0m           list(kwargs.keys()), list(self._arg_keywords)))\n\u001b[0;32m-> 1591\u001b[0;31m     \u001b[0;32mreturn\u001b[0m \u001b[0mself\u001b[0m\u001b[0;34m.\u001b[0m\u001b[0m_call_flat\u001b[0m\u001b[0;34m(\u001b[0m\u001b[0margs\u001b[0m\u001b[0;34m,\u001b[0m \u001b[0mself\u001b[0m\u001b[0;34m.\u001b[0m\u001b[0mcaptured_inputs\u001b[0m\u001b[0;34m,\u001b[0m \u001b[0mcancellation_manager\u001b[0m\u001b[0;34m)\u001b[0m\u001b[0;34m\u001b[0m\u001b[0;34m\u001b[0m\u001b[0m\n\u001b[0m\u001b[1;32m   1592\u001b[0m \u001b[0;34m\u001b[0m\u001b[0m\n\u001b[1;32m   1593\u001b[0m   \u001b[0;32mdef\u001b[0m \u001b[0m_filtered_call\u001b[0m\u001b[0;34m(\u001b[0m\u001b[0mself\u001b[0m\u001b[0;34m,\u001b[0m \u001b[0margs\u001b[0m\u001b[0;34m,\u001b[0m \u001b[0mkwargs\u001b[0m\u001b[0;34m)\u001b[0m\u001b[0;34m:\u001b[0m\u001b[0;34m\u001b[0m\u001b[0;34m\u001b[0m\u001b[0m\n",
      "\u001b[0;32m~/opt/anaconda3/lib/python3.7/site-packages/tensorflow_core/python/eager/function.py\u001b[0m in \u001b[0;36m_call_flat\u001b[0;34m(self, args, captured_inputs, cancellation_manager)\u001b[0m\n\u001b[1;32m   1690\u001b[0m       \u001b[0;31m# No tape is watching; skip to running the function.\u001b[0m\u001b[0;34m\u001b[0m\u001b[0;34m\u001b[0m\u001b[0;34m\u001b[0m\u001b[0m\n\u001b[1;32m   1691\u001b[0m       return self._build_call_outputs(self._inference_function.call(\n\u001b[0;32m-> 1692\u001b[0;31m           ctx, args, cancellation_manager=cancellation_manager))\n\u001b[0m\u001b[1;32m   1693\u001b[0m     forward_backward = self._select_forward_and_backward_functions(\n\u001b[1;32m   1694\u001b[0m         \u001b[0margs\u001b[0m\u001b[0;34m,\u001b[0m\u001b[0;34m\u001b[0m\u001b[0;34m\u001b[0m\u001b[0m\n",
      "\u001b[0;32m~/opt/anaconda3/lib/python3.7/site-packages/tensorflow_core/python/eager/function.py\u001b[0m in \u001b[0;36mcall\u001b[0;34m(self, ctx, args, cancellation_manager)\u001b[0m\n\u001b[1;32m    543\u001b[0m               \u001b[0minputs\u001b[0m\u001b[0;34m=\u001b[0m\u001b[0margs\u001b[0m\u001b[0;34m,\u001b[0m\u001b[0;34m\u001b[0m\u001b[0;34m\u001b[0m\u001b[0m\n\u001b[1;32m    544\u001b[0m               \u001b[0mattrs\u001b[0m\u001b[0;34m=\u001b[0m\u001b[0;34m(\u001b[0m\u001b[0;34m\"executor_type\"\u001b[0m\u001b[0;34m,\u001b[0m \u001b[0mexecutor_type\u001b[0m\u001b[0;34m,\u001b[0m \u001b[0;34m\"config_proto\"\u001b[0m\u001b[0;34m,\u001b[0m \u001b[0mconfig\u001b[0m\u001b[0;34m)\u001b[0m\u001b[0;34m,\u001b[0m\u001b[0;34m\u001b[0m\u001b[0;34m\u001b[0m\u001b[0m\n\u001b[0;32m--> 545\u001b[0;31m               ctx=ctx)\n\u001b[0m\u001b[1;32m    546\u001b[0m         \u001b[0;32melse\u001b[0m\u001b[0;34m:\u001b[0m\u001b[0;34m\u001b[0m\u001b[0;34m\u001b[0m\u001b[0m\n\u001b[1;32m    547\u001b[0m           outputs = execute.execute_with_cancellation(\n",
      "\u001b[0;32m~/opt/anaconda3/lib/python3.7/site-packages/tensorflow_core/python/eager/execute.py\u001b[0m in \u001b[0;36mquick_execute\u001b[0;34m(op_name, num_outputs, inputs, attrs, ctx, name)\u001b[0m\n\u001b[1;32m     59\u001b[0m     tensors = pywrap_tensorflow.TFE_Py_Execute(ctx._handle, device_name,\n\u001b[1;32m     60\u001b[0m                                                \u001b[0mop_name\u001b[0m\u001b[0;34m,\u001b[0m \u001b[0minputs\u001b[0m\u001b[0;34m,\u001b[0m \u001b[0mattrs\u001b[0m\u001b[0;34m,\u001b[0m\u001b[0;34m\u001b[0m\u001b[0;34m\u001b[0m\u001b[0m\n\u001b[0;32m---> 61\u001b[0;31m                                                num_outputs)\n\u001b[0m\u001b[1;32m     62\u001b[0m   \u001b[0;32mexcept\u001b[0m \u001b[0mcore\u001b[0m\u001b[0;34m.\u001b[0m\u001b[0m_NotOkStatusException\u001b[0m \u001b[0;32mas\u001b[0m \u001b[0me\u001b[0m\u001b[0;34m:\u001b[0m\u001b[0;34m\u001b[0m\u001b[0;34m\u001b[0m\u001b[0m\n\u001b[1;32m     63\u001b[0m     \u001b[0;32mif\u001b[0m \u001b[0mname\u001b[0m \u001b[0;32mis\u001b[0m \u001b[0;32mnot\u001b[0m \u001b[0;32mNone\u001b[0m\u001b[0;34m:\u001b[0m\u001b[0;34m\u001b[0m\u001b[0;34m\u001b[0m\u001b[0m\n",
      "\u001b[0;31mKeyboardInterrupt\u001b[0m: "
     ]
    }
   ],
   "source": [
    "# LSTM \n",
    "\n",
    "\"\"\"\n",
    "    LSTM model is more complex in parameters, where LSTM unit is in a chain of making predictions. \n",
    "    It has bidirectional understanding of the sentence. \n",
    "    \n",
    "    It seems the LSTM in this version is underfitting. Let me use a deep network to try.\n",
    "\"\"\"\n",
    "model = Sequential()\n",
    "embedding_layer = Embedding(vocab_size, 50, weights=[embedding_matrix], input_length=maxlen , trainable=False)\n",
    "model.add(embedding_layer)\n",
    "\n",
    "model.add(LSTM(128))\n",
    "# test \n",
    "# model.add(LSTM(128,return_sequences=True))\n",
    "# model.add(Dropout(0.5))\n",
    "# model.add(LSTM(128,return_sequences=True))\n",
    "\n",
    "model.add(Dense(1, activation='sigmoid'))\n",
    "\n",
    "model.compile(optimizer='adam', loss='binary_crossentropy', metrics=['acc'])\n",
    "\n",
    "print(model.summary())\n",
    "\n",
    "history = model.fit(X_train, y_train, batch_size=128, epochs=6, verbose=1, validation_split=0.2)\n",
    "\n",
    "score = model.evaluate(X_test, y_test, verbose=1)\n",
    "print(\"Test Score:\", score[0])\n",
    "print(\"Test Accuracy:\", score[1])\n",
    "plot_training(history)\n"
   ]
  },
  {
   "cell_type": "code",
   "execution_count": 178,
   "metadata": {},
   "outputs": [
    {
     "data": {
      "text/plain": [
       "'/Users/dequan.er/Desktop/2-test'"
      ]
     },
     "execution_count": 178,
     "metadata": {},
     "output_type": "execute_result"
    }
   ],
   "source": [
    "X_train"
   ]
  },
  {
   "cell_type": "code",
   "execution_count": null,
   "metadata": {},
   "outputs": [],
   "source": []
  }
 ],
 "metadata": {
  "kernelspec": {
   "display_name": "Python 3",
   "language": "python",
   "name": "python3"
  },
  "language_info": {
   "codemirror_mode": {
    "name": "ipython",
    "version": 3
   },
   "file_extension": ".py",
   "mimetype": "text/x-python",
   "name": "python",
   "nbconvert_exporter": "python",
   "pygments_lexer": "ipython3",
   "version": "3.7.4"
  }
 },
 "nbformat": 4,
 "nbformat_minor": 2
}
