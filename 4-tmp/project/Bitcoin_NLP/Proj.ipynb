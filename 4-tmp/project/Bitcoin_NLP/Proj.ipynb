{
 "cells": [
  {
   "cell_type": "code",
   "execution_count": 98,
   "id": "cd658d1c",
   "metadata": {},
   "outputs": [
    {
     "data": {
      "text/html": [
       "        <script type=\"text/javascript\">\n",
       "        window.PlotlyConfig = {MathJaxConfig: 'local'};\n",
       "        if (window.MathJax) {MathJax.Hub.Config({SVG: {font: \"STIX-Web\"}});}\n",
       "        if (typeof require !== 'undefined') {\n",
       "        require.undef(\"plotly\");\n",
       "        requirejs.config({\n",
       "            paths: {\n",
       "                'plotly': ['https://cdn.plot.ly/plotly-2.8.3.min']\n",
       "            }\n",
       "        });\n",
       "        require(['plotly'], function(Plotly) {\n",
       "            window._Plotly = Plotly;\n",
       "        });\n",
       "        }\n",
       "        </script>\n",
       "        "
      ]
     },
     "metadata": {},
     "output_type": "display_data"
    }
   ],
   "source": [
    "# -*- coding: utf-8 -*-\n",
    "# \"\"\"\n",
    "# Created on Fri Jan 28 16:20:41 2022\n",
    "\n",
    "# @author: DE\n",
    "# \"\"\"\n",
    "# imports \n",
    "from time import sleep\n",
    "import json\n",
    "import pandas as pd\n",
    "import io\n",
    "import re\n",
    "import numpy as np\n",
    "from tqdm import tqdm\n",
    "import pandas as pd\n",
    "from vaderSentiment.vaderSentiment import SentimentIntensityAnalyzer\n",
    "from tqdm import tnrange, tqdm_notebook, tqdm\n",
    "\n",
    "from sklearn import preprocessing\n",
    "import matplotlib.pyplot as plt\n",
    "from plotly.offline import init_notebook_mode, iplot\n",
    "import plotly.graph_objs as go\n",
    "init_notebook_mode(connected=True) "
   ]
  },
  {
   "cell_type": "code",
   "execution_count": 99,
   "id": "94ca80cc",
   "metadata": {},
   "outputs": [],
   "source": [
    "# CURRENCY = \"bitcoin\"\n",
    "# CURRENCY_SYMBOL = \"BTC\"\n",
    "\n",
    "# ## personal config\n",
    "# TWEETS_FOLDER    = \"data/crypto/%s\"%(CURRENCY) # Relative path to historical data\n",
    "# SEP_CHAR         = '~' # character seperating dates from and to in filename\n",
    "# ENVS             = ['CRYPTO', 'LINE_COUNT', 'MOST_RECENT_FILE', 'MOST_RECENT_ID'] # Stored in var.csv\n",
    "# MAX_ROW_PER_FILE = 20000 # Each file storing data has a maximum amount of rows\n",
    "\n",
    "# tweets_raw_file = 'data/twitter/%s/%s_tweets_raw.csv'%(CURRENCY_SYMBOL,CURRENCY)\n",
    "tweets_raw_file   = 'data/Bitcoin_tweets.csv'\n",
    "tweets_clean_file = 'data/Bitcoin_tweets_clean.csv'\n",
    "bit_price_file = 'data/bitstampUSD_1-min_data_2012-01-01_to_2021-03-31.csv'\n",
    "# query = '#%s OR #%s'%(CURRENCY,CURRENCY_SYMBOL) ####TODO PUT BACK  OR {CURRENCY} OR ${CURR"
   ]
  },
  {
   "cell_type": "code",
   "execution_count": 100,
   "id": "eefae7ba-d1fa-4822-8a45-57303b575322",
   "metadata": {},
   "outputs": [
    {
     "name": "stdout",
     "output_type": "stream",
     "text": [
      "(2259788, 13)\n"
     ]
    },
    {
     "data": {
      "text/html": [
       "<div>\n",
       "<style scoped>\n",
       "    .dataframe tbody tr th:only-of-type {\n",
       "        vertical-align: middle;\n",
       "    }\n",
       "\n",
       "    .dataframe tbody tr th {\n",
       "        vertical-align: top;\n",
       "    }\n",
       "\n",
       "    .dataframe thead th {\n",
       "        text-align: right;\n",
       "    }\n",
       "</style>\n",
       "<table border=\"1\" class=\"dataframe\">\n",
       "  <thead>\n",
       "    <tr style=\"text-align: right;\">\n",
       "      <th></th>\n",
       "      <th>user_name</th>\n",
       "      <th>user_location</th>\n",
       "      <th>user_description</th>\n",
       "      <th>user_created</th>\n",
       "      <th>user_followers</th>\n",
       "      <th>user_friends</th>\n",
       "      <th>user_favourites</th>\n",
       "      <th>user_verified</th>\n",
       "      <th>date</th>\n",
       "      <th>text</th>\n",
       "      <th>hashtags</th>\n",
       "      <th>source</th>\n",
       "      <th>is_retweet</th>\n",
       "    </tr>\n",
       "  </thead>\n",
       "  <tbody>\n",
       "    <tr>\n",
       "      <th>0</th>\n",
       "      <td>DeSota Wilson</td>\n",
       "      <td>Atlanta, GA</td>\n",
       "      <td>Biz Consultant, real estate, fintech, startups...</td>\n",
       "      <td>2009-04-26 20:05:09</td>\n",
       "      <td>8534.0</td>\n",
       "      <td>7605</td>\n",
       "      <td>4838</td>\n",
       "      <td>False</td>\n",
       "      <td>2021-02-10 23:59:04</td>\n",
       "      <td>Blue Ridge Bank shares halted by NYSE after #b...</td>\n",
       "      <td>['bitcoin']</td>\n",
       "      <td>Twitter Web App</td>\n",
       "      <td>False</td>\n",
       "    </tr>\n",
       "    <tr>\n",
       "      <th>1</th>\n",
       "      <td>CryptoND</td>\n",
       "      <td>NaN</td>\n",
       "      <td>😎 BITCOINLIVE is a Dutch platform aimed at inf...</td>\n",
       "      <td>2019-10-17 20:12:10</td>\n",
       "      <td>6769.0</td>\n",
       "      <td>1532</td>\n",
       "      <td>25483</td>\n",
       "      <td>False</td>\n",
       "      <td>2021-02-10 23:58:48</td>\n",
       "      <td>😎 Today, that's this #Thursday, we will do a \"...</td>\n",
       "      <td>['Thursday', 'Btc', 'wallet', 'security']</td>\n",
       "      <td>Twitter for Android</td>\n",
       "      <td>False</td>\n",
       "    </tr>\n",
       "    <tr>\n",
       "      <th>2</th>\n",
       "      <td>Tdlmatias</td>\n",
       "      <td>London, England</td>\n",
       "      <td>IM Academy : The best #forex, #SelfEducation, ...</td>\n",
       "      <td>2014-11-10 10:50:37</td>\n",
       "      <td>128.0</td>\n",
       "      <td>332</td>\n",
       "      <td>924</td>\n",
       "      <td>False</td>\n",
       "      <td>2021-02-10 23:54:48</td>\n",
       "      <td>Guys evening, I have read this article about B...</td>\n",
       "      <td>NaN</td>\n",
       "      <td>Twitter Web App</td>\n",
       "      <td>False</td>\n",
       "    </tr>\n",
       "    <tr>\n",
       "      <th>3</th>\n",
       "      <td>Crypto is the future</td>\n",
       "      <td>NaN</td>\n",
       "      <td>I will post a lot of buying signals for BTC tr...</td>\n",
       "      <td>2019-09-28 16:48:12</td>\n",
       "      <td>625.0</td>\n",
       "      <td>129</td>\n",
       "      <td>14</td>\n",
       "      <td>False</td>\n",
       "      <td>2021-02-10 23:54:33</td>\n",
       "      <td>$BTC A big chance in a billion! Price: \\487264...</td>\n",
       "      <td>['Bitcoin', 'FX', 'BTC', 'crypto']</td>\n",
       "      <td>dlvr.it</td>\n",
       "      <td>False</td>\n",
       "    </tr>\n",
       "    <tr>\n",
       "      <th>4</th>\n",
       "      <td>Alex Kirchmaier 🇦🇹🇸🇪 #FactsSuperspreader</td>\n",
       "      <td>Europa</td>\n",
       "      <td>Co-founder @RENJERJerky | Forbes 30Under30 | I...</td>\n",
       "      <td>2016-02-03 13:15:55</td>\n",
       "      <td>1249.0</td>\n",
       "      <td>1472</td>\n",
       "      <td>10482</td>\n",
       "      <td>False</td>\n",
       "      <td>2021-02-10 23:54:06</td>\n",
       "      <td>This network is secured by 9 508 nodes as of t...</td>\n",
       "      <td>['BTC']</td>\n",
       "      <td>Twitter Web App</td>\n",
       "      <td>False</td>\n",
       "    </tr>\n",
       "  </tbody>\n",
       "</table>\n",
       "</div>"
      ],
      "text/plain": [
       "                                  user_name    user_location  \\\n",
       "0                             DeSota Wilson      Atlanta, GA   \n",
       "1                                  CryptoND              NaN   \n",
       "2                                 Tdlmatias  London, England   \n",
       "3                      Crypto is the future              NaN   \n",
       "4  Alex Kirchmaier 🇦🇹🇸🇪 #FactsSuperspreader           Europa   \n",
       "\n",
       "                                    user_description         user_created  \\\n",
       "0  Biz Consultant, real estate, fintech, startups...  2009-04-26 20:05:09   \n",
       "1  😎 BITCOINLIVE is a Dutch platform aimed at inf...  2019-10-17 20:12:10   \n",
       "2  IM Academy : The best #forex, #SelfEducation, ...  2014-11-10 10:50:37   \n",
       "3  I will post a lot of buying signals for BTC tr...  2019-09-28 16:48:12   \n",
       "4  Co-founder @RENJERJerky | Forbes 30Under30 | I...  2016-02-03 13:15:55   \n",
       "\n",
       "   user_followers user_friends user_favourites user_verified  \\\n",
       "0          8534.0         7605            4838         False   \n",
       "1          6769.0         1532           25483         False   \n",
       "2           128.0          332             924         False   \n",
       "3           625.0          129              14         False   \n",
       "4          1249.0         1472           10482         False   \n",
       "\n",
       "                  date                                               text  \\\n",
       "0  2021-02-10 23:59:04  Blue Ridge Bank shares halted by NYSE after #b...   \n",
       "1  2021-02-10 23:58:48  😎 Today, that's this #Thursday, we will do a \"...   \n",
       "2  2021-02-10 23:54:48  Guys evening, I have read this article about B...   \n",
       "3  2021-02-10 23:54:33  $BTC A big chance in a billion! Price: \\487264...   \n",
       "4  2021-02-10 23:54:06  This network is secured by 9 508 nodes as of t...   \n",
       "\n",
       "                                    hashtags               source is_retweet  \n",
       "0                                ['bitcoin']      Twitter Web App      False  \n",
       "1  ['Thursday', 'Btc', 'wallet', 'security']  Twitter for Android      False  \n",
       "2                                        NaN      Twitter Web App      False  \n",
       "3         ['Bitcoin', 'FX', 'BTC', 'crypto']              dlvr.it      False  \n",
       "4                                    ['BTC']      Twitter Web App      False  "
      ]
     },
     "execution_count": 100,
     "metadata": {},
     "output_type": "execute_result"
    }
   ],
   "source": [
    "df_raw = pd.read_csv(tweets_raw_file,low_memory=False)\n",
    "print(df_raw.shape)\n",
    "df_raw.head(5)"
   ]
  },
  {
   "cell_type": "code",
   "execution_count": 101,
   "id": "447d3d27-ca97-4952-a87c-a1c179c2c9dc",
   "metadata": {},
   "outputs": [
    {
     "data": {
      "text/plain": [
       "Timestamp('2022-01-22 23:49:55')"
      ]
     },
     "execution_count": 101,
     "metadata": {},
     "output_type": "execute_result"
    }
   ],
   "source": [
    "tweets.date.max()"
   ]
  },
  {
   "cell_type": "code",
   "execution_count": 56,
   "id": "2a408e80-eb2f-4fb4-ba68-6e8948d4b862",
   "metadata": {},
   "outputs": [
    {
     "name": "stderr",
     "output_type": "stream",
     "text": [
      "100%|███████████████████████████████████████████████████████████████████████████| 22598/22598 [00:27<00:00, 820.43it/s]\n"
     ]
    }
   ],
   "source": [
    "# clean df \n",
    "# d = pd.read_csv(tweets_raw_file)\n",
    "df_raw = df_raw.sort_values(by = 'date')\n",
    "dd = df_raw.sample(frac=0.01, replace=False, random_state=1)\n",
    "dd.reset_index(inplace=True)\n",
    "for i,s in enumerate(tqdm(dd['text'],position=0, leave=True)):\n",
    "    text = str(dd.loc[i, 'text'])\n",
    "    text = text.replace(\"#\", \"\")\n",
    "    text = re.sub('https?://(?:[-\\w.]|(?:%[\\da-fA-F]{2}))+', '', text, flags=re.MULTILINE)\n",
    "    text = re.sub('@\\\\w+ *', '', text, flags=re.MULTILINE)\n",
    "    dd.loc[i, 'text'] = text\n",
    "# f = open(tweets_clean_file, 'a+', encoding='utf-8')\n",
    "dd.to_csv(tweets_clean_file, header=True, encoding='utf-8',index=False)"
   ]
  },
  {
   "cell_type": "markdown",
   "id": "7a614394-d8d9-406d-881c-4b8a4f2925c8",
   "metadata": {},
   "source": [
    "## Sentiment anatweets_clean_fileh Vader\n",
    "VADER (Valence Aware Dictionary and sEntiment Reasoner) is a lexicon and rule-based sentiment analysis tool that is specifically attuned to sentiments expressed in social media.\n",
    "\n",
    "VADER takes into account\n",
    "\n",
    "negations and contractions (not good, wasn’t good)\n",
    "Punctuation (good!!!), CAPS, emotes :), emojis\n",
    "Intensificators (very, kind of), acronyms ‘lol’\n",
    "Scores between -1.0 (negative) and 1.0 (positive)\n",
    "\n",
    "We will use this sentiment analysis of the tweets to calculate a score that will represent the importance of each tweet."
   ]
  },
  {
   "cell_type": "code",
   "execution_count": 57,
   "id": "376fc9d5-5709-4d7c-bb73-1afc7acfbbe6",
   "metadata": {},
   "outputs": [],
   "source": [
    "df_clean = pd.read_csv(tweets_clean_file)\n",
    "# df_clean = dd.copy()"
   ]
  },
  {
   "cell_type": "code",
   "execution_count": 60,
   "id": "4ed13674-6d7a-4be2-95e5-c4ec3f1b17e3",
   "metadata": {},
   "outputs": [
    {
     "name": "stderr",
     "output_type": "stream",
     "text": [
      "100%|██████████████████████████████████████████████████████████████████████████| 22598/22598 [00:02<00:00, 9048.16it/s]\n"
     ]
    },
    {
     "data": {
      "text/html": [
       "<div>\n",
       "<style scoped>\n",
       "    .dataframe tbody tr th:only-of-type {\n",
       "        vertical-align: middle;\n",
       "    }\n",
       "\n",
       "    .dataframe tbody tr th {\n",
       "        vertical-align: top;\n",
       "    }\n",
       "\n",
       "    .dataframe thead th {\n",
       "        text-align: right;\n",
       "    }\n",
       "</style>\n",
       "<table border=\"1\" class=\"dataframe\">\n",
       "  <thead>\n",
       "    <tr style=\"text-align: right;\">\n",
       "      <th></th>\n",
       "      <th>index</th>\n",
       "      <th>user_name</th>\n",
       "      <th>user_location</th>\n",
       "      <th>user_description</th>\n",
       "      <th>user_created</th>\n",
       "      <th>user_followers</th>\n",
       "      <th>user_friends</th>\n",
       "      <th>user_favourites</th>\n",
       "      <th>user_verified</th>\n",
       "      <th>date</th>\n",
       "      <th>text</th>\n",
       "      <th>hashtags</th>\n",
       "      <th>source</th>\n",
       "      <th>is_retweet</th>\n",
       "      <th>compound</th>\n",
       "    </tr>\n",
       "  </thead>\n",
       "  <tbody>\n",
       "    <tr>\n",
       "      <th>0</th>\n",
       "      <td>195760</td>\n",
       "      <td>محمد</td>\n",
       "      <td>esfahan</td>\n",
       "      <td>‏‏‏خودت رو به خودت ثابت کن،نه به دیگران</td>\n",
       "      <td>2021-01-02 19:08:56</td>\n",
       "      <td>616.0</td>\n",
       "      <td>1683.0</td>\n",
       "      <td>1712.0</td>\n",
       "      <td>False</td>\n",
       "      <td>2021-06-22 05:22:52</td>\n",
       "      <td>nice project \\n\\n\\n\\n\\n\\nortcoin ort okratech ...</td>\n",
       "      <td>['ortcoin', 'ort', 'okratech', 'bitcoin', 'air...</td>\n",
       "      <td>Twitter for Android</td>\n",
       "      <td>False</td>\n",
       "      <td>0.5994</td>\n",
       "    </tr>\n",
       "    <tr>\n",
       "      <th>1</th>\n",
       "      <td>1135874</td>\n",
       "      <td>Crypto Revolution Merchandise 💚</td>\n",
       "      <td>NaN</td>\n",
       "      <td>Crypto Revolution the Wave of change 👊😎👊 Not y...</td>\n",
       "      <td>2019-10-13 06:16:05</td>\n",
       "      <td>451.0</td>\n",
       "      <td>2045.0</td>\n",
       "      <td>45077.0</td>\n",
       "      <td>False</td>\n",
       "      <td>2021-08-25 07:06:40</td>\n",
       "      <td>Long Bitcoin short the banks 🧐</td>\n",
       "      <td>['Bitcoin']</td>\n",
       "      <td>Twitter Web App</td>\n",
       "      <td>False</td>\n",
       "      <td>0.0000</td>\n",
       "    </tr>\n",
       "  </tbody>\n",
       "</table>\n",
       "</div>"
      ],
      "text/plain": [
       "     index                        user_name user_location  \\\n",
       "0   195760                             محمد       esfahan   \n",
       "1  1135874  Crypto Revolution Merchandise 💚           NaN   \n",
       "\n",
       "                                    user_description         user_created  \\\n",
       "0            ‏‏‏خودت رو به خودت ثابت کن،نه به دیگران  2021-01-02 19:08:56   \n",
       "1  Crypto Revolution the Wave of change 👊😎👊 Not y...  2019-10-13 06:16:05   \n",
       "\n",
       "   user_followers  user_friends  user_favourites user_verified  \\\n",
       "0           616.0        1683.0           1712.0         False   \n",
       "1           451.0        2045.0          45077.0         False   \n",
       "\n",
       "                  date                                               text  \\\n",
       "0  2021-06-22 05:22:52  nice project \\n\\n\\n\\n\\n\\nortcoin ort okratech ...   \n",
       "1  2021-08-25 07:06:40                     Long Bitcoin short the banks 🧐   \n",
       "\n",
       "                                            hashtags               source  \\\n",
       "0  ['ortcoin', 'ort', 'okratech', 'bitcoin', 'air...  Twitter for Android   \n",
       "1                                        ['Bitcoin']      Twitter Web App   \n",
       "\n",
       "  is_retweet  compound  \n",
       "0      False    0.5994  \n",
       "1      False    0.0000  "
      ]
     },
     "execution_count": 60,
     "metadata": {},
     "output_type": "execute_result"
    }
   ],
   "source": [
    "analyzer = SentimentIntensityAnalyzer()\n",
    "compound = []\n",
    "for i,s in enumerate(tqdm(df_clean['text'],position=0, leave=True)):\n",
    "    # print(i,s)\n",
    "    vs = analyzer.polarity_scores(str(s))\n",
    "    compound.append(vs[\"compound\"])\n",
    "df_clean[\"compound\"] = compound\n",
    "df_clean.head(2)"
   ]
  },
  {
   "cell_type": "markdown",
   "id": "4faa731d-57e0-4a11-ac20-8b373104586e",
   "metadata": {},
   "source": [
    "## Calculate a score for each tweet\n",
    "To calculate the score for each tweet, we use different variables to which we had a weight based on its importance.\n",
    "\n",
    "The compound column represents the sentiment of the tweets and its value is between -1 and 1.\n",
    "\n",
    "We also use the number of retweets, the number of likes, and the number of users that follow the tweet's author."
   ]
  },
  {
   "cell_type": "code",
   "execution_count": 72,
   "id": "2b64f798-3532-4b30-a7b1-7522e99d4581",
   "metadata": {},
   "outputs": [
    {
     "name": "stderr",
     "output_type": "stream",
     "text": [
      "100%|█████████████████████████████████████████████████████████████████████████| 22598/22598 [00:00<00:00, 23781.55it/s]\n"
     ]
    },
    {
     "data": {
      "text/html": [
       "<div>\n",
       "<style scoped>\n",
       "    .dataframe tbody tr th:only-of-type {\n",
       "        vertical-align: middle;\n",
       "    }\n",
       "\n",
       "    .dataframe tbody tr th {\n",
       "        vertical-align: top;\n",
       "    }\n",
       "\n",
       "    .dataframe thead th {\n",
       "        text-align: right;\n",
       "    }\n",
       "</style>\n",
       "<table border=\"1\" class=\"dataframe\">\n",
       "  <thead>\n",
       "    <tr style=\"text-align: right;\">\n",
       "      <th></th>\n",
       "      <th>index</th>\n",
       "      <th>user_name</th>\n",
       "      <th>user_location</th>\n",
       "      <th>user_description</th>\n",
       "      <th>user_created</th>\n",
       "      <th>user_followers</th>\n",
       "      <th>user_friends</th>\n",
       "      <th>user_favourites</th>\n",
       "      <th>user_verified</th>\n",
       "      <th>date</th>\n",
       "      <th>text</th>\n",
       "      <th>hashtags</th>\n",
       "      <th>source</th>\n",
       "      <th>is_retweet</th>\n",
       "      <th>compound</th>\n",
       "      <th>score</th>\n",
       "    </tr>\n",
       "  </thead>\n",
       "  <tbody>\n",
       "    <tr>\n",
       "      <th>0</th>\n",
       "      <td>195760</td>\n",
       "      <td>محمد</td>\n",
       "      <td>esfahan</td>\n",
       "      <td>‏‏‏خودت رو به خودت ثابت کن،نه به دیگران</td>\n",
       "      <td>2021-01-02 19:08:56</td>\n",
       "      <td>616.0</td>\n",
       "      <td>1683.0</td>\n",
       "      <td>1712.0</td>\n",
       "      <td>False</td>\n",
       "      <td>2021-06-22 05:22:52</td>\n",
       "      <td>nice project \\n\\n\\n\\n\\n\\nortcoin ort okratech ...</td>\n",
       "      <td>['ortcoin', 'ort', 'okratech', 'bitcoin', 'air...</td>\n",
       "      <td>Twitter for Android</td>\n",
       "      <td>False</td>\n",
       "      <td>0.5994</td>\n",
       "      <td>1025.108064</td>\n",
       "    </tr>\n",
       "    <tr>\n",
       "      <th>1</th>\n",
       "      <td>1135874</td>\n",
       "      <td>Crypto Revolution Merchandise 💚</td>\n",
       "      <td>NaN</td>\n",
       "      <td>Crypto Revolution the Wave of change 👊😎👊 Not y...</td>\n",
       "      <td>2019-10-13 06:16:05</td>\n",
       "      <td>451.0</td>\n",
       "      <td>2045.0</td>\n",
       "      <td>45077.0</td>\n",
       "      <td>False</td>\n",
       "      <td>2021-08-25 07:06:40</td>\n",
       "      <td>Long Bitcoin short the banks 🧐</td>\n",
       "      <td>['Bitcoin']</td>\n",
       "      <td>Twitter Web App</td>\n",
       "      <td>False</td>\n",
       "      <td>0.0000</td>\n",
       "      <td>0.000000</td>\n",
       "    </tr>\n",
       "  </tbody>\n",
       "</table>\n",
       "</div>"
      ],
      "text/plain": [
       "     index                        user_name user_location  \\\n",
       "0   195760                             محمد       esfahan   \n",
       "1  1135874  Crypto Revolution Merchandise 💚           NaN   \n",
       "\n",
       "                                    user_description         user_created  \\\n",
       "0            ‏‏‏خودت رو به خودت ثابت کن،نه به دیگران  2021-01-02 19:08:56   \n",
       "1  Crypto Revolution the Wave of change 👊😎👊 Not y...  2019-10-13 06:16:05   \n",
       "\n",
       "   user_followers  user_friends  user_favourites user_verified  \\\n",
       "0           616.0        1683.0           1712.0         False   \n",
       "1           451.0        2045.0          45077.0         False   \n",
       "\n",
       "                  date                                               text  \\\n",
       "0  2021-06-22 05:22:52  nice project \\n\\n\\n\\n\\n\\nortcoin ort okratech ...   \n",
       "1  2021-08-25 07:06:40                     Long Bitcoin short the banks 🧐   \n",
       "\n",
       "                                            hashtags               source  \\\n",
       "0  ['ortcoin', 'ort', 'okratech', 'bitcoin', 'air...  Twitter for Android   \n",
       "1                                        ['Bitcoin']      Twitter Web App   \n",
       "\n",
       "  is_retweet  compound        score  \n",
       "0      False    0.5994  1025.108064  \n",
       "1      False    0.0000     0.000000  "
      ]
     },
     "execution_count": 72,
     "metadata": {},
     "output_type": "execute_result"
    }
   ],
   "source": [
    "scores = []\n",
    "for i, s in tqdm(df_clean.iterrows(), total=df_clean.shape[0],position=0, leave=True):\n",
    "    try:\n",
    "        scores.append(s[\"compound\"] * ((int(s[\"user_followers\"]))) * ((int(s[\"user_favourites\"])+1)/int(s['user_followers']+1)) *((int(s[\"is_retweet\"])+1)))\n",
    "    except:\n",
    "        scores.append(np.nan)\n",
    "df_clean[\"score\"] = scores\n",
    "df_clean.head(2)"
   ]
  },
  {
   "cell_type": "code",
   "execution_count": 73,
   "id": "cf656c8d-7071-49c6-914d-d50c4af5b78f",
   "metadata": {},
   "outputs": [
    {
     "data": {
      "text/plain": [
       "array([1025.10806353,    0.        ,  254.96011343, ...,    0.        ,\n",
       "        300.47136   ,   20.88318057])"
      ]
     },
     "execution_count": 73,
     "metadata": {},
     "output_type": "execute_result"
    }
   ],
   "source": [
    "df_clean['score'].values"
   ]
  },
  {
   "cell_type": "code",
   "execution_count": 74,
   "id": "d0b99656-a519-4a8a-a380-e994ee9324ed",
   "metadata": {},
   "outputs": [
    {
     "data": {
      "text/plain": [
       "(array([1.000e+00, 1.000e+00, 5.000e+00, 1.600e+01, 9.300e+01, 2.212e+04,\n",
       "        2.890e+02, 5.200e+01, 9.000e+00, 9.000e+00]),\n",
       " array([-27.0476538 , -22.14891035, -17.2501669 , -12.35142346,\n",
       "         -7.45268001,  -2.55393657,   2.34480688,   7.24355032,\n",
       "         12.14229377,  17.04103721,  21.93978066]),\n",
       " <BarContainer object of 10 artists>)"
      ]
     },
     "execution_count": 74,
     "metadata": {},
     "output_type": "execute_result"
    },
    {
     "data": {
      "image/png": "[encoded data removed]",
      "text/plain": [
       "<Figure size 432x288 with 1 Axes>"
      ]
     },
     "metadata": {
      "needs_background": "light"
     },
     "output_type": "display_data"
    }
   ],
   "source": [
    "min_max_scaler = preprocessing.StandardScaler()\n",
    "x_scaled = min_max_scaler.fit_transform(df_clean['score'].values.reshape(-1,1))\n",
    "plt.hist(x_scaled,bins=10)"
   ]
  },
  {
   "cell_type": "markdown",
   "id": "3f709741-e92d-4156-8db5-4a439df2af43",
   "metadata": {},
   "source": [
    "## read Bitcoin price"
   ]
  },
  {
   "cell_type": "code",
   "execution_count": 75,
   "id": "da67ddf9-4f61-4dc8-b13f-775ae1dccc85",
   "metadata": {},
   "outputs": [
    {
     "data": {
      "text/html": [
       "<div>\n",
       "<style scoped>\n",
       "    .dataframe tbody tr th:only-of-type {\n",
       "        vertical-align: middle;\n",
       "    }\n",
       "\n",
       "    .dataframe tbody tr th {\n",
       "        vertical-align: top;\n",
       "    }\n",
       "\n",
       "    .dataframe thead th {\n",
       "        text-align: right;\n",
       "    }\n",
       "</style>\n",
       "<table border=\"1\" class=\"dataframe\">\n",
       "  <thead>\n",
       "    <tr style=\"text-align: right;\">\n",
       "      <th></th>\n",
       "      <th>Timestamp</th>\n",
       "      <th>Open</th>\n",
       "      <th>High</th>\n",
       "      <th>Low</th>\n",
       "      <th>Close</th>\n",
       "      <th>Volume_(BTC)</th>\n",
       "      <th>Volume_(Currency)</th>\n",
       "      <th>Weighted_Price</th>\n",
       "    </tr>\n",
       "  </thead>\n",
       "  <tbody>\n",
       "    <tr>\n",
       "      <th>0</th>\n",
       "      <td>2011-12-31 07:52:00</td>\n",
       "      <td>4.39</td>\n",
       "      <td>4.39</td>\n",
       "      <td>4.39</td>\n",
       "      <td>4.39</td>\n",
       "      <td>0.455581</td>\n",
       "      <td>2.0</td>\n",
       "      <td>4.39</td>\n",
       "    </tr>\n",
       "    <tr>\n",
       "      <th>1</th>\n",
       "      <td>2011-12-31 07:53:00</td>\n",
       "      <td>NaN</td>\n",
       "      <td>NaN</td>\n",
       "      <td>NaN</td>\n",
       "      <td>NaN</td>\n",
       "      <td>NaN</td>\n",
       "      <td>NaN</td>\n",
       "      <td>NaN</td>\n",
       "    </tr>\n",
       "  </tbody>\n",
       "</table>\n",
       "</div>"
      ],
      "text/plain": [
       "            Timestamp  Open  High   Low  Close  Volume_(BTC)  \\\n",
       "0 2011-12-31 07:52:00  4.39  4.39  4.39   4.39      0.455581   \n",
       "1 2011-12-31 07:53:00   NaN   NaN   NaN    NaN           NaN   \n",
       "\n",
       "   Volume_(Currency)  Weighted_Price  \n",
       "0                2.0            4.39  \n",
       "1                NaN             NaN  "
      ]
     },
     "execution_count": 75,
     "metadata": {},
     "output_type": "execute_result"
    }
   ],
   "source": [
    "df_price = pd.read_csv(bit_price_file)\n",
    "df_price.Timestamp = pd.to_datetime(df_price.Timestamp,unit='s')\n",
    "df_price.head(2)"
   ]
  },
  {
   "cell_type": "code",
   "execution_count": 76,
   "id": "d2ef9974-bfcd-491a-ae73-9ad06675a802",
   "metadata": {},
   "outputs": [],
   "source": [
    "# sentiment analysis \n",
    "df_clean = df_clean.drop_duplicates()\n",
    "tweets = df_clean.copy()\n",
    "tweets['date'] = pd.to_datetime(tweets['date'],utc=True)\n",
    "tweets.date = tweets.date.dt.tz_localize(None)\n",
    "tweets.index = tweets['date']\n",
    "\n",
    "# tweets_grouped = tweets.groupby(pd.TimeGrouper('1h'))['score'].sum()\n",
    "tweets_grouped = tweets.resample('1h').sum()\n",
    "\n",
    "crypto_usd = df_price.copy()\n",
    "crypto_usd['Timestamp'] = pd.to_datetime(crypto_usd['Timestamp'], unit='s')\n",
    "crypto_usd.index = crypto_usd['Timestamp']\n",
    "\n",
    "# crypto_usd_grouped = crypto_usd.groupby(pd.TimeGrouper('1h'))['Weighted_Price'].mean()\n",
    "crypto_usd_grouped = crypto_usd.resample('1h')['Weighted_Price'].mean()"
   ]
  },
  {
   "cell_type": "code",
   "execution_count": 97,
   "id": "edb19ec6-9bd7-4f1f-b03e-33a5c4ed3eba",
   "metadata": {},
   "outputs": [
    {
     "data": {
      "image/png": "[encoded data removed]",
      "text/plain": [
       "<Figure size 1440x720 with 2 Axes>"
      ]
     },
     "metadata": {
      "needs_background": "light"
     },
     "output_type": "display_data"
    }
   ],
   "source": [
    "date1, date2 = pd.to_datetime('2021-01-01'),pd.to_datetime('2022-01-2')\n",
    "fig, ax1 = plt.subplots(figsize=(20,10))\n",
    "ax1.set_title(\"Crypto currency evolution compared to twitter sentiment\", fontsize=18)\n",
    "ax1.tick_params(labelsize=14)\n",
    "ax1.axis(xmin = date1,xmax = date2)\n",
    "\n",
    "ax2 = ax1.twinx()\n",
    "ax1.plot_date(tweets_grouped.index, tweets_grouped, 'g-')\n",
    "ax2.plot_date(crypto_usd_grouped.index, crypto_usd_grouped, 'b-')\n",
    "\n",
    "ax1.set_ylabel(\"Sentiment\", color='g', fontsize=16)\n",
    "ax2.set_ylabel(\"Bitcoin price\", color='b', fontsize=16)\n",
    "plt.show()"
   ]
  },
  {
   "cell_type": "code",
   "execution_count": null,
   "id": "4df6f44b-b2b7-4127-9031-dccf1d016978",
   "metadata": {},
   "outputs": [],
   "source": [
    "# from plotly.offline import init_notebook_mode, iplot\n",
    "# import plotly.graph_objs as go\n",
    "# def candelplot(df):\n",
    "#     trace = go.Candlestick(x=df.Timestamp,\n",
    "#                            open=df.Open,\n",
    "#                            high=df.High,\n",
    "#                            low=df.Low,\n",
    "#                            close=df.Close)\n",
    "#     data = [trace]\n",
    "#     layout = {\n",
    "#         'title': f\"Bitcoin currency\",\n",
    "#         'yaxis': {'title': 'Price USD'},\n",
    "#     }\n",
    "#     fig = dict(data=data, layout=layout)\n",
    "#     iplot(fig)\n",
    "# candelplot(df_price)"
   ]
  },
  {
   "cell_type": "code",
   "execution_count": null,
   "id": "1eb9d7a2-c01d-406e-b0db-b719f9f4221e",
   "metadata": {},
   "outputs": [],
   "source": []
  },
  {
   "cell_type": "code",
   "execution_count": null,
   "id": "8edf572c-d5c1-4005-acab-7a7016fda18d",
   "metadata": {},
   "outputs": [],
   "source": []
  }
 ],
 "metadata": {
  "kernelspec": {
   "display_name": "Python 3 (ipykernel)",
   "language": "python",
   "name": "python3"
  },
  "language_info": {
   "codemirror_mode": {
    "name": "ipython",
    "version": 3
   },
   "file_extension": ".py",
   "mimetype": "text/x-python",
   "name": "python",
   "nbconvert_exporter": "python",
   "pygments_lexer": "ipython3",
   "version": "3.9.7"
  }
 },
 "nbformat": 4,
 "nbformat_minor": 5
}
