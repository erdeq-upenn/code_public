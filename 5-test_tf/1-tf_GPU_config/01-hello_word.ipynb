{
 "cells": [
  {
   "cell_type": "markdown",
   "id": "e41337f6-b78c-49c9-8c75-e82a00d802ad",
   "metadata": {},
   "source": [
    "# 1. Simply create a 'hello world' piece with TF "
   ]
  },
  {
   "cell_type": "code",
   "execution_count": 2,
   "id": "80046ab7-db41-4636-8039-93456fa9201c",
   "metadata": {},
   "outputs": [
    {
     "name": "stdout",
     "output_type": "stream",
     "text": [
      "Epoch 1/5\n",
      "1875/1875 [==============================] - 1s 567us/step - loss: 0.2976 - accuracy: 0.9146\n",
      "Epoch 2/5\n",
      "1875/1875 [==============================] - 1s 560us/step - loss: 0.1447 - accuracy: 0.9568\n",
      "Epoch 3/5\n",
      "1875/1875 [==============================] - 1s 565us/step - loss: 0.1077 - accuracy: 0.9666\n",
      "Epoch 4/5\n",
      "1875/1875 [==============================] - 1s 559us/step - loss: 0.0869 - accuracy: 0.9729\n",
      "Epoch 5/5\n",
      "1875/1875 [==============================] - 1s 567us/step - loss: 0.0743 - accuracy: 0.9759\n",
      "313/313 [==============================] - 0s 478us/step - loss: 0.0769 - accuracy: 0.9776\n"
     ]
    },
    {
     "data": {
      "text/plain": [
       "[0.0768982544541359, 0.9775999784469604]"
      ]
     },
     "execution_count": 2,
     "metadata": {},
     "output_type": "execute_result"
    }
   ],
   "source": [
    "import tensorflow as tf\n",
    "mnist = tf.keras.datasets.mnist\n",
    "\n",
    "(x_train, y_train),(x_test, y_test) = mnist.load_data()\n",
    "x_train, x_test = x_train / 255.0, x_test / 255.0\n",
    "\n",
    "model = tf.keras.models.Sequential([\n",
    "  tf.keras.layers.Flatten(input_shape=(28, 28)),\n",
    "  tf.keras.layers.Dense(128, activation='relu'),\n",
    "  tf.keras.layers.Dropout(0.2),\n",
    "  tf.keras.layers.Dense(10, activation='softmax')\n",
    "])\n",
    "\n",
    "model.compile(optimizer='adam',\n",
    "              loss='sparse_categorical_crossentropy',\n",
    "              metrics=['accuracy'])\n",
    "\n",
    "model.fit(x_train, y_train, epochs=5)\n",
    "model.evaluate(x_test, y_test)"
   ]
  },
  {
   "cell_type": "markdown",
   "id": "2f85d314-f799-433f-9ee9-d0bbc4323db9",
   "metadata": {},
   "source": [
    "# 2. use TF in an object "
   ]
  },
  {
   "cell_type": "code",
   "execution_count": 37,
   "id": "ef522d2f-0723-48ad-9a44-201338e5e8db",
   "metadata": {},
   "outputs": [
    {
     "name": "stdout",
     "output_type": "stream",
     "text": [
      "TensorFlow version: 2.5.0\n"
     ]
    }
   ],
   "source": [
    "import tensorflow as tf\n",
    "print(\"TensorFlow version:\", tf.__version__)\n",
    "\n",
    "from tensorflow.keras.layers import Dense, Flatten, Conv2D\n",
    "from tensorflow.keras import Model"
   ]
  },
  {
   "cell_type": "code",
   "execution_count": 46,
   "id": "4096c2eb-b83b-4089-9eb0-ad3c880c7257",
   "metadata": {},
   "outputs": [],
   "source": [
    "mnist = tf.keras.datasets.mnist\n",
    "(x_train, y_train), (x_test, y_test) = mnist.load_data()\n",
    "x_train, x_test = x_train/255.0, x_test/255.0\n",
    "# Add a channels dimension\n",
    "x_train = x_train[..., tf.newaxis].astype(\"float32\")\n",
    "x_test = x_test[..., tf.newaxis].astype(\"float32\")"
   ]
  },
  {
   "cell_type": "code",
   "execution_count": 47,
   "id": "88fe0ef2-e41e-4a41-acdb-ac859c5900ad",
   "metadata": {},
   "outputs": [],
   "source": [
    "train_ds = tf.data.Dataset.from_tensor_slices(\n",
    "    (x_train, y_train)).shuffle(10000).batch(32)\n",
    "\n",
    "test_ds = tf.data.Dataset.from_tensor_slices((x_test, y_test)).batch(32)"
   ]
  },
  {
   "cell_type": "markdown",
   "id": "31f37698-4d21-4a66-b1b8-08355da97c6f",
   "metadata": {},
   "source": [
    "build mymodel "
   ]
  },
  {
   "cell_type": "code",
   "execution_count": 48,
   "id": "df3478c0-afdc-40a3-8f41-b0f8bb889e5b",
   "metadata": {},
   "outputs": [],
   "source": [
    "class MyModel(Model):\n",
    "  def __init__(self):\n",
    "    super(MyModel, self).__init__()\n",
    "    self.conv1 = Conv2D(32, 3, activation='relu')\n",
    "    self.flatten = Flatten()\n",
    "    self.d1 = Dense(128, activation='relu')\n",
    "    self.d2 = Dense(10)\n",
    "\n",
    "  def call(self, x):\n",
    "    x = self.conv1(x)\n",
    "    x = self.flatten(x)\n",
    "    x = self.d1(x)\n",
    "    return self.d2(x)\n",
    "\n",
    "# Create an instance of the model\n",
    "model = MyModel()"
   ]
  },
  {
   "cell_type": "code",
   "execution_count": 49,
   "id": "3ef7c31b-bf0c-441d-a472-01ab24cd71f2",
   "metadata": {},
   "outputs": [],
   "source": [
    "loss_object = tf.keras.losses.SparseCategoricalCrossentropy(from_logits=True)\n",
    "optimizer = tf.keras.optimizers.Adam()"
   ]
  },
  {
   "cell_type": "code",
   "execution_count": 50,
   "id": "530c41c5-01a8-4b85-8283-2ea18db37a5a",
   "metadata": {},
   "outputs": [],
   "source": [
    "train_loss = tf.keras.metrics.Mean(name='train_loss')\n",
    "train_accuracy = tf.keras.metrics.SparseCategoricalAccuracy(name='train_accuracy')\n",
    "\n",
    "test_loss = tf.keras.metrics.Mean(name='test_loss')\n",
    "test_accuracy = tf.keras.metrics.SparseCategoricalAccuracy(name='test_accuracy')"
   ]
  },
  {
   "cell_type": "code",
   "execution_count": 51,
   "id": "19c907d4-0dfe-4dea-a749-4daa918c49ff",
   "metadata": {},
   "outputs": [],
   "source": [
    "@tf.function\n",
    "def train_step(images, labels):\n",
    "  with tf.GradientTape() as tape:\n",
    "    # training=True is only needed if there are layers with different\n",
    "    # behavior during training versus inference (e.g. Dropout).\n",
    "    predictions = model(images, training=True)\n",
    "    loss = loss_object(labels, predictions)\n",
    "  gradients = tape.gradient(loss, model.trainable_variables)\n",
    "  optimizer.apply_gradients(zip(gradients, model.trainable_variables))\n",
    "\n",
    "  train_loss(loss)\n",
    "  train_accuracy(labels, predictions)"
   ]
  },
  {
   "cell_type": "markdown",
   "id": "5cdb7ca9-c75d-4869-b7f8-1b176c39a87c",
   "metadata": {},
   "source": [
    "test the model "
   ]
  },
  {
   "cell_type": "code",
   "execution_count": 52,
   "id": "1c2d08cb-a54e-487d-ba81-99a75bfc0d63",
   "metadata": {},
   "outputs": [],
   "source": [
    "@tf.function\n",
    "def test_step(images, labels):\n",
    "  # training=False is only needed if there are layers with different\n",
    "  # behavior during training versus inference (e.g. Dropout).\n",
    "  predictions = model(images, training=False)\n",
    "  t_loss = loss_object(labels, predictions)\n",
    "\n",
    "  test_loss(t_loss)\n",
    "  test_accuracy(labels, predictions)"
   ]
  },
  {
   "cell_type": "markdown",
   "id": "e48b8727-c879-408c-907e-61a3abf36edf",
   "metadata": {},
   "source": [
    "excuting model "
   ]
  },
  {
   "cell_type": "code",
   "execution_count": 53,
   "id": "7d3e2f63-1bbc-4aa5-a8d1-900bb8e2f369",
   "metadata": {},
   "outputs": [
    {
     "name": "stdout",
     "output_type": "stream",
     "text": [
      "Epoch 1, Loss: 0.13001729547977448, Accuracy: 96.07666778564453, Test Loss: 0.054815083742141724, Test Accuracy: 98.18999481201172\n",
      "Epoch 2, Loss: 0.0402606725692749, Accuracy: 98.7550048828125, Test Loss: 0.05010080710053444, Test Accuracy: 98.43999481201172\n",
      "Epoch 3, Loss: 0.02053072303533554, Accuracy: 99.35832977294922, Test Loss: 0.05202823504805565, Test Accuracy: 98.37999725341797\n",
      "Epoch 4, Loss: 0.0127144455909729, Accuracy: 99.59666442871094, Test Loss: 0.05823410302400589, Test Accuracy: 98.3699951171875\n",
      "Epoch 5, Loss: 0.009423176757991314, Accuracy: 99.6683349609375, Test Loss: 0.07018713653087616, Test Accuracy: 98.16999816894531\n"
     ]
    }
   ],
   "source": [
    "EPOCHS = 5\n",
    "\n",
    "for epoch in range(EPOCHS):\n",
    "  # Reset the metrics at the start of the next epoch\n",
    "  train_loss.reset_states()\n",
    "  train_accuracy.reset_states()\n",
    "  test_loss.reset_states()\n",
    "  test_accuracy.reset_states()\n",
    "\n",
    "  for images, labels in train_ds:\n",
    "    train_step(images, labels)\n",
    "\n",
    "  for test_images, test_labels in test_ds:\n",
    "    test_step(test_images, test_labels)\n",
    "\n",
    "  print(\n",
    "    f'Epoch {epoch + 1}, '\n",
    "    f'Loss: {train_loss.result()}, '\n",
    "    f'Accuracy: {train_accuracy.result() * 100}, '\n",
    "    f'Test Loss: {test_loss.result()}, '\n",
    "    f'Test Accuracy: {test_accuracy.result() * 100}'\n",
    "  )"
   ]
  },
  {
   "cell_type": "code",
   "execution_count": null,
   "id": "ecb5a8f2-0499-4632-8606-6d656bdc829d",
   "metadata": {},
   "outputs": [],
   "source": []
  }
 ],
 "metadata": {
  "kernelspec": {
   "display_name": "Python 3 (ipykernel)",
   "language": "python",
   "name": "python3"
  },
  "language_info": {
   "codemirror_mode": {
    "name": "ipython",
    "version": 3
   },
   "file_extension": ".py",
   "mimetype": "text/x-python",
   "name": "python",
   "nbconvert_exporter": "python",
   "pygments_lexer": "ipython3",
   "version": "3.9.7"
  }
 },
 "nbformat": 4,
 "nbformat_minor": 5
}
